{
 "cells": [
  {
   "cell_type": "code",
   "execution_count": 5,
   "metadata": {},
   "outputs": [],
   "source": [
    "import osmnx as ox\n",
    "import geopandas as gpd\n",
    "import pandas as pd \n",
    "import numpy as np\n",
    "\n",
    "\n",
    "class World(object):\n",
    "    \n",
    "    def __init__(self, geofile_name='datafiles/Buildings_Gangelt_MA_3.csv', from_file=False, number_of_locs=100):\n",
    "        self.from_file = from_file\n",
    "        self.geofile_name = geofile_name\n",
    "        self.number_of_locs = number_of_locs\n",
    "        \n",
    "        \n",
    "        if self.from_file:\n",
    "            self.locations = self.initialize_locs_from_file()\n",
    "        else:    \n",
    "            self.locations = self.initialize_locs_random()\n",
    "            \n",
    "        self.neighbourhoods = self.initialize_neighbourhoods()    \n",
    "            \n",
    "            \n",
    "\n",
    "    def initialize_locs_random(self):# orginal\n",
    "        locations = {}\n",
    "        for n in range(self.number_of_locs):\n",
    "            locations[n] = (Location(n, (n, 0), 'dummy_loc',1,1e-7))\n",
    "\n",
    "        locations[3] = Location(3, (3, 0), 'hospital',1,1e-7)\n",
    "        locations[0] = Location(0, (0, 0), 'hospital',1,1e-7)\n",
    "        return locations\n",
    "    \n",
    "    def initialize_locs_from_file(self):\n",
    "        locations = {}\n",
    "        self.df_buildings = pd.read_csv(self.geofile_name)\n",
    "        \n",
    "        #work_place = list(self.df_buildings['amenity'].unique())\\\n",
    "        #        +list(self.df_buildings['shop'].unique())\n",
    "        #healthcare = ['baby_hatch',\n",
    "         #            'clinic',\n",
    "         #            'dentist',\n",
    "         #            'doctors',\n",
    "         #            'hospital',\n",
    "          #           'nursing_home',\n",
    "          #           'pharmacy',\n",
    "          #           'social_facility']\n",
    "        #for x in healthcare:\n",
    "        #    while x in work_place: work_place.remove(x)    \n",
    "        #col_names=['amenity','shop']\n",
    "\n",
    "        \n",
    "        \n",
    "        for i,x in enumerate(self.df_buildings.index):\n",
    "            row = self.df_buildings.loc[x]\n",
    "            try:\n",
    "                if np.isnan(row['amenity']):\n",
    "                    building_type = 'residence'\n",
    "                else:\n",
    "                    building_type = row['amenity']\n",
    "            except:\n",
    "                building_type = row['amenity']\n",
    "\n",
    "            #building_type = location_settings(row[col_names],work_place, healthcare)  \n",
    "            locations[i] = Location(x, (row['building_coordinates_x'],row['building_coordinates_y']),\n",
    "                                    building_type,\n",
    "                                    row['neighbourhood'],\n",
    "                                    row['building_area'],)\n",
    "        return locations\n",
    "    \n",
    "    \n",
    "    def location_settings(building_lst, workplace:list, healthcare:list):\n",
    "        building_type = 'Residence'\n",
    "        if any(elem in healthcare for elem in building_lst):\n",
    "            building_type = 'Healthcare'\n",
    "        elif any(elem in workplace for elem in building_lst):\n",
    "            building_type = 'Economy'\n",
    "        return building_type\n",
    "    \n",
    "    def initialize_neighbourhoods(self):\n",
    "        neighbourhoods = {1: Neighbourhood(self.locations)}\n",
    "        return neighbourhoods\n",
    "    \n",
    "    \n",
    "    \n",
    "    \n",
    "class Location(object):\n",
    "    def __init__(self, ID, coordinates, location_type, neighbourhood, area, people_present=set(), location_factor=0.001): # runs good with 50 people and 10 infected and 5 location, add Neighbouhood_ID\n",
    "        self.ID = ID\n",
    "        self.people_present = people_present\n",
    "        self.location_factor = location_factor\n",
    "        self.coordinates = coordinates # () tuples\n",
    "        self.location_type = location_type # add 'hospital'\n",
    "        self.neighbourhood_ID = neighbourhood \n",
    "        self.distances = {}\n",
    "        self.ids_of_location_types = {} # loc_id : distance \n",
    "        \n",
    "class Neighbourhood(object):\n",
    "    def __init__(self, locations):\n",
    "        self.locations = locations\n",
    "        self.proximity_matrix = self.calculate_proximity_matrix()\n",
    "        self.ID = 1  # todo\n",
    "\n",
    "    def calculate_proximity_matrix(self):  # create distances\n",
    "        matrix = np.zeros((len(list(self.locations)), len(list(self.locations))))  # create\n",
    "\n",
    "        for i, x in enumerate(self.locations.values()):\n",
    "            ids = []\n",
    "            types = []\n",
    "            for k, y in enumerate(self.locations.values()):\n",
    "                ids.append(y.ID)\n",
    "                types.append(y.location_type)\n",
    "                matrix[i, k] = np.sqrt(\n",
    "                    (x.coordinates[0] - y.coordinates[0]) ** 2 + (x.coordinates[1] - y.coordinates[1]) ** 2)\n",
    "            x.distances = dict(zip(ids, list(matrix[i, :])))\n",
    "            location_types_in_neighbourhood = dict(zip(ids, types))\n",
    "            ids_of_location_types = {}\n",
    "\n",
    "            for t in list(set(list(location_types_in_neighbourhood.values()))):\n",
    "                l = [x for x in location_types_in_neighbourhood if location_types_in_neighbourhood[x] == t]\n",
    "                ids_of_location_types[t] = l\n",
    "            x.ids_of_location_types = ids_of_location_types\n",
    "\n",
    "        return matrix        \n"
   ]
  },
  {
   "cell_type": "code",
   "execution_count": 6,
   "metadata": {},
   "outputs": [],
   "source": [
    "w = World(from_file=True)"
   ]
  },
  {
   "cell_type": "code",
   "execution_count": null,
   "metadata": {},
   "outputs": [],
   "source": [
    "w.neighbourhoods"
   ]
  },
  {
   "cell_type": "code",
   "execution_count": null,
   "metadata": {
    "scrolled": true
   },
   "outputs": [],
   "source": [
    "for i in range (400):\n",
    "    print(w.locations[10].distances)"
   ]
  },
  {
   "cell_type": "code",
   "execution_count": null,
   "metadata": {
    "scrolled": true
   },
   "outputs": [],
   "source": [
    "df_buildings = pd.read_csv('datafiles/Buildings_Gangelt_MA_3.csv')\n",
    "gpd.read_file('datafiles/Buildings_Gangelt_MA_3.geojson')['amenity'].unique()"
   ]
  },
  {
   "cell_type": "code",
   "execution_count": null,
   "metadata": {},
   "outputs": [],
   "source": [
    "for x in df_buildings['amenity']:\n",
    "    try:\n",
    "        if np.isnan(x):\n",
    "            print('residence')\n",
    "    except:\n",
    "        print(x)"
   ]
  },
  {
   "cell_type": "code",
   "execution_count": null,
   "metadata": {},
   "outputs": [],
   "source": []
  },
  {
   "cell_type": "code",
   "execution_count": null,
   "metadata": {},
   "outputs": [],
   "source": [
    "world=World()"
   ]
  },
  {
   "cell_type": "code",
   "execution_count": null,
   "metadata": {},
   "outputs": [],
   "source": [
    "def location_settings(building_lst, workplace:list, healthcare:list):\n",
    "    building_type = 'Residence'\n",
    "    if any(elem in healthcare for elem in building_lst):\n",
    "        building_type = 'Healthcare'\n",
    "    elif any(elem in workplace for elem in building_lst):\n",
    "        building_type = 'Economy'\n",
    "    return building_type\n",
    "#r1 = gpd.read_file('datafiles/Buildings_Heinsberg.geojson')\n",
    "def initialize_locs(self):\n",
    "    locations = np.empty(len(df_buildings.index),dtype='object_')\n",
    "    \n",
    "    df_buildings = pd.read_csv('datafiles/Buildings_Gangelt_MA_3.csv')\n",
    "    #Id coordinates type\n",
    "    #Location()\n",
    "    work_place = list(df_buildings['amenity'].unique())\\\n",
    "                +list(df_buildings['shop'].unique())\n",
    "    healthcare = ['baby_hatch',\n",
    "                 'clinic',\n",
    "                 'dentist',\n",
    "                 'doctors',\n",
    "                 'hospital',\n",
    "                 'nursing_home',\n",
    "                 'pharmacy',\n",
    "                 'social_facility']\n",
    "    for x in healthcare:\n",
    "        while x in work_place: work_place.remove(x)    \n",
    "    col_names=['amenity','shop']\n",
    "    \n",
    "\n",
    "    for i,x in enumerate(df_buildings.index):\n",
    "        row = df_buildings.loc[x]\n",
    "        building_type = location_settings(row[col_names],work_place, healthcare)  \n",
    "        \n",
    "        locations[i] = Location(x, (row['building_coordinates_x'],row['building_coordinates_y']),building_type )\n",
    "    return locations"
   ]
  },
  {
   "cell_type": "code",
   "execution_count": null,
   "metadata": {},
   "outputs": [],
   "source": [
    "for loc in locations:\n",
    "    if loc.location_type == 'Healthcare':\n",
    "        print('health')"
   ]
  },
  {
   "cell_type": "code",
   "execution_count": null,
   "metadata": {},
   "outputs": [],
   "source": [
    "\n",
    "for x in df_buildings.index:\n",
    "    row = df_buildings.loc[x]\n",
    "    print()"
   ]
  }
 ],
 "metadata": {
  "kernelspec": {
   "display_name": "ox",
   "language": "python",
   "name": "ox"
  },
  "language_info": {
   "codemirror_mode": {
    "name": "ipython",
    "version": 3
   },
   "file_extension": ".py",
   "mimetype": "text/x-python",
   "name": "python",
   "nbconvert_exporter": "python",
   "pygments_lexer": "ipython3",
   "version": "3.8.2"
  }
 },
 "nbformat": 4,
 "nbformat_minor": 4
}
