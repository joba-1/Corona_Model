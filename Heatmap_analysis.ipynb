{
 "cells": [
  {
   "cell_type": "code",
   "execution_count": 1,
   "metadata": {},
   "outputs": [],
   "source": [
    "from virusPropagationModel import *\n",
    "%matplotlib inline\n",
    "import glob\n",
    "import os\n",
    "import matplotlib.pyplot as plt\n",
    "import pandas\n",
    "import time\n",
    "import numpy\n",
    "import math\n",
    "import scipy.sparse\n"
   ]
  },
  {
   "cell_type": "code",
   "execution_count": 2,
   "metadata": {},
   "outputs": [],
   "source": [
    "geopath = 'datafiles/'\n",
    "geofiles = {1:'Buildings_Bad_Feilnbach_MA_1.csv',\n",
    "            2:'Buildings_Bad_Feilnbach_MA_3.csv',\n",
    "            3:'Buildings_Gangelt_MA_3.csv',\n",
    "            4:'Buildings_Gangelt_MA_1.csv'}"
   ]
  },
  {
   "cell_type": "code",
   "execution_count": 3,
   "metadata": {},
   "outputs": [
    {
     "name": "stdout",
     "output_type": "stream",
     "text": [
      "Number of agents: 1053\n",
      "Distribution of initialized locations: {'hospital': 1, 'morgue': 1, 'work': 52, 'public': 17, 'school': 2, 'home': 490}\n"
     ]
    }
   ],
   "source": [
    "modeledWorld1 = ModeledPopulatedWorld(1000,8, world_from_file=True, geofile_name=geopath+geofiles[3], agent_agent_infection=True, input_schedules='schedules_v1')\n",
    "print('Number of agents: '+ str(modeledWorld1.number_of_people))\n",
    "print('Distribution of initialized locations: ' + str(modeledWorld1.get_distribution_of_location_types()))"
   ]
  },
  {
   "cell_type": "code",
   "execution_count": 4,
   "metadata": {},
   "outputs": [
    {
     "data": {
      "image/png": "[encoded data removed]",
      "text/plain": [
       "<Figure size 432x288 with 1 Axes>"
      ]
     },
     "metadata": {
      "needs_background": "light"
     },
     "output_type": "display_data"
    }
   ],
   "source": [
    "simulation1 = Simulation(modeledWorld1,3000,run_immediately=False)\n",
    "simulation1.simulate()\n",
    "simulation1.plot_status_timecourse()\n",
    "\n"
   ]
  },
  {
   "cell_type": "code",
   "execution_count": 5,
   "metadata": {},
   "outputs": [
    {
     "data": {
      "text/plain": [
       "{'hospital': 29.0,\n",
       " 'morgue': 0.0,\n",
       " 'work': 4.639999999999989,\n",
       " 'public': 20.999999999999932,\n",
       " 'school': 66.0,\n",
       " 'home': 0.5551020408163299}"
      ]
     },
     "execution_count": 5,
     "metadata": {},
     "output_type": "execute_result"
    }
   ],
   "source": [
    "simulation1.get_infections_per_location_type()"
   ]
  },
  {
   "cell_type": "code",
   "execution_count": 6,
   "metadata": {},
   "outputs": [
    {
     "name": "stderr",
     "output_type": "stream",
     "text": [
      "/Users/oliverbodeit/Desktop/corona_model6/virusPropagationModel.py:807: SettingWithCopyWarning: \n",
      "A value is trying to be set on a copy of a slice from a DataFrame.\n",
      "Try using .loc[row_indexer,col_indexer] = value instead\n",
      "\n",
      "See the caveats in the documentation: http://pandas.pydata.org/pandas-docs/stable/user_guide/indexing.html#returning-a-view-versus-a-copy\n",
      "  for i in list(infected_tc['h_ID'])]\n"
     ]
    }
   ],
   "source": [
    "hh_tot=simulation1.get_number_of_infected_households(time_span=[0, None], total=True)"
   ]
  },
  {
   "cell_type": "code",
   "execution_count": null,
   "metadata": {},
   "outputs": [],
   "source": [
    "hh_time_DF=simulation1.get_number_of_infected_households(time_span=[0, 400])\n",
    "\n",
    "plt.plot(hh_time_DF['time'],hh_time_DF['households'])"
   ]
  },
  {
   "cell_type": "code",
   "execution_count": null,
   "metadata": {},
   "outputs": [],
   "source": [
    "infe=simulation1.get_status_trajectories()['I']"
   ]
  },
  {
   "cell_type": "code",
   "execution_count": null,
   "metadata": {},
   "outputs": [],
   "source": [
    "infe"
   ]
  },
  {
   "cell_type": "code",
   "execution_count": null,
   "metadata": {},
   "outputs": [],
   "source": [
    "\n",
    "plt.plot(hh_time_DF['time'],hh_time_DF['households'])\n",
    "plt.plot(infe.loc[infe['time']<=400,'time'],infe.loc[infe['time']<=400,'I'],color='red')"
   ]
  },
  {
   "cell_type": "code",
   "execution_count": null,
   "metadata": {},
   "outputs": [],
   "source": [
    "tracing=simulation1.contact_tracing()\n",
    "tracing['traced_contacts'].unique()\n"
   ]
  },
  {
   "cell_type": "code",
   "execution_count": null,
   "metadata": {},
   "outputs": [],
   "source": [
    "tracing"
   ]
  },
  {
   "cell_type": "code",
   "execution_count": null,
   "metadata": {},
   "outputs": [],
   "source": [
    "x=tracing.groupby(['aggregated_time']).sum()"
   ]
  },
  {
   "cell_type": "code",
   "execution_count": null,
   "metadata": {},
   "outputs": [],
   "source": [
    "x"
   ]
  },
  {
   "cell_type": "code",
   "execution_count": null,
   "metadata": {},
   "outputs": [],
   "source": [
    "plt.scatter(x.index,x['traced_contacts'])\n",
    "plt.scatter(x.index,x['traced_infections'],color='red')"
   ]
  },
  {
   "cell_type": "code",
   "execution_count": null,
   "metadata": {},
   "outputs": [],
   "source": []
  },
  {
   "cell_type": "code",
   "execution_count": null,
   "metadata": {},
   "outputs": [],
   "source": [
    "#simulation1.get_age_group_specific_infection_patterns(n_time_aggregates=10)\n",
    "plt.pcolor(simulation1.get_age_group_specific_infection_patterns(n_time_aggregates=10))"
   ]
  },
  {
   "cell_type": "code",
   "execution_count": null,
   "metadata": {},
   "outputs": [],
   "source": [
    "plt.pcolor(simulation1.get_age_group_specific_interaction_patterns(n_time_aggregates=10))"
   ]
  },
  {
   "cell_type": "code",
   "execution_count": null,
   "metadata": {},
   "outputs": [],
   "source": [
    "Agents={str(p.ID):p.age for p in list(modeledWorld1.people)}\n",
    "Agent_Ages=pandas.DataFrame()\n",
    "Agent_Ages['ID']=[int(i) for i in list(Agents.keys())]\n",
    "Agent_Ages['Age']=list(Agents.values())\n",
    "\n",
    "age_groups=[0,5,10,15,20,25,30,35,40,45,50,55,60,65,70,75,80,85,90,95]\n",
    "Agent_Ages['AgeGroup']=[-1]*Agent_Ages.shape[0]\n",
    "for i in age_groups:\n",
    "    age_index=age_groups.index(i)\n",
    "    if age_groups.index(i)<len(age_groups)-1:\n",
    "        lower_bound=i\n",
    "        upper_bound=age_groups[age_index+1]\n",
    "        agent_ids=Agent_Ages.loc[(Agent_Ages['Age']>=lower_bound)&(Agent_Ages['Age']<upper_bound),'ID']\n",
    "        Agent_Ages.loc[Agent_Ages['ID'].isin(agent_ids),'AgeGroup']=int(i)\n",
    "    else:    \n",
    "        lower_bound=i\n",
    "        agent_ids=Agent_Ages.loc[Agent_Ages['Age']>=lower_bound,'ID']\n",
    "        Agent_Ages.loc[Agent_Ages['ID'].isin(agent_ids),'AgeGroup']=int(i)"
   ]
  },
  {
   "cell_type": "code",
   "execution_count": null,
   "metadata": {},
   "outputs": [],
   "source": [
    "\n"
   ]
  },
  {
   "cell_type": "code",
   "execution_count": null,
   "metadata": {},
   "outputs": [],
   "source": [
    "\n",
    "\n"
   ]
  },
  {
   "cell_type": "code",
   "execution_count": null,
   "metadata": {},
   "outputs": [],
   "source": [
    "simulation1 = Simulation(modeledWorld1,1200,run_immediately=False)\n",
    "simulation2 = Simulation(modeledWorld1,200,run_immediately=False)\n",
    "\n",
    "\n",
    "simulation1.interaction_matrix = True\n",
    "simulation2.interaction_matrix = True\n",
    "simulation1.interaction_frequency = 4\n",
    "simulation2.interaction_frequency = 4\n",
    "\n",
    "simulation1.change_agent_attributes({'all':{'behaviour_as_infected':{'value':0.15,'type':'replacement'}}})\n",
    "simulation2.change_agent_attributes({'all':{'behaviour_as_infected':{'value':0.15,'type':'replacement'}}})\n",
    "simulation1.simulate()\n",
    "simulation1.plot_status_timecourse()\n",
    "\n",
    "\n",
    "simulation2.simulate()\n",
    "simulation3 = Simulation(simulation2,1000,run_immediately=False)\n",
    "for p in list(simulation3.people):\n",
    "    p.stay_home_instead_of_going_to('work')\n",
    "    p.stay_home_instead_of_going_to('school')\n",
    "    p.stay_home_instead_of_going_to('public')\n",
    "simulation3.simulate()\n",
    "\n",
    "simulation3.plot_status_timecourse()\n",
    "\n",
    "\n",
    "\n"
   ]
  },
  {
   "cell_type": "code",
   "execution_count": null,
   "metadata": {},
   "outputs": [],
   "source": [
    "def build_infection_matrix(simulation,lowest_timestep=0,highest_timestep=None):\n",
    "    if highest_timestep is None:\n",
    "        max_ts=simulation.simulation_timecourse['time'].max()\n",
    "    else:\n",
    "        max_ts=highest_timestep\n",
    "    Timecourse=simulation.simulation_timecourse[(simulation.simulation_timecourse['time']>=lowest_timestep)&(simulation.simulation_timecourse['time']<=max_ts)]\n",
    "    \n",
    "    Infections=Timecourse.loc[Timecourse['Infection_event']>=0,:]\n",
    "    Days=[int(i/24) for i in Infections['time']]\n",
    "    Infections['day']=Days\n",
    "    individuals=list(Timecourse['h_ID'].unique())\n",
    "    #out={}\n",
    "    infection_matrix=numpy.zeros((len(individuals),len(individuals)))\n",
    "    for d in list(Infections['day'].unique()):\n",
    "        DayFrame=Infections.loc[Infections['day']==d,]\n",
    "        did_infect_array=numpy.zeros((len(individuals),len(individuals)))\n",
    "        for i in list(DayFrame.index):\n",
    "            did_infect_array[individuals.index(DayFrame.loc[i,'h_ID']),individuals.index(DayFrame.loc[i,'Infection_event'])]=1\n",
    "        infection_matrix+=did_infect_array\n",
    "    #### cols=spreaders rows=receivers    \n",
    "    return(pandas.DataFrame(infection_matrix,index=individuals,columns=individuals))\n",
    "\n",
    "def build_agegroup_aggregated_infection_matrix(Infection_matrix,Ages,days=5):\n",
    "    Infection_matrix['AgeGroup_object']=[-1]*Infection_matrix.shape[0]\n",
    "\n",
    "    for i in list(Infection_matrix.index):\n",
    "        agePerson=Ages.loc[Ages['ID']==i,'AgeGroup'].values[0]\n",
    "        Infection_matrix.loc[i,'AgeGroup_object']=agePerson\n",
    "    CMgroup=Infection_matrix.groupby(['AgeGroup_object']).sum()\n",
    "    CMgroup.loc['AgeGroup_subject',:]=[-1]*CMgroup.shape[1]\n",
    "\n",
    "    for i in list(CMgroup.columns):\n",
    "        agePerson=Ages.loc[Ages['ID']==int(i),'AgeGroup'].values[0]\n",
    "        CMgroup.loc['AgeGroup_subject',i]=agePerson\n",
    "    Out=CMgroup.transpose().groupby(['AgeGroup_subject']).sum()\n",
    "    perday=Out/days\n",
    "    return(perday)\n",
    "\n"
   ]
  },
  {
   "cell_type": "code",
   "execution_count": null,
   "metadata": {},
   "outputs": [],
   "source": [
    "def build_interaction_matrix(simulation,lowest_timestep=0,highest_timestep=None):\n",
    "    if highest_timestep is None:\n",
    "        max_ts=simulation.simulation_timecourse['time'].max()\n",
    "    else:\n",
    "        max_ts=highest_timestep\n",
    "    Timecourse=simulation.simulation_timecourse[(simulation.simulation_timecourse['time']>=lowest_timestep)&(simulation.simulation_timecourse['time']<=max_ts)]\n",
    "    \n",
    "    #Infections=Timecourse.loc[Timecourse['Infection_event']>=0,:]\n",
    "    Interactions=Timecourse.loc[Timecourse['Interaction_partner']!='',:]\n",
    "    Days=[int(i/24) for i in Interactions['time']]\n",
    "    Interactions['day']=Days\n",
    "    individuals=[int(i) for i in list(Timecourse['h_ID'].unique())]\n",
    "    individual_dict=dict(zip(individuals,list(range(len(individuals)))))\n",
    "    #out={}\n",
    "    interaction_matrix=scipy.sparse.csr_matrix(numpy.zeros((len(individuals),len(individuals))))\n",
    "    for d in list(Interactions['day'].unique()):\n",
    "        DayFrame=Interactions.loc[Interactions['day']==d,]\n",
    "        #person_indices,contact_indices=zip(*[(individual_dict[int(DayFrame.loc[i,'h_ID'])],individual_dict[int(k)]) for j in [DayFrame.loc[i,'Interaction_partner'].split(',') for i in DayFrame.index] for k in j])\n",
    "        contact_indices=[individual_dict[int(j)] for i in list(DayFrame['Interaction_partner']) for j in i.split(',')]\n",
    "        #contact_indices=[individuals.index(int(j)) for i in list(DayFrame.index) for j in DayFrame.loc[i,'Interaction_partner'].split(',')]\n",
    "        person_indices=[individual_dict[int(i)] for i in list(DayFrame['h_ID'])]\n",
    "        person_indices=[]\n",
    "        for i in DayFrame.index:\n",
    "            appendix_list=[individual_dict[int(DayFrame.loc[i,'h_ID'])]]*len(DayFrame.loc[i,'Interaction_partner'].split(','))\n",
    "            person_indices+=appendix_list\n",
    "        #person_indices=[for j in [[individual_dict[int(DayFrame.loc[i,'h_ID'])]]*len(DayFrame.loc[i,'Interaction_partner'].split(',')) for i in DayFrame.index] for k in j]\n",
    "        #person_indices=[individuals.index(DayFrame.loc[i,'h_ID']) for i in list(DayFrame.index)]\n",
    "        interaction_matrix[contact_indices,person_indices]+=1\n",
    "        \n",
    "    #### cols=subject rows=object    \n",
    "    return(pandas.DataFrame(interaction_matrix.toarray(),index=individuals,columns=individuals))\n",
    "\n",
    "def build_agegroup_aggregated_interaction_matrix(Interaction_matrix,Ages,days=5):\n",
    "    Interaction_matrix['AgeGroup_subject']=[-1]*Interaction_matrix.shape[0]\n",
    "\n",
    "    for i in list(Interaction_matrix.index):\n",
    "        agePerson=Ages.loc[Ages['ID']==i,'AgeGroup'].values[0]\n",
    "        Interaction_matrix.loc[i,'AgeGroup_subject']=agePerson\n",
    "    CMgroup=Interaction_matrix.groupby(['AgeGroup_subject']).mean()\n",
    "\n",
    "    CMgroup.loc['AgeGroup_object',:]=[-1]*CMgroup.shape[1]\n",
    "    for i in list(CMgroup.columns):\n",
    "        agePerson=Ages.loc[Ages['ID']==int(i),'AgeGroup'].values[0]\n",
    "        CMgroup.loc['AgeGroup_object',i]=agePerson\n",
    "    Out=CMgroup.transpose().groupby(['AgeGroup_object']).sum()\n",
    "    perday=Out/days\n",
    "    return(perday)\n",
    "\n",
    "\n",
    "\n",
    "\n"
   ]
  },
  {
   "cell_type": "code",
   "execution_count": null,
   "metadata": {},
   "outputs": [],
   "source": []
  },
  {
   "cell_type": "code",
   "execution_count": null,
   "metadata": {},
   "outputs": [],
   "source": [
    "#plt.figure(figsize=(10, 5))\n",
    "\n",
    "#plt.subplot(1, 2, 1)\n",
    "\n",
    "#chosenColorMap=plt.cm.Blues\n",
    "chosenColorMap=plt.cm.Reds\n",
    "\n",
    "\n",
    "Infection_HeatmapDF_baseline=build_agegroup_aggregated_infection_matrix(build_infection_matrix(simulation1),Agent_Ages,50)\n",
    "Infection_HeatmapDF_lockdown=build_agegroup_aggregated_infection_matrix(build_infection_matrix(simulation3),Agent_Ages,50)\n",
    "\n",
    "DiffDF=Infection_HeatmapDF_baseline-Infection_HeatmapDF_lockdown\n",
    "\n",
    "\n",
    "\n",
    "max_tot=max([Infection_HeatmapDF_baseline.max().max(),Infection_HeatmapDF_lockdown.max().max()])\n",
    "min_tot=min([Infection_HeatmapDF_baseline.min().min(),Infection_HeatmapDF_lockdown.min().min()])\n",
    "\n",
    "y_tick_positions=np.arange(0.5, len(Infection_HeatmapDF_lockdown.index), 1)[::2]\n",
    "x_tick_positions=np.arange(0.5, len(Infection_HeatmapDF_lockdown.index), 1)[::2]\n",
    "x_tick_labels=[int(i) for i in Infection_HeatmapDF_lockdown.columns][::2]\n",
    "y_tick_labels=[int(i) for i in Infection_HeatmapDF_lockdown.index][::2]\n",
    "\n",
    "\n",
    "\n",
    "plt.figure(figsize=(18/1.25, 5/1.25))\n",
    "\n",
    "plt.subplot(1, 3, 1)\n",
    "heatmap=plt.pcolor(Infection_HeatmapDF_baseline, cmap=chosenColorMap, vmin = min_tot, vmax = max_tot)\n",
    "plt.yticks(y_tick_positions, y_tick_labels)\n",
    "plt.xticks(x_tick_positions, x_tick_labels)\n",
    "plt.colorbar(heatmap)\n",
    "plt.title('Infections per age-group')\n",
    "#plt.ylim((-0.1,4))\n",
    "plt.xlabel('Infection donor (age-groups)')\n",
    "plt.ylabel('Infection acceptor (age-groups)')\n",
    "\n",
    "plt.subplot(1, 3, 2)\n",
    "heatmap=plt.pcolor(Infection_HeatmapDF_lockdown, cmap=chosenColorMap, vmin = Infection_HeatmapDF_lockdown.min().min(), vmax = Infection_HeatmapDF_lockdown.max().max())\n",
    "plt.yticks(y_tick_positions, y_tick_labels)\n",
    "plt.xticks(x_tick_positions, x_tick_labels)\n",
    "plt.colorbar(heatmap)\n",
    "plt.title('Lockdown infections per age-group')\n",
    "#plt.ylim((-0.1,4))\n",
    "plt.xlabel('Infection donor (age-groups)')\n",
    "plt.ylabel('Infection acceptor (age-groups)')\n",
    "\n",
    "plt.subplot(1, 3, 3)\n",
    "heatmap=plt.pcolor(DiffDF, cmap=chosenColorMap, vmin = min_tot, vmax = max_tot)\n",
    "plt.yticks(y_tick_positions, y_tick_labels)\n",
    "plt.xticks(x_tick_positions, x_tick_labels)\n",
    "plt.colorbar(heatmap)\n",
    "plt.title('Infection difference per age-group')\n",
    "#plt.ylim((-0.1,4))\n",
    "plt.xlabel('Infection donor (age-groups)')\n",
    "plt.ylabel('Infection acceptor (age-groups)')\n",
    "\n",
    "plt.tight_layout()\n",
    "\n",
    "plt.savefig('AgeGroup_InfectionHeatmap_Mu_4_Inf_01k5.png')\n",
    "#plt.savefig('AgeGroup_InfectionHeatmap_oldInfectionMechanism.png')\n",
    "\n",
    "#plt.show()"
   ]
  },
  {
   "cell_type": "code",
   "execution_count": null,
   "metadata": {},
   "outputs": [],
   "source": [
    "#plt.figure(figsize=(10, 5))\n",
    "\n",
    "#plt.subplot(1, 2, 1)\n",
    "\n",
    "chosenColorMap=plt.cm.Blues\n",
    "\n",
    "\n",
    "Interaction_HeatmapDF_baseline=build_agegroup_aggregated_interaction_matrix(build_interaction_matrix2(simulation1),Agent_Ages,7)\n",
    "Interaction_HeatmapDF_lockdown=build_agegroup_aggregated_interaction_matrix(build_interaction_matrix2(simulation2),Agent_Ages,7)\n",
    "\n",
    "DiffDF=Interaction_HeatmapDF_baseline-Interaction_HeatmapDF_lockdown\n",
    "\n",
    "\n",
    "\n",
    "max_tot=max([Interaction_HeatmapDF_baseline.max().max(),Interaction_HeatmapDF_lockdown.max().max()])\n",
    "min_tot=min([Interaction_HeatmapDF_baseline.min().min(),Interaction_HeatmapDF_lockdown.min().min()])\n",
    "\n",
    "y_tick_positions=np.arange(0.5, len(Interaction_HeatmapDF_lockdown.index), 1)[::2]\n",
    "x_tick_positions=np.arange(0.5, len(Interaction_HeatmapDF_lockdown.index), 1)[::2]\n",
    "x_tick_labels=[int(i) for i in Interaction_HeatmapDF_lockdown.columns][::2]\n",
    "y_tick_labels=[int(i) for i in Interaction_HeatmapDF_lockdown.index][::2]\n",
    "\n",
    "\n",
    "\n",
    "plt.figure(figsize=(18/1.25, 5/1.25))\n",
    "\n",
    "plt.subplot(1, 3, 1)\n",
    "heatmap=plt.pcolor(Interaction_HeatmapDF_baseline, cmap=chosenColorMap, vmin = min_tot, vmax = max_tot)\n",
    "plt.yticks(y_tick_positions, y_tick_labels)\n",
    "plt.xticks(x_tick_positions, x_tick_labels)\n",
    "plt.colorbar(heatmap)\n",
    "plt.title('Interactions per age-group')\n",
    "#plt.ylim((-0.1,4))\n",
    "plt.xlabel('Interaction subject (age-groups)')\n",
    "plt.ylabel('Interaction object (age-groups)')\n",
    "\n",
    "plt.subplot(1, 3, 2)\n",
    "heatmap=plt.pcolor(Interaction_HeatmapDF_lockdown, cmap=chosenColorMap, vmin = min_tot, vmax = max_tot)\n",
    "plt.yticks(y_tick_positions, y_tick_labels)\n",
    "plt.xticks(x_tick_positions, x_tick_labels)\n",
    "plt.colorbar(heatmap)\n",
    "plt.title('Lockdown Interactions per age-group')\n",
    "#plt.ylim((-0.1,4))\n",
    "plt.xlabel('Interaction subject (age-groups)')\n",
    "plt.ylabel('Interaction object (age-groups)')\n",
    "\n",
    "plt.subplot(1, 3, 3)\n",
    "heatmap=plt.pcolor(DiffDF, cmap=chosenColorMap, vmin = min_tot, vmax = max_tot)\n",
    "plt.yticks(y_tick_positions, y_tick_labels)\n",
    "plt.xticks(x_tick_positions, x_tick_labels)\n",
    "plt.colorbar(heatmap)\n",
    "plt.title('Interaction difference per age-group')\n",
    "#plt.ylim((-0.1,4))\n",
    "plt.xlabel('Interaction subject (age-groups)')\n",
    "plt.ylabel('Interaction object (age-groups)')\n",
    "\n",
    "plt.tight_layout()\n",
    "\n",
    "plt.savefig('AgeGroup_InteractionHeatmap_Mu_05.png')\n",
    "#plt.show()"
   ]
  },
  {
   "cell_type": "code",
   "execution_count": null,
   "metadata": {},
   "outputs": [],
   "source": []
  }
 ],
 "metadata": {
  "kernelspec": {
   "display_name": "Python 3",
   "language": "python",
   "name": "python3"
  },
  "language_info": {
   "codemirror_mode": {
    "name": "ipython",
    "version": 3
   },
   "file_extension": ".py",
   "mimetype": "text/x-python",
   "name": "python",
   "nbconvert_exporter": "python",
   "pygments_lexer": "ipython3",
   "version": "3.6.5"
  }
 },
 "nbformat": 4,
 "nbformat_minor": 2
}
