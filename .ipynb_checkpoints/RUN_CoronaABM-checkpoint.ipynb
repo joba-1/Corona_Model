{
 "cells": [
  {
   "cell_type": "code",
   "execution_count": 1,
   "metadata": {},
   "outputs": [],
   "source": [
    "import human as hu\n",
    "import location\n",
    "import virusPropagationModel as vPM\n",
    "import pandas as pd\n",
    "import matplotlib.pyplot as plt\n",
    "%matplotlib inline "
   ]
  },
  {
   "cell_type": "code",
   "execution_count": 2,
   "metadata": {},
   "outputs": [
    {
     "ename": "TypeError",
     "evalue": "__init__() takes 3 positional arguments but 4 were given",
     "output_type": "error",
     "traceback": [
      "\u001b[0;31m---------------------------------------------------------------------------\u001b[0m",
      "\u001b[0;31mTypeError\u001b[0m                                 Traceback (most recent call last)",
      "\u001b[0;32m<ipython-input-2-ef1d80df2587>\u001b[0m in \u001b[0;36m<module>\u001b[0;34m\u001b[0m\n\u001b[0;32m----> 1\u001b[0;31m \u001b[0mmodel\u001b[0m \u001b[0;34m=\u001b[0m \u001b[0mvPM\u001b[0m\u001b[0;34m.\u001b[0m\u001b[0mVirusPropagationModel\u001b[0m\u001b[0;34m(\u001b[0m\u001b[0;36m100\u001b[0m\u001b[0;34m,\u001b[0m\u001b[0;36m400\u001b[0m\u001b[0;34m,\u001b[0m\u001b[0;36m5\u001b[0m\u001b[0;34m)\u001b[0m\u001b[0;34m\u001b[0m\u001b[0;34m\u001b[0m\u001b[0m\n\u001b[0m",
      "\u001b[0;31mTypeError\u001b[0m: __init__() takes 3 positional arguments but 4 were given"
     ]
    }
   ],
   "source": [
    "model = vPM.VirusPropagationModel(1000,5)"
   ]
  },
  {
   "cell_type": "code",
   "execution_count": null,
   "metadata": {
    "scrolled": true
   },
   "outputs": [],
   "source": [
    "res = model.Simulate(100)\n",
    "res.head()\n",
    "\n",
    "\n"
   ]
  },
  {
   "cell_type": "code",
   "execution_count": null,
   "metadata": {},
   "outputs": [],
   "source": [
    "#for x in ['S','I']:\n",
    "S =[(t,len(res[(res['time']==t) & (res['status']=='S')])) for t in res['time'].unique() ]\n",
    "I =[(t,len(res[(res['time']==t) & (res['status']=='I')])) for t in res['time'].unique() ]\n",
    "R =[(t,len(res[(res['time']==t) & (res['status']=='R')])) for t in res['time'].unique() ]\n",
    "D =[(t,len(res[(res['time']==t) & (res['status']=='D')])) for t in res['time'].unique() ]\n",
    "    "
   ]
  },
  {
   "cell_type": "code",
   "execution_count": null,
   "metadata": {},
   "outputs": [],
   "source": [
    "dfS = pd.DataFrame(S, columns=['time', 'S'])\n",
    "plt.plot(dfS['time'].values, dfS['S'].values, label = 'Susceptible')\n",
    "dfI = pd.DataFrame(I, columns=['time', 'I'])\n",
    "plt.plot(dfI['time'].values, dfI['I'].values, label = 'Infected')\n",
    "dfR = pd.DataFrame(R, columns=['time', 'R'])\n",
    "plt.plot(dfI['time'].values, dfR['R'].values, label = 'Recovered')\n",
    "dfD = pd.DataFrame(D, columns=['time', 'D'])\n",
    "plt.plot(dfD['time'].values, dfD['D'].values, label = 'Dead')\n",
    "\n",
    "plt.plot(dfI['time'].values, dfR['R'].values+dfI['I'].values+dfS['S'].values + dfD['D'].values, label = 'Sum')\n",
    "plt.title('SecondPlot CoronaABM')\n",
    "plt.legend()\n",
    "plt.savefig('CoronaPlot.png')\n"
   ]
  },
  {
   "cell_type": "code",
   "execution_count": null,
   "metadata": {},
   "outputs": [],
   "source": [
    "res[res['h_ID']==1].plot('time','loc')\n",
    "plt.title('schedule')"
   ]
  },
  {
   "cell_type": "code",
   "execution_count": null,
   "metadata": {
    "scrolled": true
   },
   "outputs": [],
   "source": [
    "model.timecourse_list"
   ]
  },
  {
   "cell_type": "code",
   "execution_count": null,
   "metadata": {},
   "outputs": [],
   "source": [
    "res = model.Simulate(100)\n",
    "res"
   ]
  },
  {
   "cell_type": "code",
   "execution_count": null,
   "metadata": {},
   "outputs": [],
   "source": []
  }
 ],
 "metadata": {
  "kernelspec": {
   "display_name": "geoABM",
   "language": "python",
   "name": "geoabm"
  },
  "language_info": {
   "codemirror_mode": {
    "name": "ipython",
    "version": 3
   },
   "file_extension": ".py",
   "mimetype": "text/x-python",
   "name": "python",
   "nbconvert_exporter": "python",
   "pygments_lexer": "ipython3",
   "version": "3.8.2"
  }
 },
 "nbformat": 4,
 "nbformat_minor": 1
}
