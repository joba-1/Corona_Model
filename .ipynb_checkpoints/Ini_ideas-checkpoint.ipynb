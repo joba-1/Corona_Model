{
 "cells": [
  {
   "cell_type": "code",
   "execution_count": 14,
   "metadata": {},
   "outputs": [],
   "source": [
    "import osmnx as ox\n",
    "import geopandas as gpd\n",
    "import pandas as pd \n",
    "import numpy as np\n",
    "\n",
    "\n",
    "class World(object):\n",
    "    \n",
    "    def __init__(self, geofile_name='datafiles/Buildings_Gangelt_MA_3.csv', from_file=False, number_of_locs=100):\n",
    "        self.from_file = from_file\n",
    "        self.geofile_name = geofile_name\n",
    "        self.number_of_locs = number_of_locs\n",
    "        \n",
    "        if self.from_file:\n",
    "            self.locations = self.initialize_locs_from_file()\n",
    "        else:    \n",
    "            self.locations = self.initialize_locs_random()\n",
    "\n",
    "    def initialize_locs_random(self):# orginal\n",
    "        locations = {}\n",
    "        for n in range(self.number_of_locs):\n",
    "            locations[n] = (Location(n, (n, 0), 'dummy_loc'))\n",
    "\n",
    "        locations[3] = Location(3, (3, 0), 'hospital')\n",
    "        locations[0] = Location(0, (0, 0), 'hospital')\n",
    "        return locations\n",
    "    \n",
    "    def initialize_locs_from_file(self):\n",
    "        self.df_buildings = pd.read_csv(self.geofile_name)\n",
    "        for i,x in enumerate(df_buildings.index):\n",
    "            row = df_buildings.loc[x]\n",
    "            building_type = location_settings(row[col_names],work_place, healthcare)  \n",
    "            locations[i] = Location(x, (row['building_coordinates_x'],row['building_coordinates_y']),building_type )\n",
    "        return locations\n",
    "        \n",
    "    \n",
    "    \n",
    "    \n",
    "\n",
    "\n",
    "class Location(object):\n",
    "    def __init__(self, ID, coordinates, location_type, neighbourhood, area, people_present=set(), location_factor=0.001): # runs good with 50 people and 10 infected and 5 location, add Neighbouhood_ID\n",
    "        self.ID = ID\n",
    "        self.people_present = people_present\n",
    "        self.location_factor = location_factor\n",
    "        self.coordinates = coordinates # () tuples\n",
    "        self.location_type = location_type # add 'hospital'\n",
    "        self.neighbourhood_ID = 1 \n",
    "        self.distances = {}\n",
    "        self.ids_of_location_types = {} # loc_id : distance \n"
   ]
  },
  {
   "cell_type": "code",
   "execution_count": 13,
   "metadata": {},
   "outputs": [
    {
     "ename": "TypeError",
     "evalue": "empty() missing required argument 'shape' (pos 1)",
     "output_type": "error",
     "traceback": [
      "\u001b[0;31m---------------------------------------------------------------------------\u001b[0m",
      "\u001b[0;31mTypeError\u001b[0m                                 Traceback (most recent call last)",
      "\u001b[0;32m<ipython-input-13-d18d581e1fd9>\u001b[0m in \u001b[0;36m<module>\u001b[0;34m\u001b[0m\n\u001b[0;32m----> 1\u001b[0;31m \u001b[0mnp\u001b[0m\u001b[0;34m.\u001b[0m\u001b[0mempty\u001b[0m\u001b[0;34m(\u001b[0m\u001b[0;34m)\u001b[0m\u001b[0;34m\u001b[0m\u001b[0;34m\u001b[0m\u001b[0m\n\u001b[0m",
      "\u001b[0;31mTypeError\u001b[0m: empty() missing required argument 'shape' (pos 1)"
     ]
    }
   ],
   "source": [
    "geofile_name = 'datafiles/Buildings_Gangelt_MA_3.csv'"
   ]
  },
  {
   "cell_type": "code",
   "execution_count": 4,
   "metadata": {},
   "outputs": [],
   "source": [
    "def location_settings(building_lst, workplace:list, healthcare:list):\n",
    "    building_type = 'Residence'\n",
    "    if any(elem in healthcare for elem in building_lst):\n",
    "        building_type = 'Healthcare'\n",
    "    elif any(elem in workplace for elem in building_lst):\n",
    "        building_type = 'Economy'\n",
    "    return building_type\n",
    "#r1 = gpd.read_file('datafiles/Buildings_Heinsberg.geojson')\n",
    "def initialize_locs(self):\n",
    "    locations = np.empty(len(df_buildings.index),dtype='object_')\n",
    "    \n",
    "    df_buildings = pd.read_csv('datafiles/Buildings_Gangelt_MA_3.csv')\n",
    "    #Id coordinates type\n",
    "    #Location()\n",
    "    work_place = list(df_buildings['amenity'].unique())\\\n",
    "                +list(df_buildings['shop'].unique())\n",
    "    healthcare = ['baby_hatch',\n",
    "                 'clinic',\n",
    "                 'dentist',\n",
    "                 'doctors',\n",
    "                 'hospital',\n",
    "                 'nursing_home',\n",
    "                 'pharmacy',\n",
    "                 'social_facility']\n",
    "    for x in healthcare:\n",
    "        while x in work_place: work_place.remove(x)    \n",
    "    col_names=['amenity','shop']\n",
    "    \n",
    "\n",
    "    for i,x in enumerate(df_buildings.index):\n",
    "        row = df_buildings.loc[x]\n",
    "        building_type = location_settings(row[col_names],work_place, healthcare)  \n",
    "        \n",
    "        locations[i] = Location(x, (row['building_coordinates_x'],row['building_coordinates_y']),building_type )\n",
    "    return locations"
   ]
  },
  {
   "cell_type": "code",
   "execution_count": 5,
   "metadata": {},
   "outputs": [
    {
     "ename": "NameError",
     "evalue": "name 'locations' is not defined",
     "output_type": "error",
     "traceback": [
      "\u001b[0;31m---------------------------------------------------------------------------\u001b[0m",
      "\u001b[0;31mNameError\u001b[0m                                 Traceback (most recent call last)",
      "\u001b[0;32m<ipython-input-5-27ce56116253>\u001b[0m in \u001b[0;36m<module>\u001b[0;34m\u001b[0m\n\u001b[0;32m----> 1\u001b[0;31m \u001b[0;32mfor\u001b[0m \u001b[0mloc\u001b[0m \u001b[0;32min\u001b[0m \u001b[0mlocations\u001b[0m\u001b[0;34m:\u001b[0m\u001b[0;34m\u001b[0m\u001b[0;34m\u001b[0m\u001b[0m\n\u001b[0m\u001b[1;32m      2\u001b[0m     \u001b[0;32mif\u001b[0m \u001b[0mloc\u001b[0m\u001b[0;34m.\u001b[0m\u001b[0mlocation_type\u001b[0m \u001b[0;34m==\u001b[0m \u001b[0;34m'Healthcare'\u001b[0m\u001b[0;34m:\u001b[0m\u001b[0;34m\u001b[0m\u001b[0;34m\u001b[0m\u001b[0m\n\u001b[1;32m      3\u001b[0m         \u001b[0mprint\u001b[0m\u001b[0;34m(\u001b[0m\u001b[0;34m'health'\u001b[0m\u001b[0;34m)\u001b[0m\u001b[0;34m\u001b[0m\u001b[0;34m\u001b[0m\u001b[0m\n",
      "\u001b[0;31mNameError\u001b[0m: name 'locations' is not defined"
     ]
    }
   ],
   "source": [
    "for loc in locations:\n",
    "    if loc.location_type == 'Healthcare':\n",
    "        print('health')"
   ]
  },
  {
   "cell_type": "code",
   "execution_count": 6,
   "metadata": {},
   "outputs": [
    {
     "ename": "NameError",
     "evalue": "name 'df_buildings' is not defined",
     "output_type": "error",
     "traceback": [
      "\u001b[0;31m---------------------------------------------------------------------------\u001b[0m",
      "\u001b[0;31mNameError\u001b[0m                                 Traceback (most recent call last)",
      "\u001b[0;32m<ipython-input-6-7455bbf2bf06>\u001b[0m in \u001b[0;36m<module>\u001b[0;34m\u001b[0m\n\u001b[0;32m----> 1\u001b[0;31m \u001b[0;32mfor\u001b[0m \u001b[0mx\u001b[0m \u001b[0;32min\u001b[0m \u001b[0mdf_buildings\u001b[0m\u001b[0;34m.\u001b[0m\u001b[0mindex\u001b[0m\u001b[0;34m:\u001b[0m\u001b[0;34m\u001b[0m\u001b[0;34m\u001b[0m\u001b[0m\n\u001b[0m\u001b[1;32m      2\u001b[0m     \u001b[0mrow\u001b[0m \u001b[0;34m=\u001b[0m \u001b[0mdf_buildings\u001b[0m\u001b[0;34m.\u001b[0m\u001b[0mloc\u001b[0m\u001b[0;34m[\u001b[0m\u001b[0mx\u001b[0m\u001b[0;34m]\u001b[0m\u001b[0;34m\u001b[0m\u001b[0;34m\u001b[0m\u001b[0m\n\u001b[1;32m      3\u001b[0m     \u001b[0mprint\u001b[0m\u001b[0;34m(\u001b[0m\u001b[0;34m)\u001b[0m\u001b[0;34m\u001b[0m\u001b[0;34m\u001b[0m\u001b[0m\n",
      "\u001b[0;31mNameError\u001b[0m: name 'df_buildings' is not defined"
     ]
    }
   ],
   "source": [
    "\n",
    "for x in df_buildings.index:\n",
    "    row = df_buildings.loc[x]\n",
    "    print()"
   ]
  }
 ],
 "metadata": {
  "kernelspec": {
   "display_name": "ox",
   "language": "python",
   "name": "ox"
  },
  "language_info": {
   "codemirror_mode": {
    "name": "ipython",
    "version": 3
   },
   "file_extension": ".py",
   "mimetype": "text/x-python",
   "name": "python",
   "nbconvert_exporter": "python",
   "pygments_lexer": "ipython3",
   "version": "3.8.2"
  }
 },
 "nbformat": 4,
 "nbformat_minor": 4
}
