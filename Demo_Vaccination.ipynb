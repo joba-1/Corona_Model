{
 "cells": [
  {
   "cell_type": "code",
   "execution_count": null,
   "metadata": {},
   "outputs": [],
   "source": [
    "from virusPropagationModel import *\n",
    "import VPM_plotting as vpm_plot\n",
    "%matplotlib inline\n",
    "%load_ext autoreload\n",
    "import glob\n",
    "import os\n",
    "import copy\n",
    "import matplotlib.pyplot as plt\n",
    "import pandas as pd\n",
    "import seaborn as sns\n",
    "import matplotlib.cm as cm\n",
    "import numpy as np\n",
    "#%load_ext memory_profiler"
   ]
  },
  {
   "cell_type": "code",
   "execution_count": null,
   "metadata": {},
   "outputs": [],
   "source": [
    "geopath = 'datafiles/'\n",
    "geofiles = {0:'Buildings_Gangelt_MA_1.csv',\n",
    "            1:'Buildings_Gangelt_MA_3.csv',\n",
    "           }         "
   ]
  },
  {
   "cell_type": "markdown",
   "metadata": {},
   "source": [
    "# Build world "
   ]
  },
  {
   "cell_type": "markdown",
   "metadata": {},
   "source": [
    "### Choose which world to initate"
   ]
  },
  {
   "cell_type": "code",
   "execution_count": null,
   "metadata": {},
   "outputs": [],
   "source": [
    "#world_to_pick = 0 ## choosing large version\n",
    "world_to_pick = 1 ## choosing small version"
   ]
  },
  {
   "cell_type": "markdown",
   "metadata": {},
   "source": [
    "### Initiate the selected world without infections"
   ]
  },
  {
   "cell_type": "code",
   "execution_count": null,
   "metadata": {},
   "outputs": [],
   "source": [
    "modeledWorld = ModeledPopulatedWorld(1000, 0, world_from_file=True, geofile_name=geopath+geofiles[world_to_pick], agent_agent_infection=True, input_schedules='schedules_v2')\n",
    "n_people = modeledWorld.number_of_people\n",
    "print('Number of agents: '+ str(n_people))"
   ]
  },
  {
   "cell_type": "markdown",
   "metadata": {},
   "source": [
    "### Definition of the function to infect specified susceptible agents"
   ]
  },
  {
   "cell_type": "code",
   "execution_count": null,
   "metadata": {},
   "outputs": [],
   "source": [
    "def infect_world(world, IDs=[1]):\n",
    "    ID_list = world.get_remaining_possible_initial_infections(IDs)\n",
    "    world.initialize_infection(specific_people_ids=ID_list)"
   ]
  },
  {
   "cell_type": "markdown",
   "metadata": {},
   "source": [
    "# Run initial simulation"
   ]
  },
  {
   "cell_type": "markdown",
   "metadata": {},
   "source": [
    "#### Define Simulation characteristics"
   ]
  },
  {
   "cell_type": "code",
   "execution_count": null,
   "metadata": {},
   "outputs": [],
   "source": [
    "timesteps_initial_sim=1500\n",
    "general_infectivity=0.3\n",
    "general_interaction_frequency=2"
   ]
  },
  {
   "cell_type": "markdown",
   "metadata": {},
   "source": [
    "#### Copy the initialized world and infect n agents in that copy"
   ]
  },
  {
   "cell_type": "code",
   "execution_count": null,
   "metadata": {},
   "outputs": [],
   "source": [
    "world_to_use = copy.deepcopy(modeledWorld)\n",
    "\n",
    "n_initially_infected=4\n",
    "\n",
    "infect_world(world_to_use, IDs=[i+1 for i in range(n_initially_infected)])"
   ]
  },
  {
   "cell_type": "markdown",
   "metadata": {},
   "source": [
    "#### Set-up simulation with specified characteristics"
   ]
  },
  {
   "cell_type": "code",
   "execution_count": null,
   "metadata": {},
   "outputs": [],
   "source": [
    "simulation_initial_wave = Simulation(world_to_use, timesteps_initial_sim, run_immediately=False)\n",
    "\n",
    "simulation_initial_wave.change_agent_attributes({'all':{'behaviour_as_infected':{'value':general_infectivity,'type':'replacement'}}})\n",
    "simulation_initial_wave.interaction_frequency=general_interaction_frequency"
   ]
  },
  {
   "cell_type": "markdown",
   "metadata": {},
   "source": [
    "#### Run simulation"
   ]
  },
  {
   "cell_type": "code",
   "execution_count": null,
   "metadata": {},
   "outputs": [],
   "source": [
    "simulation_initial_wave.simulate()"
   ]
  },
  {
   "cell_type": "markdown",
   "metadata": {},
   "source": [
    "#### Plot status-trajectories"
   ]
  },
  {
   "cell_type": "code",
   "execution_count": null,
   "metadata": {},
   "outputs": [],
   "source": [
    "simulation_initial_wave.plot_status_timecourse()"
   ]
  },
  {
   "cell_type": "markdown",
   "metadata": {},
   "source": [
    "# Derive ordered lists of agents for different vaccination-strategies"
   ]
  },
  {
   "cell_type": "markdown",
   "metadata": {},
   "source": [
    "## Sorting-strategies, based on previous simulation"
   ]
  },
  {
   "cell_type": "markdown",
   "metadata": {},
   "source": [
    "### Sorted by forecasted infection wave"
   ]
  },
  {
   "cell_type": "markdown",
   "metadata": {},
   "source": [
    "#### Define function to sort agents according to forecasted infection wave"
   ]
  },
  {
   "cell_type": "code",
   "execution_count": null,
   "metadata": {},
   "outputs": [],
   "source": [
    "def get_previous_infections(previous_simulation):\n",
    "    df_inf = previous_simulation.get_infection_event_information()\n",
    "    infected = list(df_inf['h_ID'].values)\n",
    "    all_agents = infected+[a.ID for a in previous_simulation.people if a.ID not in infected]\n",
    "    return all_agents"
   ]
  },
  {
   "cell_type": "markdown",
   "metadata": {},
   "source": [
    "#### Create list of agents sorted by forecasted infection wave"
   ]
  },
  {
   "cell_type": "code",
   "execution_count": null,
   "metadata": {},
   "outputs": [],
   "source": [
    "agents_forecasted = get_previous_infections(simulation_initial_wave)"
   ]
  },
  {
   "cell_type": "markdown",
   "metadata": {},
   "source": [
    "### Sorted by over-representation (agent types)"
   ]
  },
  {
   "cell_type": "markdown",
   "metadata": {},
   "source": [
    "#### Define function to sort agents by type. The sequence of types is defined in sorted list \"agent_types\". "
   ]
  },
  {
   "cell_type": "code",
   "execution_count": null,
   "metadata": {},
   "outputs": [],
   "source": [
    "def get_ids_by_agent_type(world):\n",
    "    agent_types = ['under_age', 'adult', 'teacher', 'medical_professional', 'public_worker', 'pensioner']\n",
    "    ids_by_type = {s_type:[] for s_type in agent_types}\n",
    "    for p in world.people:\n",
    "        ids_by_type[p.schedule['type']].append(p.ID)\n",
    "    ordered_ids = []\n",
    "    for s_type in agent_types:\n",
    "        ordered_ids.extend(ids_by_type[s_type])\n",
    "    return ordered_ids"
   ]
  },
  {
   "cell_type": "markdown",
   "metadata": {},
   "source": [
    "#### Create list of agents sorted by type"
   ]
  },
  {
   "cell_type": "code",
   "execution_count": null,
   "metadata": {},
   "outputs": [],
   "source": [
    "agents_by_type = get_ids_by_agent_type(modeledWorld)"
   ]
  },
  {
   "cell_type": "markdown",
   "metadata": {},
   "source": [
    "### Sorted by Interactivity"
   ]
  },
  {
   "cell_type": "markdown",
   "metadata": {},
   "source": [
    "#### Define function to sort agents with decreasing number of total interactions from a preceding simulation without infection spreading"
   ]
  },
  {
   "cell_type": "code",
   "execution_count": null,
   "metadata": {},
   "outputs": [],
   "source": [
    "def get_ids_by_interactions(simulation_no_infections):\n",
    "    contacts = simulation_no_infections.get_contact_distributions(min_t=0, max_t=168)[1]\n",
    "    contacts_mean = contacts.groupby('ID').mean()\n",
    "    contacts_mean.reset_index(inplace=True)\n",
    "    contacts_sorted = contacts_mean.sort_values('interactions', axis=0, ascending=False)\n",
    "    to_recover_list = list(contacts_sorted['ID'].values)\n",
    "    return to_recover_list"
   ]
  },
  {
   "cell_type": "markdown",
   "metadata": {},
   "source": [
    "#### Run the preceding simulation without infection spreading"
   ]
  },
  {
   "cell_type": "code",
   "execution_count": null,
   "metadata": {},
   "outputs": [],
   "source": [
    "uninfectedWorld = copy.deepcopy(modeledWorld)\n",
    "simulation_no_infections = Simulation(uninfectedWorld, 170, run_immediately=False)\n",
    "simulation_no_infections.interaction_frequency=general_interaction_frequency\n",
    "simulation_no_infections.simulate()"
   ]
  },
  {
   "cell_type": "markdown",
   "metadata": {},
   "source": [
    "#### Create the list of agents sorted by decreasing number of total interactions"
   ]
  },
  {
   "cell_type": "code",
   "execution_count": null,
   "metadata": {},
   "outputs": [],
   "source": [
    "agents_by_interactions = get_ids_by_interactions(simulation_no_infections)"
   ]
  },
  {
   "cell_type": "markdown",
   "metadata": {},
   "source": [
    "## Sorting-strategies, based on population-structure"
   ]
  },
  {
   "cell_type": "markdown",
   "metadata": {},
   "source": [
    "### Sorted by household"
   ]
  },
  {
   "cell_type": "markdown",
   "metadata": {},
   "source": [
    "#### Define function to sort agents by their households. First one member of each household is chosen. When there is one member for each household a second member is chosen for each household of size 2 and bigger. After that a third member is chosen for each household of size 3 and bigger. ..."
   ]
  },
  {
   "cell_type": "code",
   "execution_count": null,
   "metadata": {},
   "outputs": [],
   "source": [
    "def get_ids_by_households(world):\n",
    "    ai = world.get_agent_info()\n",
    "    home_count_dict = dict(zip(list(ai.groupby('Home').count().index), list(ai.groupby('Home').count()['ID'])))\n",
    "    ai['Home_size']=ai['Home'].map(home_count_dict)\n",
    "\n",
    "    ai_sorted = ai.sort_values('Home')\n",
    "    home_list = ai_sorted['Home'].values\n",
    "\n",
    "    count_list=[]\n",
    "    predecessor = 0\n",
    "    count = 1\n",
    "    for x in home_list:\n",
    "        if x == predecessor:\n",
    "            count +=1\n",
    "        else:\n",
    "            count = 1\n",
    "        count_list.append(count)\n",
    "        predecessor = x\n",
    "\n",
    "    ai_sorted['Home_position'] = count_list\n",
    "\n",
    "    ai_sorted.sort_values('Home_position') ## dataframe\n",
    "    households_sorted = ai_sorted.sort_values(by=['Home_position'])\n",
    "    to_recover_list = list(households_sorted['ID']) ### id list\n",
    "    return to_recover_list"
   ]
  },
  {
   "cell_type": "markdown",
   "metadata": {},
   "source": [
    "#### Create the list of agents sorted by households"
   ]
  },
  {
   "cell_type": "code",
   "execution_count": null,
   "metadata": {},
   "outputs": [],
   "source": [
    "agents_by_households = get_ids_by_households(modeledWorld)"
   ]
  },
  {
   "cell_type": "markdown",
   "metadata": {},
   "source": [
    "### Sorted by age"
   ]
  },
  {
   "cell_type": "markdown",
   "metadata": {},
   "source": [
    "#### Define function to sort agents by age, descending"
   ]
  },
  {
   "cell_type": "code",
   "execution_count": null,
   "metadata": {},
   "outputs": [],
   "source": [
    "def get_ids_by_age(world):\n",
    "    ages_and_ids = [(p.age, p.ID) for p in world.people]\n",
    "    ages_and_ids_df = pd.DataFrame(ages_and_ids, columns=['age','id'])\n",
    "    ages_and_ids_df.sort_values('age', ascending=False, inplace=True)\n",
    "    to_recover_list = list(ages_and_ids_df['id'])\n",
    "    return to_recover_list"
   ]
  },
  {
   "cell_type": "markdown",
   "metadata": {},
   "source": [
    "#### Create the list of agents sorted by age, descending"
   ]
  },
  {
   "cell_type": "code",
   "execution_count": null,
   "metadata": {},
   "outputs": [],
   "source": [
    "agents_by_age = get_ids_by_age(modeledWorld)"
   ]
  },
  {
   "cell_type": "markdown",
   "metadata": {},
   "source": [
    "## Random sorting"
   ]
  },
  {
   "cell_type": "markdown",
   "metadata": {},
   "source": [
    "#### Define function to randomly shuffle the order of agents"
   ]
  },
  {
   "cell_type": "code",
   "execution_count": null,
   "metadata": {},
   "outputs": [],
   "source": [
    "def get_random_id_list(world):\n",
    "    agent_ids = [p.ID for p in world.people]\n",
    "    random.shuffle(agent_ids)\n",
    "    return agent_ids"
   ]
  },
  {
   "cell_type": "markdown",
   "metadata": {},
   "source": [
    "#### Create a list of agents with random order"
   ]
  },
  {
   "cell_type": "code",
   "execution_count": null,
   "metadata": {},
   "outputs": [],
   "source": [
    "agents_random = get_random_id_list(modeledWorld)"
   ]
  },
  {
   "cell_type": "markdown",
   "metadata": {},
   "source": [
    "# Run vaccination-fraction screens for different strategies"
   ]
  },
  {
   "cell_type": "markdown",
   "metadata": {},
   "source": [
    "#### Define function to vaccinate a certain fraction of agents in a specified order"
   ]
  },
  {
   "cell_type": "code",
   "execution_count": null,
   "metadata": {},
   "outputs": [],
   "source": [
    "# define function to vaccinate list of agents\n",
    "def vaccinate_world(world, frac, ordered_agents):\n",
    "    agents_to_vaccinate = ordered_agents[:int(frac*len(ordered_agents))]\n",
    "    for p in world.people:\n",
    "        if p.ID in agents_to_vaccinate:\n",
    "            p.set_initially_recovered()"
   ]
  },
  {
   "cell_type": "markdown",
   "metadata": {},
   "source": [
    "#### Create a dictionary to access the previously created ordered lists by keywords"
   ]
  },
  {
   "cell_type": "code",
   "execution_count": null,
   "metadata": {},
   "outputs": [],
   "source": [
    "agent_orders = {'forecasted':agents_forecasted, 'overrepresentation':agents_by_type,\n",
    "                'interactions':agents_by_interactions, 'households':agents_by_households,\n",
    "                'age':agents_by_age, 'random':agents_random}"
   ]
  },
  {
   "cell_type": "markdown",
   "metadata": {},
   "source": [
    "#### Define the fractions of agents to vaccinate"
   ]
  },
  {
   "cell_type": "code",
   "execution_count": null,
   "metadata": {},
   "outputs": [],
   "source": [
    "fractions = np.arange(0.1, 0.91, 0.2)"
   ]
  },
  {
   "cell_type": "markdown",
   "metadata": {},
   "source": [
    "#### Define function to simulate the vaccination scenario with the defined fractions and agent orders"
   ]
  },
  {
   "cell_type": "code",
   "execution_count": null,
   "metadata": {},
   "outputs": [],
   "source": [
    "def simulate_fractions(modeledWorld, ordered_agents, fractions, n_initially_infected=4, timesteps_vaccination_sim=3000):\n",
    "    results=pd.DataFrame(columns=['fraction','infected','icued','dead'])\n",
    "    for frac in fractions:\n",
    "        world_to_use = copy.deepcopy(modeledWorld)\n",
    "        vaccinate_world(world_to_use, frac, ordered_agents)\n",
    "        infect_world(world_to_use, IDs=[i+1 for i in range(n_initially_infected)])\n",
    "        simulation_vaccinated_fraction = Simulation(world_to_use, timesteps_vaccination_sim, run_immediately=False)\n",
    "        simulation_vaccinated_fraction.change_agent_attributes({'all':{'behaviour_as_infected':{'value':general_infectivity,'type':'replacement'}}})\n",
    "        simulation_vaccinated_fraction.interaction_frequency=general_interaction_frequency\n",
    "        simulation_vaccinated_fraction.simulate()\n",
    "        cummulative_flags = simulation_vaccinated_fraction.get_flag_sums_over_time(specific_flags=['ICUed'])\n",
    "        dead_agents = simulation_vaccinated_fraction.get_status_trajectories(specific_statuses=['D'])['D']['D'].iloc[-1]\n",
    "        infected_agents = simulation_vaccinated_fraction.get_infection_event_information().shape[0]\n",
    "        icued_agents = cummulative_flags['ICUed'].max()\n",
    "        results.loc[frac,'fraction']=frac\n",
    "        results.loc[frac,'infected']=infected_agents\n",
    "        results.loc[frac,'icued']=icued_agents\n",
    "        results.loc[frac,'dead']=dead_agents\n",
    "    return results"
   ]
  },
  {
   "cell_type": "markdown",
   "metadata": {},
   "source": [
    "#### Define a list of strategies to test by keywords, run the simulations for all fractions and all strategies and save relevant results"
   ]
  },
  {
   "cell_type": "code",
   "execution_count": null,
   "metadata": {},
   "outputs": [],
   "source": [
    "strategies_to_test = ['forecasted', 'overrepresentation', 'interactions', 'households', 'age', 'random']\n",
    "results_dict = {strategy: simulate_fractions(modeledWorld, agent_orders[strategy], fractions) for strategy in strategies_to_test}"
   ]
  },
  {
   "cell_type": "markdown",
   "metadata": {},
   "source": [
    "# Plot results of vaccination screens"
   ]
  },
  {
   "cell_type": "code",
   "execution_count": null,
   "metadata": {},
   "outputs": [],
   "source": [
    "fig, axs = plt.subplots(1,3, figsize=(15,5))\n",
    "\n",
    "colors = {'random':'lightseagreen', 'interactions':'violet', 'age':'gold',\n",
    "          'overrepresentation':'royalblue', 'households':'lightgreen', 'forecasted':'orange'}\n",
    "\n",
    "for strategy in results_dict:\n",
    "    fractions = results_dict[strategy]['fraction']\n",
    "    axs[0].plot(fractions, results_dict[strategy]['infected']/(modeledWorld.number_of_people*(1-fractions)),\n",
    "                label=strategy, lw=2, alpha=0.7, color=colors[strategy])\n",
    "    axs[1].plot(fractions, results_dict[strategy]['dead']/(modeledWorld.number_of_people*(1-fractions)),\n",
    "                label=strategy, lw=2, alpha=0.7, color=colors[strategy])\n",
    "    axs[2].plot(fractions, (results_dict[strategy]['icued']/modeledWorld.number_of_people)*100000.0,\n",
    "                label=strategy, lw=2, alpha=0.7, color=colors[strategy])\n",
    "    \n",
    "for ax in axs:\n",
    "    ax.set_xlabel('fraction of immunized population')\n",
    "    \n",
    "axs[0].set_ylabel('fraction of non immunized population')\n",
    "axs[1].set_ylabel('fraction of non immunized population')\n",
    "axs[2].set_ylabel('max ICU demand per 100.000')\n",
    "\n",
    "axs[0].set_title('Infections')\n",
    "axs[1].set_title('Death')\n",
    "axs[2].set_title('ICU Demand')\n",
    "\n",
    "axs[0].legend()\n",
    "\n",
    "plt.tight_layout()"
   ]
  }
 ],
 "metadata": {
  "kernelspec": {
   "display_name": "Python 3",
   "language": "python",
   "name": "python3"
  },
  "language_info": {
   "codemirror_mode": {
    "name": "ipython",
    "version": 3
   },
   "file_extension": ".py",
   "mimetype": "text/x-python",
   "name": "python",
   "nbconvert_exporter": "python",
   "pygments_lexer": "ipython3",
   "version": "3.6.5"
  }
 },
 "nbformat": 4,
 "nbformat_minor": 2
}
