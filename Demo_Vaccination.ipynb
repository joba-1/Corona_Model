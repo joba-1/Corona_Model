{
 "cells": [
  {
   "cell_type": "code",
   "execution_count": 1,
   "metadata": {},
   "outputs": [],
   "source": [
    "from virusPropagationModel import *\n",
    "import VPM_plotting as vpm_plot\n",
    "%matplotlib inline\n",
    "%load_ext autoreload\n",
    "import glob\n",
    "import os\n",
    "import copy\n",
    "import matplotlib.pyplot as plt\n",
    "import pandas as pd\n",
    "import seaborn as sns\n",
    "import matplotlib.cm as cm\n",
    "import numpy as np\n",
    "#%load_ext memory_profiler"
   ]
  },
  {
   "cell_type": "code",
   "execution_count": 2,
   "metadata": {},
   "outputs": [],
   "source": [
    "geopath = 'datafiles/'\n",
    "geofiles = {0:'Buildings_Gangelt_MA_1.csv',\n",
    "            1:'Buildings_Gangelt_MA_3.csv',\n",
    "           }         "
   ]
  },
  {
   "cell_type": "markdown",
   "metadata": {},
   "source": [
    "# Build world "
   ]
  },
  {
   "cell_type": "markdown",
   "metadata": {},
   "source": [
    "### Choose which world to initate"
   ]
  },
  {
   "cell_type": "code",
   "execution_count": 3,
   "metadata": {},
   "outputs": [],
   "source": [
    "#world_to_pick = 0 ## choosing large version\n",
    "world_to_pick = 1 ## choosing small version"
   ]
  },
  {
   "cell_type": "markdown",
   "metadata": {},
   "source": [
    "### Initiate the selected world"
   ]
  },
  {
   "cell_type": "code",
   "execution_count": 4,
   "metadata": {},
   "outputs": [
    {
     "name": "stdout",
     "output_type": "stream",
     "text": [
      "Number of agents: 1027\n"
     ]
    }
   ],
   "source": [
    "# intialize world without infections\n",
    "modeledWorld = ModeledPopulatedWorld(1000, 0, world_from_file=True, geofile_name=geopath+geofiles[world_to_pick], agent_agent_infection=True, input_schedules='schedules_v2')\n",
    "n_people = modeledWorld.number_of_people\n",
    "print('Number of agents: '+ str(n_people))"
   ]
  },
  {
   "cell_type": "code",
   "execution_count": 5,
   "metadata": {},
   "outputs": [],
   "source": [
    "# define funtion to infect susceptible agents\n",
    "def infect_world(world, IDs=[1]):\n",
    "    ID_list = world.get_remaining_possible_initial_infections(IDs)\n",
    "    world.initialize_infection(specific_people_ids=ID_list)"
   ]
  },
  {
   "cell_type": "markdown",
   "metadata": {},
   "source": [
    "# Run initial simulation"
   ]
  },
  {
   "cell_type": "markdown",
   "metadata": {},
   "source": [
    "#### Define Simulation characteristics"
   ]
  },
  {
   "cell_type": "code",
   "execution_count": 6,
   "metadata": {},
   "outputs": [],
   "source": [
    "timesteps_initial_sim=1500\n",
    "general_infectivity=0.3\n",
    "general_interaction_frequency=2"
   ]
  },
  {
   "cell_type": "code",
   "execution_count": 7,
   "metadata": {},
   "outputs": [
    {
     "name": "stdout",
     "output_type": "stream",
     "text": [
      "amount of initially recovered agents: 0\n"
     ]
    }
   ],
   "source": [
    "# copy initialized world and infect agents in that copy\n",
    "world_to_use = copy.deepcopy(modeledWorld)\n",
    "\n",
    "n_initially_infected=4\n",
    "\n",
    "infect_world(world_to_use, IDs=[i+1 for i in range(n_initially_infected)])"
   ]
  },
  {
   "cell_type": "markdown",
   "metadata": {},
   "source": [
    "#### Set-up simulation with specified characteristics"
   ]
  },
  {
   "cell_type": "code",
   "execution_count": 8,
   "metadata": {},
   "outputs": [],
   "source": [
    "simulation_initial_wave = Simulation(world_to_use, timesteps_initial_sim, run_immediately=False)"
   ]
  },
  {
   "cell_type": "markdown",
   "metadata": {},
   "source": [
    "#### Run simulation"
   ]
  },
  {
   "cell_type": "code",
   "execution_count": 9,
   "metadata": {},
   "outputs": [],
   "source": [
    "simulation_initial_wave.simulate()"
   ]
  },
  {
   "cell_type": "markdown",
   "metadata": {},
   "source": [
    "#### Plot status-trajectories"
   ]
  },
  {
   "cell_type": "code",
   "execution_count": 10,
   "metadata": {},
   "outputs": [
    {
     "data": {
      "image/png": "[encoded data removed]",
      "text/plain": [
       "<Figure size 432x288 with 1 Axes>"
      ]
     },
     "metadata": {
      "needs_background": "light"
     },
     "output_type": "display_data"
    }
   ],
   "source": [
    "simulation_initial_wave.plot_status_timecourse()"
   ]
  },
  {
   "cell_type": "markdown",
   "metadata": {},
   "source": [
    "# Derive ordered lists of agents for different vaccination-strategies"
   ]
  },
  {
   "cell_type": "markdown",
   "metadata": {},
   "source": [
    "## Sorting-strategies, based on previous simulation"
   ]
  },
  {
   "cell_type": "markdown",
   "metadata": {},
   "source": [
    "### Sorted by forecasted infection wave"
   ]
  },
  {
   "cell_type": "code",
   "execution_count": 13,
   "metadata": {},
   "outputs": [],
   "source": [
    "def get_previous_infections(previous_simulation):\n",
    "    df_inf = previous_simulation.get_infection_event_information()\n",
    "    infected = list(df_inf['h_ID'].values)\n",
    "    all_agents = infected+[a.ID for a in previous_simulation.people if a.ID not in infected]\n",
    "    return all_agents"
   ]
  },
  {
   "cell_type": "code",
   "execution_count": 14,
   "metadata": {},
   "outputs": [],
   "source": [
    "agents_forecasted = get_previous_infections(simulation_initial_wave)"
   ]
  },
  {
   "cell_type": "markdown",
   "metadata": {},
   "source": [
    "### Sorted by over-representation (agent types)"
   ]
  },
  {
   "cell_type": "code",
   "execution_count": 15,
   "metadata": {},
   "outputs": [],
   "source": [
    "def get_ids_by_agent_type(world):\n",
    "    agent_types = ['under_age', 'adult', 'teacher', 'medical_professional', 'public_worker', 'pensioner']\n",
    "    ids_by_type = {s_type:[] for s_type in agent_types}\n",
    "    for p in world.people:\n",
    "        ids_by_type[p.schedule['type']].append(p.ID)\n",
    "    ordered_ids = []\n",
    "    for s_type in agent_types:\n",
    "        ordered_ids.extend(ids_by_type[s_type])\n",
    "    return ordered_ids"
   ]
  },
  {
   "cell_type": "code",
   "execution_count": 16,
   "metadata": {},
   "outputs": [],
   "source": [
    "agents_by_type = get_ids_by_agent_type(modeledWorld)"
   ]
  },
  {
   "cell_type": "markdown",
   "metadata": {},
   "source": [
    "### Sorted by Interactivity"
   ]
  },
  {
   "cell_type": "code",
   "execution_count": 17,
   "metadata": {},
   "outputs": [],
   "source": [
    "def get_ids_by_interactions(simulation_no_infections):\n",
    "    contacts = simulation_no_infections.get_contact_distributions(min_t=0, max_t=168)[1]\n",
    "    contacts_mean = contacts.groupby('ID').mean()\n",
    "    contacts_mean.reset_index(inplace=True)\n",
    "    contacts_sorted = contacts_mean.sort_values('interactions', axis=0, ascending=False)\n",
    "    to_recover_list = list(contacts_sorted['ID'].values)\n",
    "    return to_recover_list"
   ]
  },
  {
   "cell_type": "code",
   "execution_count": 18,
   "metadata": {},
   "outputs": [],
   "source": [
    "# run simulation without infections to get interaction patterns\n",
    "uninfectedWorld = copy.deepcopy(modeledWorld)\n",
    "simulation_no_infections = Simulation(uninfectedWorld, 170)"
   ]
  },
  {
   "cell_type": "code",
   "execution_count": 19,
   "metadata": {},
   "outputs": [],
   "source": [
    "agents_by_interactions = get_ids_by_interactions(simulation_no_infections)"
   ]
  },
  {
   "cell_type": "markdown",
   "metadata": {},
   "source": [
    "## Sorting-strategies, based on population-structure"
   ]
  },
  {
   "cell_type": "markdown",
   "metadata": {},
   "source": [
    "### Sorted by household"
   ]
  },
  {
   "cell_type": "code",
   "execution_count": 20,
   "metadata": {},
   "outputs": [],
   "source": [
    "def get_ids_by_households(world):\n",
    "    ai = world.get_agent_info()\n",
    "    home_count_dict = dict(zip(list(ai.groupby('Home').count().index), list(ai.groupby('Home').count()['ID'])))\n",
    "    ai['Home_size']=ai['Home'].map(home_count_dict)\n",
    "\n",
    "    ai_sorted = ai.sort_values('Home')\n",
    "    home_list = ai_sorted['Home'].values\n",
    "\n",
    "    count_list=[]\n",
    "    predecessor = 0\n",
    "    count = 1\n",
    "    for x in home_list:\n",
    "        if x == predecessor:\n",
    "            count +=1\n",
    "        else:\n",
    "            count = 1\n",
    "        count_list.append(count)\n",
    "        predecessor = x\n",
    "\n",
    "    ai_sorted['Home_position'] = count_list\n",
    "\n",
    "    ai_sorted.sort_values('Home_position') ## dataframe\n",
    "    households_sorted = ai_sorted.sort_values(by=['Home_position'])\n",
    "    to_recover_list = list(households_sorted['ID']) ### id list\n",
    "    return to_recover_list"
   ]
  },
  {
   "cell_type": "code",
   "execution_count": 21,
   "metadata": {},
   "outputs": [],
   "source": [
    "agents_by_households = get_ids_by_households(modeledWorld)"
   ]
  },
  {
   "cell_type": "markdown",
   "metadata": {},
   "source": [
    "### Sorted by age"
   ]
  },
  {
   "cell_type": "code",
   "execution_count": 22,
   "metadata": {},
   "outputs": [],
   "source": [
    "def get_ids_by_age(world):\n",
    "    ages_and_ids = [(p.age, p.ID) for p in world.people]\n",
    "    ages_and_ids_df = pd.DataFrame(ages_and_ids, columns=['age','id'])\n",
    "    ages_and_ids_df.sort_values('age', ascending=False, inplace=True)\n",
    "    to_recover_list = list(ages_and_ids_df['id'])\n",
    "    return to_recover_list"
   ]
  },
  {
   "cell_type": "code",
   "execution_count": 23,
   "metadata": {},
   "outputs": [],
   "source": [
    "agents_by_age = get_ids_by_age(modeledWorld)"
   ]
  },
  {
   "cell_type": "markdown",
   "metadata": {},
   "source": [
    "## Random sorting"
   ]
  },
  {
   "cell_type": "code",
   "execution_count": 24,
   "metadata": {},
   "outputs": [],
   "source": [
    "def get_random_id_list(world):\n",
    "    agent_ids = [p.ID for p in world.people]\n",
    "    random.shuffle(agent_ids)\n",
    "    return agent_ids"
   ]
  },
  {
   "cell_type": "code",
   "execution_count": 25,
   "metadata": {},
   "outputs": [],
   "source": [
    "agents_random = get_random_id_list(modeledWorld)"
   ]
  },
  {
   "cell_type": "markdown",
   "metadata": {},
   "source": [
    "# Run vaccination-fraction screens for different strategies"
   ]
  },
  {
   "cell_type": "code",
   "execution_count": 26,
   "metadata": {},
   "outputs": [],
   "source": [
    "# define function to vaccinate list of agents\n",
    "def vaccinate_world(world, frac, ordered_agents):\n",
    "    agents_to_vaccinate = ordered_agents[:int(frac*len(ordered_agents))]\n",
    "    for p in world.people:\n",
    "        if p.ID in agents_to_vaccinate:\n",
    "            p.set_initially_recovered()"
   ]
  },
  {
   "cell_type": "code",
   "execution_count": 27,
   "metadata": {},
   "outputs": [],
   "source": [
    "# get list of vaccination order\n",
    "\n",
    "#ordered_agents = agents_forecasted\n",
    "#ordered_agents = agents_by_type\n",
    "#ordered_agents = agents_by_interactions\n",
    "#ordered_agents = agents_by_households\n",
    "#ordered_agents = agents_by_age\n",
    "ordered_agents = agents_random"
   ]
  },
  {
   "cell_type": "code",
   "execution_count": 28,
   "metadata": {},
   "outputs": [],
   "source": [
    "# get vaccinated fractions to simulate \n",
    "fractions = np.arange(0.1, 0.91, 0.2)"
   ]
  },
  {
   "cell_type": "code",
   "execution_count": 30,
   "metadata": {},
   "outputs": [
    {
     "name": "stdout",
     "output_type": "stream",
     "text": [
      "amount of initially recovered agents: 102\n",
      "list of initial infected changed from  [1, 2, 3, 4]  to  [2, 3, 4, 5]\n",
      "amount of initially recovered agents: 308\n",
      "list of initial infected changed from  [1, 2, 3, 4]  to  [2, 3, 4, 5]\n",
      "amount of initially recovered agents: 513\n",
      "list of initial infected changed from  [1, 2, 3, 4]  to  [4, 6, 7, 8]\n",
      "amount of initially recovered agents: 718\n",
      "list of initial infected changed from  [1, 2, 3, 4]  to  [6, 7, 8, 9]\n",
      "amount of initially recovered agents: 924\n",
      "list of initial infected changed from  [1, 2, 3, 4]  to  [6, 12, 15, 20]\n"
     ]
    }
   ],
   "source": [
    "# loop over fractions, vaccinate and simulate\n",
    "timesteps_vaccination_sim=3000\n",
    "results=pd.DataFrame(columns=['fraction','infected','icued','dead'])\n",
    "for frac in fractions:\n",
    "    world_to_use = copy.deepcopy(modeledWorld)\n",
    "    ordered_fraction = ordered_agents[:int(frac*len(ordered_agents))]\n",
    "    vaccinate_world(world_to_use, frac, ordered_agents)\n",
    "    infect_world(world_to_use, IDs=[i+1 for i in range(n_initially_infected)])\n",
    "    simulation_vaccinated_fraction = Simulation(world_to_use, timesteps_vaccination_sim, run_immediately=False)\n",
    "    simulation_vaccinated_fraction.simulate()\n",
    "    cummulative_flags = simulation_vaccinated_fraction.get_flag_sums_over_time(specific_flags=['WasInfected','ICUed'])\n",
    "    dead_agents = simulation_vaccinated_fraction.get_status_trajectories(specific_statuses=['D'])['D']['D'].iloc[-1]\n",
    "    infected_agents = cummulative_flags['WasInfected'].iloc[-1]\n",
    "    icued_agents = cummulative_flags['ICUed'].max()\n",
    "    results.loc[frac,'fraction']=frac\n",
    "    results.loc[frac,'infected']=infected_agents\n",
    "    results.loc[frac,'icued']=icued_agents\n",
    "    results.loc[frac,'dead']=dead_agents"
   ]
  },
  {
   "cell_type": "markdown",
   "metadata": {},
   "source": [
    "# Plot results of vaccination screens"
   ]
  },
  {
   "cell_type": "code",
   "execution_count": 31,
   "metadata": {},
   "outputs": [
    {
     "data": {
      "text/html": [
       "<div>\n",
       "<style scoped>\n",
       "    .dataframe tbody tr th:only-of-type {\n",
       "        vertical-align: middle;\n",
       "    }\n",
       "\n",
       "    .dataframe tbody tr th {\n",
       "        vertical-align: top;\n",
       "    }\n",
       "\n",
       "    .dataframe thead th {\n",
       "        text-align: right;\n",
       "    }\n",
       "</style>\n",
       "<table border=\"1\" class=\"dataframe\">\n",
       "  <thead>\n",
       "    <tr style=\"text-align: right;\">\n",
       "      <th></th>\n",
       "      <th>fraction</th>\n",
       "      <th>infected</th>\n",
       "      <th>icued</th>\n",
       "      <th>dead</th>\n",
       "    </tr>\n",
       "  </thead>\n",
       "  <tbody>\n",
       "    <tr>\n",
       "      <th>0.1</th>\n",
       "      <td>0.1</td>\n",
       "      <td>1016</td>\n",
       "      <td>9</td>\n",
       "      <td>12</td>\n",
       "    </tr>\n",
       "    <tr>\n",
       "      <th>0.3</th>\n",
       "      <td>0.3</td>\n",
       "      <td>1012</td>\n",
       "      <td>6</td>\n",
       "      <td>8</td>\n",
       "    </tr>\n",
       "    <tr>\n",
       "      <th>0.5</th>\n",
       "      <td>0.5</td>\n",
       "      <td>994</td>\n",
       "      <td>6</td>\n",
       "      <td>5</td>\n",
       "    </tr>\n",
       "    <tr>\n",
       "      <th>0.7</th>\n",
       "      <td>0.7</td>\n",
       "      <td>967</td>\n",
       "      <td>1</td>\n",
       "      <td>1</td>\n",
       "    </tr>\n",
       "    <tr>\n",
       "      <th>0.9</th>\n",
       "      <td>0.9</td>\n",
       "      <td>928</td>\n",
       "      <td>0</td>\n",
       "      <td>1</td>\n",
       "    </tr>\n",
       "  </tbody>\n",
       "</table>\n",
       "</div>"
      ],
      "text/plain": [
       "    fraction infected icued dead\n",
       "0.1      0.1     1016     9   12\n",
       "0.3      0.3     1012     6    8\n",
       "0.5      0.5      994     6    5\n",
       "0.7      0.7      967     1    1\n",
       "0.9      0.9      928     0    1"
      ]
     },
     "execution_count": 31,
     "metadata": {},
     "output_type": "execute_result"
    }
   ],
   "source": [
    "results"
   ]
  },
  {
   "cell_type": "code",
   "execution_count": null,
   "metadata": {},
   "outputs": [],
   "source": [
    " # zu viele infizierte. Es werden auch initial recoverte als wasInfected gewertet.\n",
    " # Wir müssen die anzahl der neu-Infizierten (im loop) evtl aus den infection_informations\n",
    " # ( .get_infection_event_information() ) holen.\n",
    " # das wären dann glaube ich einfach die anzahl der Einträge..."
   ]
  },
  {
   "cell_type": "code",
   "execution_count": null,
   "metadata": {},
   "outputs": [],
   "source": []
  },
  {
   "cell_type": "code",
   "execution_count": null,
   "metadata": {},
   "outputs": [],
   "source": []
  },
  {
   "cell_type": "code",
   "execution_count": null,
   "metadata": {},
   "outputs": [],
   "source": []
  }
 ],
 "metadata": {
  "kernelspec": {
   "display_name": "Python 3",
   "language": "python",
   "name": "python3"
  },
  "language_info": {
   "codemirror_mode": {
    "name": "ipython",
    "version": 3
   },
   "file_extension": ".py",
   "mimetype": "text/x-python",
   "name": "python",
   "nbconvert_exporter": "python",
   "pygments_lexer": "ipython3",
   "version": "3.6.9"
  }
 },
 "nbformat": 4,
 "nbformat_minor": 2
}
