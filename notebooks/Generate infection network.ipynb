{
 "cells": [
  {
   "cell_type": "markdown",
   "metadata": {},
   "source": [
    "# Generate infection network"
   ]
  },
  {
   "cell_type": "markdown",
   "metadata": {},
   "source": [
    "Notebook to produce the infection network as a function of time and save it as set of `.gml` files.\n",
    "\n",
    "Assumes currently `.csv` inputs as per the variables `HUMANS_PATH` and `INFECTIONS_PATH` below.\n",
    "\n",
    "Saves a version of the `HUMANS_PATH` `.csv` that contains the infections events.\n",
    "\n",
    "Also creates plot of the network using `networkx` and `matplotlib`."
   ]
  },
  {
   "cell_type": "code",
   "execution_count": 57,
   "metadata": {},
   "outputs": [],
   "source": [
    "import pandas as pd\n",
    "import numpy as np\n",
    "import matplotlib.colors\n",
    "import matplotlib.pyplot as plt\n",
    "%matplotlib inline\n",
    "import networkx as nx\n",
    "import pickle as pkl\n",
    "import gzip"
   ]
  },
  {
   "cell_type": "markdown",
   "metadata": {},
   "source": [
    "## 0. Global variables"
   ]
  },
  {
   "cell_type": "markdown",
   "metadata": {},
   "source": [
    "Paths:"
   ]
  },
  {
   "cell_type": "code",
   "execution_count": 54,
   "metadata": {},
   "outputs": [],
   "source": [
    "# HUMANS_PATH        = '../outputs/output-humans_time_course.csv'\n",
    "# INFECTIONS_PATH    = '../outputs/InfectionNetwork.csv'\n",
    "# EXPORT_GML_PATH    = '../outputs/network_static'\n",
    "# EXPORT_HUMANS_PATH = '../outputs/humans_infected_time_course.csv'\n",
    "HUMANS_PATH        = '../outputs/basicsenario-humans_time_course.csv'\n",
    "INFECTIONS_PATH    = '../outputs/basicscenario-infection_network.csv'\n",
    "EXPORT_GML_PATH    = '../outputs/network_static_basic_scenario'\n",
    "EXPORT_HUMANS_PATH = '../outputs/humans_infected_time_course_basic_scenario.csv'\n",
    "EXPORT_NX_PATH     = '../outputs/network_dynamic_nx_basic_scenario_'"
   ]
  },
  {
   "cell_type": "markdown",
   "metadata": {},
   "source": [
    "Colors:"
   ]
  },
  {
   "cell_type": "code",
   "execution_count": 3,
   "metadata": {},
   "outputs": [],
   "source": [
    "SUSCEPTIBLE_COLOR = 'silver'\n",
    "INFECTED_COLOR    = 'red'\n",
    "RECOVERED_COLOR   = 'limegreen'\n",
    "DEAD_COLOR        = 'black'\n",
    "\n",
    "status_colors = {'S': SUSCEPTIBLE_COLOR,\n",
    "                 'I': INFECTED_COLOR,\n",
    "                 'R': RECOVERED_COLOR,\n",
    "                 'D': DEAD_COLOR}"
   ]
  },
  {
   "cell_type": "markdown",
   "metadata": {},
   "source": [
    "https://stackoverflow.com/questions/18474791/decreasing-the-size-of-cpickle-objects"
   ]
  },
  {
   "cell_type": "code",
   "execution_count": 58,
   "metadata": {},
   "outputs": [],
   "source": [
    "def save_zipped_pickle(obj, filename, protocol=-1):\n",
    "    with gzip.open(filename, 'wb') as f:\n",
    "        pkl.dump(obj, f, protocol)"
   ]
  },
  {
   "cell_type": "code",
   "execution_count": 59,
   "metadata": {},
   "outputs": [],
   "source": [
    "def load_zipped_pickle(filename):\n",
    "    with gzip.open(filename, 'rb') as f:\n",
    "        loaded_object = pkl.load(f)\n",
    "        return loaded_object"
   ]
  },
  {
   "cell_type": "markdown",
   "metadata": {},
   "source": [
    "## 1. Read outputs"
   ]
  },
  {
   "cell_type": "markdown",
   "metadata": {},
   "source": [
    "Humans timecourses:"
   ]
  },
  {
   "cell_type": "code",
   "execution_count": 4,
   "metadata": {},
   "outputs": [
    {
     "name": "stdout",
     "output_type": "stream",
     "text": [
      "Wall time: 13.6 s\n"
     ]
    }
   ],
   "source": [
    "%%time\n",
    "humans_tc = pd.read_csv(HUMANS_PATH)"
   ]
  },
  {
   "cell_type": "markdown",
   "metadata": {},
   "source": [
    "Get rid of `Unnamed: 0`:"
   ]
  },
  {
   "cell_type": "code",
   "execution_count": 5,
   "metadata": {},
   "outputs": [],
   "source": [
    "humans_tc = humans_tc[['h_ID', 'loc', 'status', 'WasInfected', 'Diagnosed', 'Hospitalized', 'ICUed', 'time']]"
   ]
  },
  {
   "cell_type": "code",
   "execution_count": 6,
   "metadata": {},
   "outputs": [
    {
     "data": {
      "text/html": [
       "<div>\n",
       "<style scoped>\n",
       "    .dataframe tbody tr th:only-of-type {\n",
       "        vertical-align: middle;\n",
       "    }\n",
       "\n",
       "    .dataframe tbody tr th {\n",
       "        vertical-align: top;\n",
       "    }\n",
       "\n",
       "    .dataframe thead th {\n",
       "        text-align: right;\n",
       "    }\n",
       "</style>\n",
       "<table border=\"1\" class=\"dataframe\">\n",
       "  <thead>\n",
       "    <tr style=\"text-align: right;\">\n",
       "      <th></th>\n",
       "      <th>h_ID</th>\n",
       "      <th>loc</th>\n",
       "      <th>status</th>\n",
       "      <th>WasInfected</th>\n",
       "      <th>Diagnosed</th>\n",
       "      <th>Hospitalized</th>\n",
       "      <th>ICUed</th>\n",
       "      <th>time</th>\n",
       "    </tr>\n",
       "  </thead>\n",
       "  <tbody>\n",
       "    <tr>\n",
       "      <th>0</th>\n",
       "      <td>14298</td>\n",
       "      <td>4779</td>\n",
       "      <td>S</td>\n",
       "      <td>0</td>\n",
       "      <td>0</td>\n",
       "      <td>0</td>\n",
       "      <td>0</td>\n",
       "      <td>0</td>\n",
       "    </tr>\n",
       "    <tr>\n",
       "      <th>1</th>\n",
       "      <td>12027</td>\n",
       "      <td>4031</td>\n",
       "      <td>S</td>\n",
       "      <td>0</td>\n",
       "      <td>0</td>\n",
       "      <td>0</td>\n",
       "      <td>0</td>\n",
       "      <td>0</td>\n",
       "    </tr>\n",
       "    <tr>\n",
       "      <th>2</th>\n",
       "      <td>4033</td>\n",
       "      <td>1335</td>\n",
       "      <td>S</td>\n",
       "      <td>0</td>\n",
       "      <td>0</td>\n",
       "      <td>0</td>\n",
       "      <td>0</td>\n",
       "      <td>0</td>\n",
       "    </tr>\n",
       "    <tr>\n",
       "      <th>3</th>\n",
       "      <td>14300</td>\n",
       "      <td>4779</td>\n",
       "      <td>S</td>\n",
       "      <td>0</td>\n",
       "      <td>0</td>\n",
       "      <td>0</td>\n",
       "      <td>0</td>\n",
       "      <td>0</td>\n",
       "    </tr>\n",
       "    <tr>\n",
       "      <th>4</th>\n",
       "      <td>12032</td>\n",
       "      <td>4033</td>\n",
       "      <td>S</td>\n",
       "      <td>0</td>\n",
       "      <td>0</td>\n",
       "      <td>0</td>\n",
       "      <td>0</td>\n",
       "      <td>0</td>\n",
       "    </tr>\n",
       "  </tbody>\n",
       "</table>\n",
       "</div>"
      ],
      "text/plain": [
       "    h_ID   loc status  WasInfected  Diagnosed  Hospitalized  ICUed  time\n",
       "0  14298  4779      S            0          0             0      0     0\n",
       "1  12027  4031      S            0          0             0      0     0\n",
       "2   4033  1335      S            0          0             0      0     0\n",
       "3  14300  4779      S            0          0             0      0     0\n",
       "4  12032  4033      S            0          0             0      0     0"
      ]
     },
     "execution_count": 6,
     "metadata": {},
     "output_type": "execute_result"
    }
   ],
   "source": [
    "humans_tc.head()"
   ]
  },
  {
   "cell_type": "code",
   "execution_count": 7,
   "metadata": {},
   "outputs": [
    {
     "data": {
      "text/plain": [
       "(30050000, 8)"
      ]
     },
     "execution_count": 7,
     "metadata": {},
     "output_type": "execute_result"
    }
   ],
   "source": [
    "humans_tc.shape"
   ]
  },
  {
   "cell_type": "markdown",
   "metadata": {},
   "source": [
    "Infection network:"
   ]
  },
  {
   "cell_type": "code",
   "execution_count": 8,
   "metadata": {},
   "outputs": [],
   "source": [
    "infections = pd.read_csv(INFECTIONS_PATH)"
   ]
  },
  {
   "cell_type": "markdown",
   "metadata": {},
   "source": [
    "Get rid of `Unnamed: 0`:"
   ]
  },
  {
   "cell_type": "code",
   "execution_count": 9,
   "metadata": {},
   "outputs": [],
   "source": [
    "infections = infections[['h_ID', 'place_of_infection', 'infection_time', 'infected_by']]"
   ]
  },
  {
   "cell_type": "code",
   "execution_count": 10,
   "metadata": {},
   "outputs": [
    {
     "data": {
      "text/html": [
       "<div>\n",
       "<style scoped>\n",
       "    .dataframe tbody tr th:only-of-type {\n",
       "        vertical-align: middle;\n",
       "    }\n",
       "\n",
       "    .dataframe tbody tr th {\n",
       "        vertical-align: top;\n",
       "    }\n",
       "\n",
       "    .dataframe thead th {\n",
       "        text-align: right;\n",
       "    }\n",
       "</style>\n",
       "<table border=\"1\" class=\"dataframe\">\n",
       "  <thead>\n",
       "    <tr style=\"text-align: right;\">\n",
       "      <th></th>\n",
       "      <th>h_ID</th>\n",
       "      <th>place_of_infection</th>\n",
       "      <th>infection_time</th>\n",
       "      <th>infected_by</th>\n",
       "    </tr>\n",
       "  </thead>\n",
       "  <tbody>\n",
       "    <tr>\n",
       "      <th>0</th>\n",
       "      <td>10715</td>\n",
       "      <td>3603</td>\n",
       "      <td>0</td>\n",
       "      <td>NaN</td>\n",
       "    </tr>\n",
       "    <tr>\n",
       "      <th>1</th>\n",
       "      <td>10230</td>\n",
       "      <td>3448</td>\n",
       "      <td>0</td>\n",
       "      <td>NaN</td>\n",
       "    </tr>\n",
       "    <tr>\n",
       "      <th>2</th>\n",
       "      <td>978</td>\n",
       "      <td>321</td>\n",
       "      <td>0</td>\n",
       "      <td>NaN</td>\n",
       "    </tr>\n",
       "    <tr>\n",
       "      <th>3</th>\n",
       "      <td>9429</td>\n",
       "      <td>3173</td>\n",
       "      <td>0</td>\n",
       "      <td>NaN</td>\n",
       "    </tr>\n",
       "    <tr>\n",
       "      <th>4</th>\n",
       "      <td>8229</td>\n",
       "      <td>2774</td>\n",
       "      <td>0</td>\n",
       "      <td>NaN</td>\n",
       "    </tr>\n",
       "  </tbody>\n",
       "</table>\n",
       "</div>"
      ],
      "text/plain": [
       "    h_ID  place_of_infection  infection_time  infected_by\n",
       "0  10715                3603               0          NaN\n",
       "1  10230                3448               0          NaN\n",
       "2    978                 321               0          NaN\n",
       "3   9429                3173               0          NaN\n",
       "4   8229                2774               0          NaN"
      ]
     },
     "execution_count": 10,
     "metadata": {},
     "output_type": "execute_result"
    }
   ],
   "source": [
    "infections.head()"
   ]
  },
  {
   "cell_type": "markdown",
   "metadata": {},
   "source": [
    "Convert `infected_by` to `int`:"
   ]
  },
  {
   "cell_type": "markdown",
   "metadata": {},
   "source": [
    "Using `pd.Int32Dtype()` in order to keep `NaN`s."
   ]
  },
  {
   "cell_type": "code",
   "execution_count": 11,
   "metadata": {},
   "outputs": [],
   "source": [
    "infections['infected_by'] = infections['infected_by'].astype(pd.Int32Dtype())"
   ]
  },
  {
   "cell_type": "code",
   "execution_count": 12,
   "metadata": {},
   "outputs": [
    {
     "data": {
      "text/html": [
       "<div>\n",
       "<style scoped>\n",
       "    .dataframe tbody tr th:only-of-type {\n",
       "        vertical-align: middle;\n",
       "    }\n",
       "\n",
       "    .dataframe tbody tr th {\n",
       "        vertical-align: top;\n",
       "    }\n",
       "\n",
       "    .dataframe thead th {\n",
       "        text-align: right;\n",
       "    }\n",
       "</style>\n",
       "<table border=\"1\" class=\"dataframe\">\n",
       "  <thead>\n",
       "    <tr style=\"text-align: right;\">\n",
       "      <th></th>\n",
       "      <th>h_ID</th>\n",
       "      <th>place_of_infection</th>\n",
       "      <th>infection_time</th>\n",
       "      <th>infected_by</th>\n",
       "    </tr>\n",
       "  </thead>\n",
       "  <tbody>\n",
       "    <tr>\n",
       "      <th>0</th>\n",
       "      <td>10715</td>\n",
       "      <td>3603</td>\n",
       "      <td>0</td>\n",
       "      <td>&lt;NA&gt;</td>\n",
       "    </tr>\n",
       "    <tr>\n",
       "      <th>1</th>\n",
       "      <td>10230</td>\n",
       "      <td>3448</td>\n",
       "      <td>0</td>\n",
       "      <td>&lt;NA&gt;</td>\n",
       "    </tr>\n",
       "    <tr>\n",
       "      <th>2</th>\n",
       "      <td>978</td>\n",
       "      <td>321</td>\n",
       "      <td>0</td>\n",
       "      <td>&lt;NA&gt;</td>\n",
       "    </tr>\n",
       "    <tr>\n",
       "      <th>3</th>\n",
       "      <td>9429</td>\n",
       "      <td>3173</td>\n",
       "      <td>0</td>\n",
       "      <td>&lt;NA&gt;</td>\n",
       "    </tr>\n",
       "    <tr>\n",
       "      <th>4</th>\n",
       "      <td>8229</td>\n",
       "      <td>2774</td>\n",
       "      <td>0</td>\n",
       "      <td>&lt;NA&gt;</td>\n",
       "    </tr>\n",
       "  </tbody>\n",
       "</table>\n",
       "</div>"
      ],
      "text/plain": [
       "    h_ID  place_of_infection  infection_time  infected_by\n",
       "0  10715                3603               0         <NA>\n",
       "1  10230                3448               0         <NA>\n",
       "2    978                 321               0         <NA>\n",
       "3   9429                3173               0         <NA>\n",
       "4   8229                2774               0         <NA>"
      ]
     },
     "execution_count": 12,
     "metadata": {},
     "output_type": "execute_result"
    }
   ],
   "source": [
    "infections.head()"
   ]
  },
  {
   "cell_type": "code",
   "execution_count": 13,
   "metadata": {},
   "outputs": [
    {
     "data": {
      "text/plain": [
       "(13653, 4)"
      ]
     },
     "execution_count": 13,
     "metadata": {},
     "output_type": "execute_result"
    }
   ],
   "source": [
    "infections.shape"
   ]
  },
  {
   "cell_type": "markdown",
   "metadata": {},
   "source": [
    "## 2. Generate humans table"
   ]
  },
  {
   "cell_type": "markdown",
   "metadata": {},
   "source": [
    "Network up to a certain time:"
   ]
  },
  {
   "cell_type": "code",
   "execution_count": 26,
   "metadata": {},
   "outputs": [],
   "source": [
    "cutoff_time = 5 * 24 + 12"
   ]
  },
  {
   "cell_type": "markdown",
   "metadata": {},
   "source": [
    "All infections up to that time except initial (`NaN`) infections:"
   ]
  },
  {
   "cell_type": "code",
   "execution_count": 27,
   "metadata": {},
   "outputs": [],
   "source": [
    "infections_trimmed = infections[(infections['infection_time'] <= cutoff_time) & (infections['infected_by'].notna())]"
   ]
  },
  {
   "cell_type": "code",
   "execution_count": 28,
   "metadata": {},
   "outputs": [
    {
     "data": {
      "text/html": [
       "<div>\n",
       "<style scoped>\n",
       "    .dataframe tbody tr th:only-of-type {\n",
       "        vertical-align: middle;\n",
       "    }\n",
       "\n",
       "    .dataframe tbody tr th {\n",
       "        vertical-align: top;\n",
       "    }\n",
       "\n",
       "    .dataframe thead th {\n",
       "        text-align: right;\n",
       "    }\n",
       "</style>\n",
       "<table border=\"1\" class=\"dataframe\">\n",
       "  <thead>\n",
       "    <tr style=\"text-align: right;\">\n",
       "      <th></th>\n",
       "      <th>h_ID</th>\n",
       "      <th>place_of_infection</th>\n",
       "      <th>infection_time</th>\n",
       "      <th>infected_by</th>\n",
       "    </tr>\n",
       "  </thead>\n",
       "  <tbody>\n",
       "    <tr>\n",
       "      <th>10</th>\n",
       "      <td>977</td>\n",
       "      <td>321</td>\n",
       "      <td>49</td>\n",
       "      <td>978</td>\n",
       "    </tr>\n",
       "    <tr>\n",
       "      <th>11</th>\n",
       "      <td>10719</td>\n",
       "      <td>3603</td>\n",
       "      <td>52</td>\n",
       "      <td>10715</td>\n",
       "    </tr>\n",
       "    <tr>\n",
       "      <th>12</th>\n",
       "      <td>36</td>\n",
       "      <td>1263</td>\n",
       "      <td>61</td>\n",
       "      <td>5148</td>\n",
       "    </tr>\n",
       "    <tr>\n",
       "      <th>13</th>\n",
       "      <td>1261</td>\n",
       "      <td>3347</td>\n",
       "      <td>61</td>\n",
       "      <td>4703</td>\n",
       "    </tr>\n",
       "    <tr>\n",
       "      <th>14</th>\n",
       "      <td>10109</td>\n",
       "      <td>3202</td>\n",
       "      <td>63</td>\n",
       "      <td>5844</td>\n",
       "    </tr>\n",
       "    <tr>\n",
       "      <th>15</th>\n",
       "      <td>12400</td>\n",
       "      <td>1443</td>\n",
       "      <td>64</td>\n",
       "      <td>978</td>\n",
       "    </tr>\n",
       "    <tr>\n",
       "      <th>16</th>\n",
       "      <td>8228</td>\n",
       "      <td>2774</td>\n",
       "      <td>70</td>\n",
       "      <td>8229</td>\n",
       "    </tr>\n",
       "    <tr>\n",
       "      <th>17</th>\n",
       "      <td>10717</td>\n",
       "      <td>3603</td>\n",
       "      <td>77</td>\n",
       "      <td>10715</td>\n",
       "    </tr>\n",
       "    <tr>\n",
       "      <th>18</th>\n",
       "      <td>10718</td>\n",
       "      <td>3603</td>\n",
       "      <td>78</td>\n",
       "      <td>10715</td>\n",
       "    </tr>\n",
       "    <tr>\n",
       "      <th>19</th>\n",
       "      <td>3878</td>\n",
       "      <td>1263</td>\n",
       "      <td>82</td>\n",
       "      <td>5148</td>\n",
       "    </tr>\n",
       "    <tr>\n",
       "      <th>20</th>\n",
       "      <td>13496</td>\n",
       "      <td>3202</td>\n",
       "      <td>84</td>\n",
       "      <td>5844</td>\n",
       "    </tr>\n",
       "    <tr>\n",
       "      <th>21</th>\n",
       "      <td>2653</td>\n",
       "      <td>1307</td>\n",
       "      <td>86</td>\n",
       "      <td>10719</td>\n",
       "    </tr>\n",
       "    <tr>\n",
       "      <th>22</th>\n",
       "      <td>7180</td>\n",
       "      <td>2568</td>\n",
       "      <td>87</td>\n",
       "      <td>10715</td>\n",
       "    </tr>\n",
       "    <tr>\n",
       "      <th>23</th>\n",
       "      <td>9321</td>\n",
       "      <td>1302</td>\n",
       "      <td>89</td>\n",
       "      <td>10230</td>\n",
       "    </tr>\n",
       "    <tr>\n",
       "      <th>24</th>\n",
       "      <td>5704</td>\n",
       "      <td>2568</td>\n",
       "      <td>91</td>\n",
       "      <td>5844</td>\n",
       "    </tr>\n",
       "    <tr>\n",
       "      <th>25</th>\n",
       "      <td>10226</td>\n",
       "      <td>3448</td>\n",
       "      <td>97</td>\n",
       "      <td>10230</td>\n",
       "    </tr>\n",
       "    <tr>\n",
       "      <th>26</th>\n",
       "      <td>3122</td>\n",
       "      <td>1030</td>\n",
       "      <td>97</td>\n",
       "      <td>3120</td>\n",
       "    </tr>\n",
       "    <tr>\n",
       "      <th>27</th>\n",
       "      <td>10231</td>\n",
       "      <td>3448</td>\n",
       "      <td>97</td>\n",
       "      <td>10230</td>\n",
       "    </tr>\n",
       "    <tr>\n",
       "      <th>28</th>\n",
       "      <td>10229</td>\n",
       "      <td>3448</td>\n",
       "      <td>98</td>\n",
       "      <td>10230</td>\n",
       "    </tr>\n",
       "    <tr>\n",
       "      <th>29</th>\n",
       "      <td>5842</td>\n",
       "      <td>1935</td>\n",
       "      <td>100</td>\n",
       "      <td>5844</td>\n",
       "    </tr>\n",
       "    <tr>\n",
       "      <th>30</th>\n",
       "      <td>3130</td>\n",
       "      <td>1302</td>\n",
       "      <td>107</td>\n",
       "      <td>10230</td>\n",
       "    </tr>\n",
       "    <tr>\n",
       "      <th>31</th>\n",
       "      <td>6788</td>\n",
       "      <td>1588</td>\n",
       "      <td>107</td>\n",
       "      <td>9429</td>\n",
       "    </tr>\n",
       "    <tr>\n",
       "      <th>32</th>\n",
       "      <td>197</td>\n",
       "      <td>1263</td>\n",
       "      <td>111</td>\n",
       "      <td>10715</td>\n",
       "    </tr>\n",
       "    <tr>\n",
       "      <th>33</th>\n",
       "      <td>5650</td>\n",
       "      <td>1302</td>\n",
       "      <td>114</td>\n",
       "      <td>10230</td>\n",
       "    </tr>\n",
       "    <tr>\n",
       "      <th>34</th>\n",
       "      <td>5228</td>\n",
       "      <td>3202</td>\n",
       "      <td>114</td>\n",
       "      <td>10109</td>\n",
       "    </tr>\n",
       "    <tr>\n",
       "      <th>35</th>\n",
       "      <td>5843</td>\n",
       "      <td>1935</td>\n",
       "      <td>121</td>\n",
       "      <td>5844</td>\n",
       "    </tr>\n",
       "    <tr>\n",
       "      <th>36</th>\n",
       "      <td>3879</td>\n",
       "      <td>1280</td>\n",
       "      <td>127</td>\n",
       "      <td>3878</td>\n",
       "    </tr>\n",
       "    <tr>\n",
       "      <th>37</th>\n",
       "      <td>10716</td>\n",
       "      <td>3603</td>\n",
       "      <td>128</td>\n",
       "      <td>10719</td>\n",
       "    </tr>\n",
       "    <tr>\n",
       "      <th>38</th>\n",
       "      <td>37</td>\n",
       "      <td>11</td>\n",
       "      <td>129</td>\n",
       "      <td>36</td>\n",
       "    </tr>\n",
       "    <tr>\n",
       "      <th>39</th>\n",
       "      <td>4702</td>\n",
       "      <td>1554</td>\n",
       "      <td>130</td>\n",
       "      <td>4703</td>\n",
       "    </tr>\n",
       "  </tbody>\n",
       "</table>\n",
       "</div>"
      ],
      "text/plain": [
       "     h_ID  place_of_infection  infection_time  infected_by\n",
       "10    977                 321              49          978\n",
       "11  10719                3603              52        10715\n",
       "12     36                1263              61         5148\n",
       "13   1261                3347              61         4703\n",
       "14  10109                3202              63         5844\n",
       "15  12400                1443              64          978\n",
       "16   8228                2774              70         8229\n",
       "17  10717                3603              77        10715\n",
       "18  10718                3603              78        10715\n",
       "19   3878                1263              82         5148\n",
       "20  13496                3202              84         5844\n",
       "21   2653                1307              86        10719\n",
       "22   7180                2568              87        10715\n",
       "23   9321                1302              89        10230\n",
       "24   5704                2568              91         5844\n",
       "25  10226                3448              97        10230\n",
       "26   3122                1030              97         3120\n",
       "27  10231                3448              97        10230\n",
       "28  10229                3448              98        10230\n",
       "29   5842                1935             100         5844\n",
       "30   3130                1302             107        10230\n",
       "31   6788                1588             107         9429\n",
       "32    197                1263             111        10715\n",
       "33   5650                1302             114        10230\n",
       "34   5228                3202             114        10109\n",
       "35   5843                1935             121         5844\n",
       "36   3879                1280             127         3878\n",
       "37  10716                3603             128        10719\n",
       "38     37                  11             129           36\n",
       "39   4702                1554             130         4703"
      ]
     },
     "execution_count": 28,
     "metadata": {},
     "output_type": "execute_result"
    }
   ],
   "source": [
    "infections_trimmed"
   ]
  },
  {
   "cell_type": "markdown",
   "metadata": {},
   "source": [
    "Spreaders ranked by cumulative number of infections:"
   ]
  },
  {
   "cell_type": "code",
   "execution_count": 29,
   "metadata": {},
   "outputs": [
    {
     "data": {
      "text/plain": [
       "10230    6\n",
       "5844     5\n",
       "10715    5\n",
       "10719    2\n",
       "978      2\n",
       "5148     2\n",
       "4703     2\n",
       "36       1\n",
       "8229     1\n",
       "3878     1\n",
       "3120     1\n",
       "9429     1\n",
       "10109    1\n",
       "NaN      0\n",
       "Name: infected_by, dtype: Int64"
      ]
     },
     "execution_count": 29,
     "metadata": {},
     "output_type": "execute_result"
    }
   ],
   "source": [
    "infections_trimmed.infected_by.value_counts(dropna = False)"
   ]
  },
  {
   "cell_type": "code",
   "execution_count": 30,
   "metadata": {},
   "outputs": [
    {
     "name": "stdout",
     "output_type": "stream",
     "text": [
      "Wall time: 13.9 s\n"
     ]
    }
   ],
   "source": [
    "%%time\n",
    "humans_tc_with_infected = pd.merge(left = humans_tc,\n",
    "                                   right = infections, \n",
    "                                   how = 'left',\n",
    "                                   left_on = ['h_ID', 'time'],\n",
    "                                   right_on = ['h_ID', 'infection_time'])"
   ]
  },
  {
   "cell_type": "code",
   "execution_count": 31,
   "metadata": {},
   "outputs": [
    {
     "data": {
      "text/html": [
       "<div>\n",
       "<style scoped>\n",
       "    .dataframe tbody tr th:only-of-type {\n",
       "        vertical-align: middle;\n",
       "    }\n",
       "\n",
       "    .dataframe tbody tr th {\n",
       "        vertical-align: top;\n",
       "    }\n",
       "\n",
       "    .dataframe thead th {\n",
       "        text-align: right;\n",
       "    }\n",
       "</style>\n",
       "<table border=\"1\" class=\"dataframe\">\n",
       "  <thead>\n",
       "    <tr style=\"text-align: right;\">\n",
       "      <th></th>\n",
       "      <th>h_ID</th>\n",
       "      <th>loc</th>\n",
       "      <th>status</th>\n",
       "      <th>WasInfected</th>\n",
       "      <th>Diagnosed</th>\n",
       "      <th>Hospitalized</th>\n",
       "      <th>ICUed</th>\n",
       "      <th>time</th>\n",
       "      <th>place_of_infection</th>\n",
       "      <th>infection_time</th>\n",
       "      <th>infected_by</th>\n",
       "    </tr>\n",
       "  </thead>\n",
       "  <tbody>\n",
       "    <tr>\n",
       "      <th>0</th>\n",
       "      <td>14298</td>\n",
       "      <td>4779</td>\n",
       "      <td>S</td>\n",
       "      <td>0</td>\n",
       "      <td>0</td>\n",
       "      <td>0</td>\n",
       "      <td>0</td>\n",
       "      <td>0</td>\n",
       "      <td>NaN</td>\n",
       "      <td>NaN</td>\n",
       "      <td>&lt;NA&gt;</td>\n",
       "    </tr>\n",
       "    <tr>\n",
       "      <th>1</th>\n",
       "      <td>12027</td>\n",
       "      <td>4031</td>\n",
       "      <td>S</td>\n",
       "      <td>0</td>\n",
       "      <td>0</td>\n",
       "      <td>0</td>\n",
       "      <td>0</td>\n",
       "      <td>0</td>\n",
       "      <td>NaN</td>\n",
       "      <td>NaN</td>\n",
       "      <td>&lt;NA&gt;</td>\n",
       "    </tr>\n",
       "    <tr>\n",
       "      <th>2</th>\n",
       "      <td>4033</td>\n",
       "      <td>1335</td>\n",
       "      <td>S</td>\n",
       "      <td>0</td>\n",
       "      <td>0</td>\n",
       "      <td>0</td>\n",
       "      <td>0</td>\n",
       "      <td>0</td>\n",
       "      <td>NaN</td>\n",
       "      <td>NaN</td>\n",
       "      <td>&lt;NA&gt;</td>\n",
       "    </tr>\n",
       "    <tr>\n",
       "      <th>3</th>\n",
       "      <td>14300</td>\n",
       "      <td>4779</td>\n",
       "      <td>S</td>\n",
       "      <td>0</td>\n",
       "      <td>0</td>\n",
       "      <td>0</td>\n",
       "      <td>0</td>\n",
       "      <td>0</td>\n",
       "      <td>NaN</td>\n",
       "      <td>NaN</td>\n",
       "      <td>&lt;NA&gt;</td>\n",
       "    </tr>\n",
       "    <tr>\n",
       "      <th>4</th>\n",
       "      <td>12032</td>\n",
       "      <td>4033</td>\n",
       "      <td>S</td>\n",
       "      <td>0</td>\n",
       "      <td>0</td>\n",
       "      <td>0</td>\n",
       "      <td>0</td>\n",
       "      <td>0</td>\n",
       "      <td>NaN</td>\n",
       "      <td>NaN</td>\n",
       "      <td>&lt;NA&gt;</td>\n",
       "    </tr>\n",
       "  </tbody>\n",
       "</table>\n",
       "</div>"
      ],
      "text/plain": [
       "    h_ID   loc status  WasInfected  Diagnosed  Hospitalized  ICUed  time  \\\n",
       "0  14298  4779      S            0          0             0      0     0   \n",
       "1  12027  4031      S            0          0             0      0     0   \n",
       "2   4033  1335      S            0          0             0      0     0   \n",
       "3  14300  4779      S            0          0             0      0     0   \n",
       "4  12032  4033      S            0          0             0      0     0   \n",
       "\n",
       "   place_of_infection  infection_time  infected_by  \n",
       "0                 NaN             NaN         <NA>  \n",
       "1                 NaN             NaN         <NA>  \n",
       "2                 NaN             NaN         <NA>  \n",
       "3                 NaN             NaN         <NA>  \n",
       "4                 NaN             NaN         <NA>  "
      ]
     },
     "execution_count": 31,
     "metadata": {},
     "output_type": "execute_result"
    }
   ],
   "source": [
    "humans_tc_with_infected.head()"
   ]
  },
  {
   "cell_type": "markdown",
   "metadata": {},
   "source": [
    "Only humans at infection times:"
   ]
  },
  {
   "cell_type": "code",
   "execution_count": 32,
   "metadata": {},
   "outputs": [
    {
     "data": {
      "text/html": [
       "<div>\n",
       "<style scoped>\n",
       "    .dataframe tbody tr th:only-of-type {\n",
       "        vertical-align: middle;\n",
       "    }\n",
       "\n",
       "    .dataframe tbody tr th {\n",
       "        vertical-align: top;\n",
       "    }\n",
       "\n",
       "    .dataframe thead th {\n",
       "        text-align: right;\n",
       "    }\n",
       "</style>\n",
       "<table border=\"1\" class=\"dataframe\">\n",
       "  <thead>\n",
       "    <tr style=\"text-align: right;\">\n",
       "      <th></th>\n",
       "      <th>h_ID</th>\n",
       "      <th>loc</th>\n",
       "      <th>status</th>\n",
       "      <th>WasInfected</th>\n",
       "      <th>Diagnosed</th>\n",
       "      <th>Hospitalized</th>\n",
       "      <th>ICUed</th>\n",
       "      <th>time</th>\n",
       "      <th>place_of_infection</th>\n",
       "      <th>infection_time</th>\n",
       "      <th>infected_by</th>\n",
       "    </tr>\n",
       "  </thead>\n",
       "  <tbody>\n",
       "    <tr>\n",
       "      <th>743985</th>\n",
       "      <td>977</td>\n",
       "      <td>321</td>\n",
       "      <td>I</td>\n",
       "      <td>1</td>\n",
       "      <td>0</td>\n",
       "      <td>0</td>\n",
       "      <td>0</td>\n",
       "      <td>49</td>\n",
       "      <td>321.0</td>\n",
       "      <td>49.0</td>\n",
       "      <td>978</td>\n",
       "    </tr>\n",
       "    <tr>\n",
       "      <th>782010</th>\n",
       "      <td>10719</td>\n",
       "      <td>3603</td>\n",
       "      <td>I</td>\n",
       "      <td>1</td>\n",
       "      <td>0</td>\n",
       "      <td>0</td>\n",
       "      <td>0</td>\n",
       "      <td>52</td>\n",
       "      <td>3603.0</td>\n",
       "      <td>52.0</td>\n",
       "      <td>10715</td>\n",
       "    </tr>\n",
       "    <tr>\n",
       "      <th>917208</th>\n",
       "      <td>36</td>\n",
       "      <td>1263</td>\n",
       "      <td>I</td>\n",
       "      <td>1</td>\n",
       "      <td>0</td>\n",
       "      <td>0</td>\n",
       "      <td>0</td>\n",
       "      <td>61</td>\n",
       "      <td>1263.0</td>\n",
       "      <td>61.0</td>\n",
       "      <td>5148</td>\n",
       "    </tr>\n",
       "    <tr>\n",
       "      <th>926592</th>\n",
       "      <td>1261</td>\n",
       "      <td>3347</td>\n",
       "      <td>I</td>\n",
       "      <td>1</td>\n",
       "      <td>0</td>\n",
       "      <td>0</td>\n",
       "      <td>0</td>\n",
       "      <td>61</td>\n",
       "      <td>3347.0</td>\n",
       "      <td>61.0</td>\n",
       "      <td>4703</td>\n",
       "    </tr>\n",
       "    <tr>\n",
       "      <th>949050</th>\n",
       "      <td>10109</td>\n",
       "      <td>3202</td>\n",
       "      <td>I</td>\n",
       "      <td>1</td>\n",
       "      <td>0</td>\n",
       "      <td>0</td>\n",
       "      <td>0</td>\n",
       "      <td>63</td>\n",
       "      <td>3202.0</td>\n",
       "      <td>63.0</td>\n",
       "      <td>5844</td>\n",
       "    </tr>\n",
       "    <tr>\n",
       "      <th>...</th>\n",
       "      <td>...</td>\n",
       "      <td>...</td>\n",
       "      <td>...</td>\n",
       "      <td>...</td>\n",
       "      <td>...</td>\n",
       "      <td>...</td>\n",
       "      <td>...</td>\n",
       "      <td>...</td>\n",
       "      <td>...</td>\n",
       "      <td>...</td>\n",
       "      <td>...</td>\n",
       "    </tr>\n",
       "    <tr>\n",
       "      <th>17333041</th>\n",
       "      <td>5247</td>\n",
       "      <td>1737</td>\n",
       "      <td>I</td>\n",
       "      <td>1</td>\n",
       "      <td>0</td>\n",
       "      <td>0</td>\n",
       "      <td>0</td>\n",
       "      <td>1153</td>\n",
       "      <td>1737.0</td>\n",
       "      <td>1153.0</td>\n",
       "      <td>5249</td>\n",
       "    </tr>\n",
       "    <tr>\n",
       "      <th>17510339</th>\n",
       "      <td>8805</td>\n",
       "      <td>1734</td>\n",
       "      <td>I</td>\n",
       "      <td>1</td>\n",
       "      <td>0</td>\n",
       "      <td>0</td>\n",
       "      <td>0</td>\n",
       "      <td>1165</td>\n",
       "      <td>1734.0</td>\n",
       "      <td>1165.0</td>\n",
       "      <td>5118</td>\n",
       "    </tr>\n",
       "    <tr>\n",
       "      <th>17534980</th>\n",
       "      <td>4107</td>\n",
       "      <td>2586</td>\n",
       "      <td>I</td>\n",
       "      <td>1</td>\n",
       "      <td>0</td>\n",
       "      <td>0</td>\n",
       "      <td>0</td>\n",
       "      <td>1167</td>\n",
       "      <td>2586.0</td>\n",
       "      <td>1167.0</td>\n",
       "      <td>12414</td>\n",
       "    </tr>\n",
       "    <tr>\n",
       "      <th>17756404</th>\n",
       "      <td>11496</td>\n",
       "      <td>3855</td>\n",
       "      <td>I</td>\n",
       "      <td>1</td>\n",
       "      <td>0</td>\n",
       "      <td>0</td>\n",
       "      <td>0</td>\n",
       "      <td>1181</td>\n",
       "      <td>3855.0</td>\n",
       "      <td>1181.0</td>\n",
       "      <td>11498</td>\n",
       "    </tr>\n",
       "    <tr>\n",
       "      <th>18331693</th>\n",
       "      <td>12781</td>\n",
       "      <td>2571</td>\n",
       "      <td>I</td>\n",
       "      <td>1</td>\n",
       "      <td>0</td>\n",
       "      <td>0</td>\n",
       "      <td>0</td>\n",
       "      <td>1220</td>\n",
       "      <td>2571.0</td>\n",
       "      <td>1220.0</td>\n",
       "      <td>11496</td>\n",
       "    </tr>\n",
       "  </tbody>\n",
       "</table>\n",
       "<p>13643 rows × 11 columns</p>\n",
       "</div>"
      ],
      "text/plain": [
       "           h_ID   loc status  WasInfected  Diagnosed  Hospitalized  ICUed  \\\n",
       "743985      977   321      I            1          0             0      0   \n",
       "782010    10719  3603      I            1          0             0      0   \n",
       "917208       36  1263      I            1          0             0      0   \n",
       "926592     1261  3347      I            1          0             0      0   \n",
       "949050    10109  3202      I            1          0             0      0   \n",
       "...         ...   ...    ...          ...        ...           ...    ...   \n",
       "17333041   5247  1737      I            1          0             0      0   \n",
       "17510339   8805  1734      I            1          0             0      0   \n",
       "17534980   4107  2586      I            1          0             0      0   \n",
       "17756404  11496  3855      I            1          0             0      0   \n",
       "18331693  12781  2571      I            1          0             0      0   \n",
       "\n",
       "          time  place_of_infection  infection_time  infected_by  \n",
       "743985      49               321.0            49.0          978  \n",
       "782010      52              3603.0            52.0        10715  \n",
       "917208      61              1263.0            61.0         5148  \n",
       "926592      61              3347.0            61.0         4703  \n",
       "949050      63              3202.0            63.0         5844  \n",
       "...        ...                 ...             ...          ...  \n",
       "17333041  1153              1737.0          1153.0         5249  \n",
       "17510339  1165              1734.0          1165.0         5118  \n",
       "17534980  1167              2586.0          1167.0        12414  \n",
       "17756404  1181              3855.0          1181.0        11498  \n",
       "18331693  1220              2571.0          1220.0        11496  \n",
       "\n",
       "[13643 rows x 11 columns]"
      ]
     },
     "execution_count": 32,
     "metadata": {},
     "output_type": "execute_result"
    }
   ],
   "source": [
    "humans_tc_with_infected[humans_tc_with_infected.infected_by.notna()]"
   ]
  },
  {
   "cell_type": "markdown",
   "metadata": {},
   "source": [
    "Convert `infection_time` and `place_of_infection` to `int`:"
   ]
  },
  {
   "cell_type": "markdown",
   "metadata": {},
   "source": [
    "Using `pd.Int32Dtype()` in order to keep `NaN`s."
   ]
  },
  {
   "cell_type": "code",
   "execution_count": 34,
   "metadata": {},
   "outputs": [],
   "source": [
    "humans_tc_with_infected['infection_time'] = humans_tc_with_infected['infection_time'].astype(pd.Int32Dtype())\n",
    "humans_tc_with_infected['place_of_infection'] = humans_tc_with_infected['place_of_infection'].astype(pd.Int32Dtype())"
   ]
  },
  {
   "cell_type": "code",
   "execution_count": 35,
   "metadata": {},
   "outputs": [
    {
     "data": {
      "text/plain": [
       "(30050000, 11)"
      ]
     },
     "execution_count": 35,
     "metadata": {},
     "output_type": "execute_result"
    }
   ],
   "source": [
    "humans_tc_with_infected.shape"
   ]
  },
  {
   "cell_type": "code",
   "execution_count": 36,
   "metadata": {},
   "outputs": [
    {
     "data": {
      "text/html": [
       "<div>\n",
       "<style scoped>\n",
       "    .dataframe tbody tr th:only-of-type {\n",
       "        vertical-align: middle;\n",
       "    }\n",
       "\n",
       "    .dataframe tbody tr th {\n",
       "        vertical-align: top;\n",
       "    }\n",
       "\n",
       "    .dataframe thead th {\n",
       "        text-align: right;\n",
       "    }\n",
       "</style>\n",
       "<table border=\"1\" class=\"dataframe\">\n",
       "  <thead>\n",
       "    <tr style=\"text-align: right;\">\n",
       "      <th></th>\n",
       "      <th>h_ID</th>\n",
       "      <th>loc</th>\n",
       "      <th>status</th>\n",
       "      <th>WasInfected</th>\n",
       "      <th>Diagnosed</th>\n",
       "      <th>Hospitalized</th>\n",
       "      <th>ICUed</th>\n",
       "      <th>time</th>\n",
       "      <th>place_of_infection</th>\n",
       "      <th>infection_time</th>\n",
       "      <th>infected_by</th>\n",
       "    </tr>\n",
       "  </thead>\n",
       "  <tbody>\n",
       "    <tr>\n",
       "      <th>0</th>\n",
       "      <td>14298</td>\n",
       "      <td>4779</td>\n",
       "      <td>S</td>\n",
       "      <td>0</td>\n",
       "      <td>0</td>\n",
       "      <td>0</td>\n",
       "      <td>0</td>\n",
       "      <td>0</td>\n",
       "      <td>&lt;NA&gt;</td>\n",
       "      <td>&lt;NA&gt;</td>\n",
       "      <td>&lt;NA&gt;</td>\n",
       "    </tr>\n",
       "    <tr>\n",
       "      <th>1</th>\n",
       "      <td>12027</td>\n",
       "      <td>4031</td>\n",
       "      <td>S</td>\n",
       "      <td>0</td>\n",
       "      <td>0</td>\n",
       "      <td>0</td>\n",
       "      <td>0</td>\n",
       "      <td>0</td>\n",
       "      <td>&lt;NA&gt;</td>\n",
       "      <td>&lt;NA&gt;</td>\n",
       "      <td>&lt;NA&gt;</td>\n",
       "    </tr>\n",
       "    <tr>\n",
       "      <th>2</th>\n",
       "      <td>4033</td>\n",
       "      <td>1335</td>\n",
       "      <td>S</td>\n",
       "      <td>0</td>\n",
       "      <td>0</td>\n",
       "      <td>0</td>\n",
       "      <td>0</td>\n",
       "      <td>0</td>\n",
       "      <td>&lt;NA&gt;</td>\n",
       "      <td>&lt;NA&gt;</td>\n",
       "      <td>&lt;NA&gt;</td>\n",
       "    </tr>\n",
       "    <tr>\n",
       "      <th>3</th>\n",
       "      <td>14300</td>\n",
       "      <td>4779</td>\n",
       "      <td>S</td>\n",
       "      <td>0</td>\n",
       "      <td>0</td>\n",
       "      <td>0</td>\n",
       "      <td>0</td>\n",
       "      <td>0</td>\n",
       "      <td>&lt;NA&gt;</td>\n",
       "      <td>&lt;NA&gt;</td>\n",
       "      <td>&lt;NA&gt;</td>\n",
       "    </tr>\n",
       "    <tr>\n",
       "      <th>4</th>\n",
       "      <td>12032</td>\n",
       "      <td>4033</td>\n",
       "      <td>S</td>\n",
       "      <td>0</td>\n",
       "      <td>0</td>\n",
       "      <td>0</td>\n",
       "      <td>0</td>\n",
       "      <td>0</td>\n",
       "      <td>&lt;NA&gt;</td>\n",
       "      <td>&lt;NA&gt;</td>\n",
       "      <td>&lt;NA&gt;</td>\n",
       "    </tr>\n",
       "  </tbody>\n",
       "</table>\n",
       "</div>"
      ],
      "text/plain": [
       "    h_ID   loc status  WasInfected  Diagnosed  Hospitalized  ICUed  time  \\\n",
       "0  14298  4779      S            0          0             0      0     0   \n",
       "1  12027  4031      S            0          0             0      0     0   \n",
       "2   4033  1335      S            0          0             0      0     0   \n",
       "3  14300  4779      S            0          0             0      0     0   \n",
       "4  12032  4033      S            0          0             0      0     0   \n",
       "\n",
       "   place_of_infection  infection_time  infected_by  \n",
       "0                <NA>            <NA>         <NA>  \n",
       "1                <NA>            <NA>         <NA>  \n",
       "2                <NA>            <NA>         <NA>  \n",
       "3                <NA>            <NA>         <NA>  \n",
       "4                <NA>            <NA>         <NA>  "
      ]
     },
     "execution_count": 36,
     "metadata": {},
     "output_type": "execute_result"
    }
   ],
   "source": [
    "humans_tc_with_infected.head()"
   ]
  },
  {
   "cell_type": "markdown",
   "metadata": {},
   "source": [
    "Status statistics at cutoff time:"
   ]
  },
  {
   "cell_type": "code",
   "execution_count": 37,
   "metadata": {},
   "outputs": [
    {
     "data": {
      "text/plain": [
       "S    14985\n",
       "I       39\n",
       "R        1\n",
       "Name: status, dtype: int64"
      ]
     },
     "execution_count": 37,
     "metadata": {},
     "output_type": "execute_result"
    }
   ],
   "source": [
    "humans_tc_with_infected[humans_tc_with_infected[\"time\"] == cutoff_time].status.value_counts()"
   ]
  },
  {
   "cell_type": "code",
   "execution_count": 33,
   "metadata": {},
   "outputs": [
    {
     "name": "stdout",
     "output_type": "stream",
     "text": [
      "Wall time: 1min 57s\n"
     ]
    }
   ],
   "source": [
    "%%time\n",
    "humans_tc_with_infected.to_csv(EXPORT_HUMANS_PATH, sep = \";\", index = False)"
   ]
  },
  {
   "cell_type": "markdown",
   "metadata": {},
   "source": [
    "## 3. Generate `networkx` objects"
   ]
  },
  {
   "cell_type": "markdown",
   "metadata": {},
   "source": [
    "Generate edge list:"
   ]
  },
  {
   "cell_type": "code",
   "execution_count": 41,
   "metadata": {},
   "outputs": [],
   "source": [
    "infection_events = list(zip(infections_trimmed['infected_by'], infections_trimmed['h_ID']))"
   ]
  },
  {
   "cell_type": "code",
   "execution_count": 42,
   "metadata": {},
   "outputs": [
    {
     "data": {
      "text/plain": [
       "[(978, 977),\n",
       " (10715, 10719),\n",
       " (5148, 36),\n",
       " (4703, 1261),\n",
       " (5844, 10109),\n",
       " (978, 12400),\n",
       " (8229, 8228),\n",
       " (10715, 10717),\n",
       " (10715, 10718),\n",
       " (5148, 3878),\n",
       " (5844, 13496),\n",
       " (10719, 2653),\n",
       " (10715, 7180),\n",
       " (10230, 9321),\n",
       " (5844, 5704),\n",
       " (10230, 10226),\n",
       " (3120, 3122),\n",
       " (10230, 10231),\n",
       " (10230, 10229),\n",
       " (5844, 5842),\n",
       " (10230, 3130),\n",
       " (9429, 6788),\n",
       " (10715, 197),\n",
       " (10230, 5650),\n",
       " (10109, 5228),\n",
       " (5844, 5843),\n",
       " (3878, 3879),\n",
       " (10719, 10716),\n",
       " (36, 37),\n",
       " (4703, 4702)]"
      ]
     },
     "execution_count": 42,
     "metadata": {},
     "output_type": "execute_result"
    }
   ],
   "source": [
    "infection_events"
   ]
  },
  {
   "cell_type": "markdown",
   "metadata": {},
   "source": [
    "Time-resolved, alternatively via `humans_tc_with_infected`:"
   ]
  },
  {
   "cell_type": "code",
   "execution_count": 43,
   "metadata": {},
   "outputs": [],
   "source": [
    "infection_edges = dict()\n",
    "times = np.unique(humans_tc_with_infected.time.values)"
   ]
  },
  {
   "cell_type": "markdown",
   "metadata": {},
   "source": [
    "Generate `dict` of infection events at discrete times:"
   ]
  },
  {
   "cell_type": "code",
   "execution_count": 46,
   "metadata": {},
   "outputs": [
    {
     "name": "stdout",
     "output_type": "stream",
     "text": [
      "0 (0, 11)   100 (1, 11)   200 (1, 11)   300 (3, 11)   400 (20, 11)   500 (38, 11)   600 (30, 11)   700 (13, 11)   800 (9, 11)   900 (4, 11)   1000 (1, 11)   1100 (0, 11)   1200 (0, 11)   1300 (0, 11)   1400 (0, 11)   1500 (0, 11)   1600 (0, 11)   1700 (0, 11)   1800 (0, 11)   1900 (0, 11)   "
     ]
    }
   ],
   "source": [
    "for time in times:\n",
    "    infections_at_time = humans_tc_with_infected[(humans_tc_with_infected.time == time) & (humans_tc_with_infected.infected_by.notna())]\n",
    "    if time % 100 == 0:\n",
    "        print(time, infections_at_time.shape, end = \"   \")\n",
    "    infection_edges[time] = list(zip(infections_at_time['infected_by'], infections_at_time['h_ID']))"
   ]
  },
  {
   "cell_type": "code",
   "execution_count": 47,
   "metadata": {},
   "outputs": [
    {
     "data": {
      "text/plain": [
       "[(3117, 11506),\n",
       " (9346, 9345),\n",
       " (7346, 9674),\n",
       " (11937, 5286),\n",
       " (14153, 14155),\n",
       " (11599, 11601),\n",
       " (6798, 6799),\n",
       " (12521, 12522),\n",
       " (10406, 10407)]"
      ]
     },
     "execution_count": 47,
     "metadata": {},
     "output_type": "execute_result"
    }
   ],
   "source": [
    "infection_edges[800]"
   ]
  },
  {
   "cell_type": "markdown",
   "metadata": {},
   "source": [
    "Generate graphs:"
   ]
  },
  {
   "cell_type": "code",
   "execution_count": 48,
   "metadata": {},
   "outputs": [],
   "source": [
    "infection_network_static = {time: nx.DiGraph(infection_edges[time]) for time in times}"
   ]
  },
  {
   "cell_type": "markdown",
   "metadata": {},
   "source": [
    "Add all nodes so that not just the infected but also the susceptible are in the graph:"
   ]
  },
  {
   "cell_type": "code",
   "execution_count": 67,
   "metadata": {},
   "outputs": [
    {
     "name": "stdout",
     "output_type": "stream",
     "text": [
      "700  701  702  703  704  705  706  707  708  709  710  Wall time: 2min 37s\n"
     ]
    }
   ],
   "source": [
    "%%time\n",
    "for time in times[700:711]:\n",
    "    print(time, end = \"  \")\n",
    "    infection_network_static[time].add_nodes_from(humans_tc_with_infected['h_ID'])\n",
    "    save_zipped_pickle(obj = infection_network_static[time], filename = EXPORT_NX_PATH + str(time).zfill(3) + \".zip\")"
   ]
  },
  {
   "cell_type": "markdown",
   "metadata": {},
   "source": [
    "Draw graph at one time:"
   ]
  },
  {
   "cell_type": "code",
   "execution_count": 68,
   "metadata": {},
   "outputs": [],
   "source": [
    "example_time = 709"
   ]
  },
  {
   "cell_type": "code",
   "execution_count": 69,
   "metadata": {},
   "outputs": [],
   "source": [
    "edges = infection_network_static[example_time].edges()"
   ]
  },
  {
   "cell_type": "code",
   "execution_count": 70,
   "metadata": {},
   "outputs": [
    {
     "data": {
      "text/plain": [
       "43"
      ]
     },
     "execution_count": 70,
     "metadata": {},
     "output_type": "execute_result"
    }
   ],
   "source": [
    "len(edges)"
   ]
  },
  {
   "cell_type": "code",
   "execution_count": 71,
   "metadata": {},
   "outputs": [],
   "source": [
    "out_degrees = [infection_network_static[example_time].out_degree()[edge[0]] for edge in edges]"
   ]
  },
  {
   "cell_type": "code",
   "execution_count": 72,
   "metadata": {},
   "outputs": [
    {
     "data": {
      "text/plain": [
       "2"
      ]
     },
     "execution_count": 72,
     "metadata": {},
     "output_type": "execute_result"
    }
   ],
   "source": [
    "max(out_degrees)"
   ]
  },
  {
   "cell_type": "markdown",
   "metadata": {},
   "source": [
    "Define a colormap for the edges based on the degrees of the nodes (red = super spreader, green = low spreader):"
   ]
  },
  {
   "cell_type": "code",
   "execution_count": 73,
   "metadata": {},
   "outputs": [],
   "source": [
    "cdict = {'red':   [(0.0, 0.0, 0.0),  # red increases\n",
    "                   (1.0, 1.0, 1.0)],\n",
    "\n",
    "         'green': [(0.0, 1.0, 1.0),  # green decreases\n",
    "                   (1.0, 0.0, 0.0)],\n",
    "\n",
    "         'blue':  [(0.0, 0.0, 0.0),  # no blue at all\n",
    "                   (1.0, 0.0, 0.0)]}\n",
    "\n",
    "red_green_cm = matplotlib.colors.LinearSegmentedColormap('RedGreen', cdict, max(out_degrees))"
   ]
  },
  {
   "cell_type": "markdown",
   "metadata": {},
   "source": [
    "Get status of a node (not very safe because it depends on the expression returning only one value):"
   ]
  },
  {
   "cell_type": "code",
   "execution_count": 74,
   "metadata": {},
   "outputs": [],
   "source": [
    "def get_status(human_ID, time):\n",
    "    if pd.isnull(human_ID):\n",
    "        status = 'S'\n",
    "    elif human_ID not in humans_tc_with_infected.h_ID.values:\n",
    "        status = 'S'\n",
    "    else:\n",
    "        status = humans_tc_with_infected[(humans_tc_with_infected.h_ID == human_ID) & (humans_tc_with_infected.time == time)].status.values[0]\n",
    "\n",
    "    return status"
   ]
  },
  {
   "cell_type": "markdown",
   "metadata": {},
   "source": [
    "Test the function:"
   ]
  },
  {
   "cell_type": "code",
   "execution_count": 75,
   "metadata": {},
   "outputs": [
    {
     "data": {
      "text/plain": [
       "'S'"
      ]
     },
     "execution_count": 75,
     "metadata": {},
     "output_type": "execute_result"
    }
   ],
   "source": [
    "get_status(214, cutoff_time)"
   ]
  },
  {
   "cell_type": "markdown",
   "metadata": {},
   "source": [
    "The following cells take forever for large networks:"
   ]
  },
  {
   "cell_type": "raw",
   "metadata": {},
   "source": [
    "%%time\n",
    "node_colors = [status_colors[get_status(node, example_time)] for node in infection_network_static[example_time].nodes]"
   ]
  },
  {
   "cell_type": "raw",
   "metadata": {},
   "source": [
    "%%time\n",
    "pos = nx.spring_layout(infection_network_static[1]) # fix the layout at one time\n",
    "plt.figure(figsize = (15, 15))\n",
    "nx.draw_networkx_nodes(infection_network_static[example_time], pos, node_color = node_colors, node_size = 30)\n",
    "nx.draw_networkx_edges(infection_network_static[example_time], pos, width = 0.3, edge_color = out_degrees, edge_cmap = red_green_cm, arrows = True)\n",
    "plt.show()"
   ]
  },
  {
   "cell_type": "markdown",
   "metadata": {},
   "source": [
    "Save networks to `gml` (e.g. for visualization in Cytoscape):"
   ]
  },
  {
   "cell_type": "raw",
   "metadata": {},
   "source": [
    "%%time\n",
    "to_string = lambda x: str(x)\n",
    "\n",
    "for time in times:\n",
    "    time_three_digit = str(time).zfill(3)\n",
    "    nx.write_gml(infection_network_static[time], path = f\"{EXPORT_GML_PATH}_{time_three_digit}.gml\", stringizer = to_string)"
   ]
  },
  {
   "cell_type": "markdown",
   "metadata": {},
   "source": [
    "Careful, `gml` does not save the line widths or colors from the plot above."
   ]
  },
  {
   "cell_type": "code",
   "execution_count": null,
   "metadata": {},
   "outputs": [],
   "source": []
  }
 ],
 "metadata": {
  "kernelspec": {
   "display_name": "Python 3",
   "language": "python",
   "name": "python3"
  },
  "language_info": {
   "codemirror_mode": {
    "name": "ipython",
    "version": 3
   },
   "file_extension": ".py",
   "mimetype": "text/x-python",
   "name": "python",
   "nbconvert_exporter": "python",
   "pygments_lexer": "ipython3",
   "version": "3.7.6"
  }
 },
 "nbformat": 4,
 "nbformat_minor": 4
}
