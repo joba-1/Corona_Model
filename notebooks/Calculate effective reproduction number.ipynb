{
 "cells": [
  {
   "cell_type": "markdown",
   "metadata": {},
   "source": [
    "# Calculate effective reproduction number $R_e$"
   ]
  },
  {
   "cell_type": "code",
   "execution_count": 34,
   "metadata": {},
   "outputs": [],
   "source": [
    "import pandas as pd\n",
    "import numpy as np\n",
    "import matplotlib.pyplot as plt"
   ]
  },
  {
   "cell_type": "code",
   "execution_count": 2,
   "metadata": {},
   "outputs": [],
   "source": [
    "# IMPORT_HUMANS_PATH = '../outputs/humans_infected_time_course.csv'\n",
    "IMPORT_HUMANS_PATH = '../outputs/humans_infected_time_course_basic_scenario.csv'"
   ]
  },
  {
   "cell_type": "code",
   "execution_count": 3,
   "metadata": {},
   "outputs": [
    {
     "name": "stdout",
     "output_type": "stream",
     "text": [
      "Wall time: 17.2 s\n"
     ]
    }
   ],
   "source": [
    "%%time\n",
    "humans = pd.read_csv(IMPORT_HUMANS_PATH, sep = ';')"
   ]
  },
  {
   "cell_type": "code",
   "execution_count": 4,
   "metadata": {},
   "outputs": [
    {
     "data": {
      "text/html": [
       "<div>\n",
       "<style scoped>\n",
       "    .dataframe tbody tr th:only-of-type {\n",
       "        vertical-align: middle;\n",
       "    }\n",
       "\n",
       "    .dataframe tbody tr th {\n",
       "        vertical-align: top;\n",
       "    }\n",
       "\n",
       "    .dataframe thead th {\n",
       "        text-align: right;\n",
       "    }\n",
       "</style>\n",
       "<table border=\"1\" class=\"dataframe\">\n",
       "  <thead>\n",
       "    <tr style=\"text-align: right;\">\n",
       "      <th></th>\n",
       "      <th>h_ID</th>\n",
       "      <th>loc</th>\n",
       "      <th>status</th>\n",
       "      <th>WasInfected</th>\n",
       "      <th>Diagnosed</th>\n",
       "      <th>Hospitalized</th>\n",
       "      <th>ICUed</th>\n",
       "      <th>time</th>\n",
       "      <th>place_of_infection</th>\n",
       "      <th>infection_time</th>\n",
       "      <th>infected_by</th>\n",
       "    </tr>\n",
       "  </thead>\n",
       "  <tbody>\n",
       "    <tr>\n",
       "      <th>0</th>\n",
       "      <td>14298</td>\n",
       "      <td>4779</td>\n",
       "      <td>S</td>\n",
       "      <td>0</td>\n",
       "      <td>0</td>\n",
       "      <td>0</td>\n",
       "      <td>0</td>\n",
       "      <td>0</td>\n",
       "      <td>NaN</td>\n",
       "      <td>NaN</td>\n",
       "      <td>NaN</td>\n",
       "    </tr>\n",
       "    <tr>\n",
       "      <th>1</th>\n",
       "      <td>12027</td>\n",
       "      <td>4031</td>\n",
       "      <td>S</td>\n",
       "      <td>0</td>\n",
       "      <td>0</td>\n",
       "      <td>0</td>\n",
       "      <td>0</td>\n",
       "      <td>0</td>\n",
       "      <td>NaN</td>\n",
       "      <td>NaN</td>\n",
       "      <td>NaN</td>\n",
       "    </tr>\n",
       "    <tr>\n",
       "      <th>2</th>\n",
       "      <td>4033</td>\n",
       "      <td>1335</td>\n",
       "      <td>S</td>\n",
       "      <td>0</td>\n",
       "      <td>0</td>\n",
       "      <td>0</td>\n",
       "      <td>0</td>\n",
       "      <td>0</td>\n",
       "      <td>NaN</td>\n",
       "      <td>NaN</td>\n",
       "      <td>NaN</td>\n",
       "    </tr>\n",
       "    <tr>\n",
       "      <th>3</th>\n",
       "      <td>14300</td>\n",
       "      <td>4779</td>\n",
       "      <td>S</td>\n",
       "      <td>0</td>\n",
       "      <td>0</td>\n",
       "      <td>0</td>\n",
       "      <td>0</td>\n",
       "      <td>0</td>\n",
       "      <td>NaN</td>\n",
       "      <td>NaN</td>\n",
       "      <td>NaN</td>\n",
       "    </tr>\n",
       "    <tr>\n",
       "      <th>4</th>\n",
       "      <td>12032</td>\n",
       "      <td>4033</td>\n",
       "      <td>S</td>\n",
       "      <td>0</td>\n",
       "      <td>0</td>\n",
       "      <td>0</td>\n",
       "      <td>0</td>\n",
       "      <td>0</td>\n",
       "      <td>NaN</td>\n",
       "      <td>NaN</td>\n",
       "      <td>NaN</td>\n",
       "    </tr>\n",
       "  </tbody>\n",
       "</table>\n",
       "</div>"
      ],
      "text/plain": [
       "    h_ID   loc status  WasInfected  Diagnosed  Hospitalized  ICUed  time  \\\n",
       "0  14298  4779      S            0          0             0      0     0   \n",
       "1  12027  4031      S            0          0             0      0     0   \n",
       "2   4033  1335      S            0          0             0      0     0   \n",
       "3  14300  4779      S            0          0             0      0     0   \n",
       "4  12032  4033      S            0          0             0      0     0   \n",
       "\n",
       "   place_of_infection  infection_time  infected_by  \n",
       "0                 NaN             NaN          NaN  \n",
       "1                 NaN             NaN          NaN  \n",
       "2                 NaN             NaN          NaN  \n",
       "3                 NaN             NaN          NaN  \n",
       "4                 NaN             NaN          NaN  "
      ]
     },
     "execution_count": 4,
     "metadata": {},
     "output_type": "execute_result"
    }
   ],
   "source": [
    "humans.head()"
   ]
  },
  {
   "cell_type": "code",
   "execution_count": 5,
   "metadata": {},
   "outputs": [
    {
     "data": {
      "text/plain": [
       "(30050000, 11)"
      ]
     },
     "execution_count": 5,
     "metadata": {},
     "output_type": "execute_result"
    }
   ],
   "source": [
    "humans.shape"
   ]
  },
  {
   "cell_type": "markdown",
   "metadata": {},
   "source": [
    "We can only thoroughly calculate $R_e$ from closed cases (`R` and `D`)."
   ]
  },
  {
   "cell_type": "code",
   "execution_count": 6,
   "metadata": {},
   "outputs": [
    {
     "data": {
      "text/plain": [
       "array([    1,     2,     3, ..., 15023, 15024, 15025], dtype=int64)"
      ]
     },
     "execution_count": 6,
     "metadata": {},
     "output_type": "execute_result"
    }
   ],
   "source": [
    "closed_IDs = np.unique(humans[humans.status.isin(['R', 'D'])].h_ID.values)\n",
    "closed_IDs"
   ]
  },
  {
   "cell_type": "code",
   "execution_count": 7,
   "metadata": {},
   "outputs": [
    {
     "data": {
      "text/plain": [
       "1"
      ]
     },
     "execution_count": 7,
     "metadata": {},
     "output_type": "execute_result"
    }
   ],
   "source": [
    "closed_ID = closed_IDs[0]\n",
    "closed_ID"
   ]
  },
  {
   "cell_type": "markdown",
   "metadata": {},
   "source": [
    "How many humans were infected by `closed_ID`:"
   ]
  },
  {
   "cell_type": "code",
   "execution_count": 8,
   "metadata": {},
   "outputs": [
    {
     "data": {
      "text/plain": [
       "0"
      ]
     },
     "execution_count": 8,
     "metadata": {},
     "output_type": "execute_result"
    }
   ],
   "source": [
    "humans[humans.infected_by == closed_ID]['infected_by'].count()"
   ]
  },
  {
   "cell_type": "markdown",
   "metadata": {},
   "source": [
    "Superspreaders list:"
   ]
  },
  {
   "cell_type": "code",
   "execution_count": 12,
   "metadata": {},
   "outputs": [
    {
     "data": {
      "text/plain": [
       "infected_by\n",
       "10643.0    9\n",
       "8547.0     8\n",
       "13283.0    8\n",
       "857.0      8\n",
       "13495.0    8\n",
       "          ..\n",
       "8506.0     1\n",
       "8508.0     1\n",
       "8509.0     1\n",
       "8511.0     1\n",
       "2.0        1\n",
       "Name: h_ID, Length: 7688, dtype: int64"
      ]
     },
     "execution_count": 12,
     "metadata": {},
     "output_type": "execute_result"
    }
   ],
   "source": [
    "humans[humans.infected_by.isin(closed_IDs)].groupby('infected_by').count().h_ID.sort_values(ascending = False)"
   ]
  },
  {
   "cell_type": "markdown",
   "metadata": {},
   "source": [
    "Spread statistics:"
   ]
  },
  {
   "cell_type": "code",
   "execution_count": 13,
   "metadata": {},
   "outputs": [
    {
     "data": {
      "text/plain": [
       "count    7688.000000\n",
       "mean        1.773933\n",
       "std         1.072565\n",
       "min         1.000000\n",
       "25%         1.000000\n",
       "50%         1.000000\n",
       "75%         2.000000\n",
       "max         9.000000\n",
       "Name: h_ID, dtype: float64"
      ]
     },
     "execution_count": 13,
     "metadata": {},
     "output_type": "execute_result"
    }
   ],
   "source": [
    "humans[humans.infected_by.isin(closed_IDs)].groupby('infected_by').count().h_ID.describe()"
   ]
  },
  {
   "cell_type": "markdown",
   "metadata": {},
   "source": [
    "Effective reproduction number $R_e$:"
   ]
  },
  {
   "cell_type": "code",
   "execution_count": 14,
   "metadata": {},
   "outputs": [
    {
     "data": {
      "text/plain": [
       "1.7739334027055151"
      ]
     },
     "execution_count": 14,
     "metadata": {},
     "output_type": "execute_result"
    }
   ],
   "source": [
    "humans[humans.infected_by.isin(closed_IDs)].groupby('infected_by').count().h_ID.mean()"
   ]
  },
  {
   "cell_type": "markdown",
   "metadata": {},
   "source": [
    "Wrap all of this into a function:"
   ]
  },
  {
   "cell_type": "code",
   "execution_count": 15,
   "metadata": {},
   "outputs": [],
   "source": [
    "def effective_reproduction_number(humans):\n",
    "    closed_IDs = np.unique(humans[humans.status.isin(['R', 'D'])].h_ID.values)\n",
    "    r_e = humans[humans.infected_by.isin(closed_IDs)].groupby('infected_by').count().h_ID.mean()\n",
    "    \n",
    "    return r_e"
   ]
  },
  {
   "cell_type": "code",
   "execution_count": 17,
   "metadata": {},
   "outputs": [
    {
     "name": "stdout",
     "output_type": "stream",
     "text": [
      "Wall time: 6.3 s\n"
     ]
    },
    {
     "data": {
      "text/plain": [
       "1.7739334027055151"
      ]
     },
     "execution_count": 17,
     "metadata": {},
     "output_type": "execute_result"
    }
   ],
   "source": [
    "%%time\n",
    "effective_reproduction_number(humans)"
   ]
  },
  {
   "cell_type": "markdown",
   "metadata": {},
   "source": [
    "Condition on time; only allow infections that happened at or after `time`:"
   ]
  },
  {
   "cell_type": "code",
   "execution_count": 18,
   "metadata": {},
   "outputs": [],
   "source": [
    "def effective_reproduction_number_conditional(humans, time):\n",
    "    closed_IDs = np.unique(humans[humans.status.isin(['R', 'D'])].h_ID.values)\n",
    "    \n",
    "    relevant_humans = humans[humans.infection_time >= time]\n",
    "    r_e = relevant_humans[relevant_humans.infected_by.isin(closed_IDs)].groupby('infected_by').count().h_ID.mean()\n",
    "    \n",
    "    return r_e"
   ]
  },
  {
   "cell_type": "code",
   "execution_count": 19,
   "metadata": {},
   "outputs": [
    {
     "name": "stdout",
     "output_type": "stream",
     "text": [
      "Wall time: 3.13 s\n"
     ]
    },
    {
     "data": {
      "text/plain": [
       "1.7681669928245272"
      ]
     },
     "execution_count": 19,
     "metadata": {},
     "output_type": "execute_result"
    }
   ],
   "source": [
    "%%time\n",
    "effective_reproduction_number_conditional(humans, 200)"
   ]
  },
  {
   "cell_type": "markdown",
   "metadata": {},
   "source": [
    "Latest time in table:"
   ]
  },
  {
   "cell_type": "code",
   "execution_count": 21,
   "metadata": {},
   "outputs": [
    {
     "data": {
      "text/plain": [
       "1220.0"
      ]
     },
     "execution_count": 21,
     "metadata": {},
     "output_type": "execute_result"
    }
   ],
   "source": [
    "humans.infection_time.max()"
   ]
  },
  {
   "cell_type": "code",
   "execution_count": 64,
   "metadata": {},
   "outputs": [],
   "source": [
    "def effective_reproduction_number_conditional_window(humans, time, window_size):\n",
    "    maxtime = humans.infection_time.max()\n",
    "    \n",
    "    if time + window_size > maxtime:\n",
    "        print('Time window extends past maximum time in dataframe, returning NaN.')\n",
    "        return np.NaN\n",
    "\n",
    "    closed_IDs = np.unique(humans[humans.status.isin(['R', 'D'])].h_ID.values)\n",
    "    \n",
    "    relevant_humans = humans[(humans.infection_time >= time) & (humans.infection_time < time + window_size)]\n",
    "    r_e = relevant_humans[relevant_humans.infected_by.isin(closed_IDs)].groupby('infected_by').count().h_ID.mean()\n",
    "    \n",
    "    return r_e"
   ]
  },
  {
   "cell_type": "markdown",
   "metadata": {},
   "source": [
    "One week:"
   ]
  },
  {
   "cell_type": "code",
   "execution_count": 72,
   "metadata": {},
   "outputs": [],
   "source": [
    "window_size = 7 * 24"
   ]
  },
  {
   "cell_type": "code",
   "execution_count": 66,
   "metadata": {},
   "outputs": [
    {
     "name": "stdout",
     "output_type": "stream",
     "text": [
      "Wall time: 3.42 s\n"
     ]
    },
    {
     "data": {
      "text/plain": [
       "2.129129129129129"
      ]
     },
     "execution_count": 66,
     "metadata": {},
     "output_type": "execute_result"
    }
   ],
   "source": [
    "%%time\n",
    "effective_reproduction_number_conditional_window(humans, time = 200, window_size = week)"
   ]
  },
  {
   "cell_type": "code",
   "execution_count": 67,
   "metadata": {},
   "outputs": [],
   "source": [
    "xs = np.arange(0, 1200, 25)"
   ]
  },
  {
   "cell_type": "code",
   "execution_count": 68,
   "metadata": {},
   "outputs": [
    {
     "name": "stdout",
     "output_type": "stream",
     "text": [
      "Time window extends past maximum time in dataframe, returning NaN.\n",
      "Time window extends past maximum time in dataframe, returning NaN.\n",
      "Time window extends past maximum time in dataframe, returning NaN.\n",
      "Time window extends past maximum time in dataframe, returning NaN.\n",
      "Time window extends past maximum time in dataframe, returning NaN.\n",
      "Wall time: 2min 26s\n"
     ]
    }
   ],
   "source": [
    "%%time\n",
    "ys = [effective_reproduction_number_conditional_window(humans, time = x, window_size = window_size) for x in xs]"
   ]
  },
  {
   "cell_type": "code",
   "execution_count": 76,
   "metadata": {},
   "outputs": [
    {
     "data": {
      "image/png": "[encoded data removed]",
      "text/plain": [
       "<Figure size 1080x720 with 1 Axes>"
      ]
     },
     "metadata": {
      "needs_background": "light"
     },
     "output_type": "display_data"
    }
   ],
   "source": [
    "fig = plt.figure(figsize = (15, 10))\n",
    "\n",
    "plt.rcParams.update({'font.size': 22})\n",
    "plt.plot(xs, ys)\n",
    "fig.gca().set_ylim(bottom = 0) # start y axis at 0\n",
    "\n",
    "plt.xlabel(\"time [h]\")\n",
    "plt.ylabel(f\"$R_\\mathrm{{eff}}$ with window size {window_size / 24} days\")\n",
    "\n",
    "plt.show()"
   ]
  },
  {
   "cell_type": "code",
   "execution_count": null,
   "metadata": {},
   "outputs": [],
   "source": []
  }
 ],
 "metadata": {
  "kernelspec": {
   "display_name": "Python 3",
   "language": "python",
   "name": "python3"
  },
  "language_info": {
   "codemirror_mode": {
    "name": "ipython",
    "version": 3
   },
   "file_extension": ".py",
   "mimetype": "text/x-python",
   "name": "python",
   "nbconvert_exporter": "python",
   "pygments_lexer": "ipython3",
   "version": "3.7.6"
  }
 },
 "nbformat": 4,
 "nbformat_minor": 4
}
