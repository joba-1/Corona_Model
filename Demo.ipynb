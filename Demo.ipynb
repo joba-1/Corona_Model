{
 "cells": [
  {
   "cell_type": "code",
   "execution_count": 55,
   "metadata": {
    "pycharm": {
     "is_executing": false
    }
   },
   "outputs": [
    {
     "name": "stdout",
     "output_type": "stream",
     "text": [
      "The autoreload extension is already loaded. To reload it, use:\n",
      "  %reload_ext autoreload\n"
     ]
    }
   ],
   "source": [
    "from virusPropagationModel import *\n",
    "import VPM_plotting as vpm_plot\n",
    "%matplotlib inline\n",
    "%load_ext autoreload\n",
    "import glob\n",
    "import os\n",
    "import matplotlib.pyplot as plt\n",
    "import pandas as pd\n",
    "import seaborn as sns\n",
    "import matplotlib.cm as cm\n",
    "#%load_ext memory_profiler"
   ]
  },
  {
   "cell_type": "code",
   "execution_count": 56,
   "metadata": {},
   "outputs": [],
   "source": [
    "geopath = 'datafiles/'\n",
    "geofiles = {0:'Buildings_Gangelt_MA_1.csv',\n",
    "            1:'Buildings_Gangelt_MA_3.csv',\n",
    "           }         "
   ]
  },
  {
   "cell_type": "markdown",
   "metadata": {},
   "source": [
    "###### initialize small Gangelt"
   ]
  },
  {
   "cell_type": "code",
   "execution_count": 57,
   "metadata": {},
   "outputs": [],
   "source": [
    "pick = 1"
   ]
  },
  {
   "cell_type": "code",
   "execution_count": 58,
   "metadata": {},
   "outputs": [],
   "source": [
    "#%reload_ext autoreload not working with pickel "
   ]
  },
  {
   "cell_type": "code",
   "execution_count": 59,
   "metadata": {},
   "outputs": [
    {
     "name": "stdout",
     "output_type": "stream",
     "text": [
      "Number of agents: 1036\n"
     ]
    }
   ],
   "source": [
    "modeledWorld1 = ModeledPopulatedWorld(1000,4, world_from_file=True, geofile_name=geopath+geofiles[pick], agent_agent_infection=True, input_schedules='schedules_v2')\n",
    "n_people = modeledWorld1.number_of_people\n",
    "print('Number of agents: '+ str(n_people))"
   ]
  },
  {
   "cell_type": "code",
   "execution_count": null,
   "metadata": {},
   "outputs": [],
   "source": [
    "#modeledWorld1.save(geofiles[pick].split('_')[1])"
   ]
  },
  {
   "cell_type": "markdown",
   "metadata": {},
   "source": [
    "###### initialize large Gangelt"
   ]
  },
  {
   "cell_type": "code",
   "execution_count": null,
   "metadata": {},
   "outputs": [],
   "source": [
    "modeledWorld2 = ModeledPopulatedWorld(1000,4, world_from_file=True, geofile_name=geopath+geofiles[4], agent_agent_infection=True, input_schedules='schedules_v2')\n",
    "n_people = modeledWorld2.number_of_people\n",
    "print('Number of agents: '+ str(n_people))\n"
   ]
  },
  {
   "cell_type": "markdown",
   "metadata": {},
   "source": [
    "### Modeled World "
   ]
  },
  {
   "cell_type": "markdown",
   "metadata": {},
   "source": [
    "##### Information Dataframes for agents and locations"
   ]
  },
  {
   "cell_type": "code",
   "execution_count": null,
   "metadata": {},
   "outputs": [],
   "source": [
    "modeledWorld1.plot_initial_distribution_of_ages_and_infected(age_groups_step=10)"
   ]
  },
  {
   "cell_type": "code",
   "execution_count": null,
   "metadata": {},
   "outputs": [],
   "source": [
    "df_loc = modeledWorld1.get_agent_info()\n",
    "df_loc.head(4)"
   ]
  },
  {
   "cell_type": "code",
   "execution_count": null,
   "metadata": {},
   "outputs": [],
   "source": [
    "df_ag = modeledWorld1.get_location_info()\n",
    "df_ag.head(4)"
   ]
  },
  {
   "cell_type": "code",
   "execution_count": 30,
   "metadata": {
    "scrolled": true
   },
   "outputs": [
    {
     "data": {
      "text/html": [
       "<div>\n",
       "<style scoped>\n",
       "    .dataframe tbody tr th:only-of-type {\n",
       "        vertical-align: middle;\n",
       "    }\n",
       "\n",
       "    .dataframe tbody tr th {\n",
       "        vertical-align: top;\n",
       "    }\n",
       "\n",
       "    .dataframe thead th {\n",
       "        text-align: right;\n",
       "    }\n",
       "</style>\n",
       "<table border=\"1\" class=\"dataframe\">\n",
       "  <thead>\n",
       "    <tr style=\"text-align: right;\">\n",
       "      <th></th>\n",
       "      <th>hospital</th>\n",
       "      <th>morgue</th>\n",
       "      <th>mixing_loc</th>\n",
       "      <th>work</th>\n",
       "      <th>public</th>\n",
       "      <th>school</th>\n",
       "      <th>home</th>\n",
       "    </tr>\n",
       "  </thead>\n",
       "  <tbody>\n",
       "    <tr>\n",
       "      <th>0</th>\n",
       "      <td>1</td>\n",
       "      <td>1</td>\n",
       "      <td>1</td>\n",
       "      <td>47</td>\n",
       "      <td>22</td>\n",
       "      <td>2</td>\n",
       "      <td>490</td>\n",
       "    </tr>\n",
       "  </tbody>\n",
       "</table>\n",
       "</div>"
      ],
      "text/plain": [
       "   hospital  morgue  mixing_loc  work  public  school  home\n",
       "0         1       1           1    47      22       2   490"
      ]
     },
     "execution_count": 30,
     "metadata": {},
     "output_type": "execute_result"
    }
   ],
   "source": [
    "modeledWorld1.get_distribution_of_location_types()"
   ]
  },
  {
   "cell_type": "code",
   "execution_count": null,
   "metadata": {},
   "outputs": [],
   "source": [
    "modeledWorld2.get_distribution_of_schedule_types(relative=True)"
   ]
  },
  {
   "cell_type": "code",
   "execution_count": null,
   "metadata": {},
   "outputs": [],
   "source": [
    "modeledWorld1.plot_locations_and_schedules(locs_to_hide=['home','mixing_loc'])"
   ]
  },
  {
   "cell_type": "code",
   "execution_count": null,
   "metadata": {},
   "outputs": [],
   "source": [
    "modeledWorld1.plot_locations_and_schedules(locs_to_hide=['home','mixing_loc'])"
   ]
  },
  {
   "cell_type": "markdown",
   "metadata": {},
   "source": [
    "### simulations\n",
    "add description and instructions"
   ]
  },
  {
   "cell_type": "code",
   "execution_count": null,
   "metadata": {},
   "outputs": [],
   "source": [
    "simulation_inf_ini = Simulation(modeledWorld1,400,run_immediately=False)\n",
    "simulation_inf_ini.change_agent_attributes({'all':{'behaviour_as_infected':{'value':0.3,'type':'replacement'}}})\n",
    "simulation_inf_ini.interaction_frequency=2\n",
    "%prun -s cumtime simulation_inf_ini.simulate()\n",
    "simulation2 = Simulation(simulation_inf_ini,100)"
   ]
  },
  {
   "cell_type": "code",
   "execution_count": null,
   "metadata": {},
   "outputs": [],
   "source": [
    "simulation2 = Simulation(modeledWorld1,400,run_immediately=False)\n",
    "simulation2.change_agent_attributes({'all':{'behaviour_as_infected':{'value':0.3,'type':'replacement'}}})\n",
    "simulation2.interaction_frequency=2\n",
    "simulation2.simulate()\n",
    "simulation2.plot_infections_per_schedule_type_delta(modeledWorld1,relative=False, label_offset=0.04, title='all infections')\n",
    "simulation2.plot_infections_per_schedule_type_delta(modeledWorld1,relative=False, fraction_most_infectious=0.1, title='10% most infectious', label_offset=0.02)\n",
    "simulation2.plot_infections_per_location_type_delta(modeledWorld1,relative=False, label_offset=0.04)"
   ]
  },
  {
   "cell_type": "markdown",
   "metadata": {},
   "source": [
    "##### homogenous mixing"
   ]
  },
  {
   "cell_type": "code",
   "execution_count": null,
   "metadata": {},
   "outputs": [],
   "source": [
    "simulation3=Simulation(modeledWorld1,500,run_immediately=False)\n",
    "simulation3.change_agent_attributes({'all':{'behaviour_as_infected':{'value':0.3,'type':'replacement'}}})\n",
    "simulation3.interaction_frequency=2\n",
    "simulation3.set_homogeneous_mixing()\n",
    "simulation3.simulate()\n",
    "simulation3.plot_infections_per_schedule_type_delta(modeledWorld1,relative=False, label_offset=0.04, title='all infections')\n",
    "simulation3.plot_infections_per_schedule_type_delta(modeledWorld1,relative=False, fraction_most_infectious=0.1, title='10% most infectious', label_offset=0.02)\n",
    "simulation3.plot_infections_per_location_type_delta(modeledWorld1,relative=False, label_offset=0.04)"
   ]
  },
  {
   "cell_type": "code",
   "execution_count": null,
   "metadata": {
    "scrolled": true
   },
   "outputs": [],
   "source": [
    "simulation3.plot_status_at_location()"
   ]
  },
  {
   "cell_type": "markdown",
   "metadata": {},
   "source": [
    "#####  contact informations "
   ]
  },
  {
   "cell_type": "code",
   "execution_count": null,
   "metadata": {},
   "outputs": [],
   "source": [
    "df1, df2 = simulation2.get_contact_distributions(max_t=168)"
   ]
  },
  {
   "cell_type": "code",
   "execution_count": null,
   "metadata": {},
   "outputs": [],
   "source": [
    "df1.head(4)"
   ]
  },
  {
   "cell_type": "code",
   "execution_count": null,
   "metadata": {},
   "outputs": [],
   "source": [
    "df2.head(4)"
   ]
  },
  {
   "cell_type": "markdown",
   "metadata": {},
   "source": [
    "###### infection informations"
   ]
  },
  {
   "cell_type": "code",
   "execution_count": null,
   "metadata": {},
   "outputs": [],
   "source": [
    "simulation2.plot_infections_per_location_type_over_time()"
   ]
  },
  {
   "cell_type": "code",
   "execution_count": null,
   "metadata": {
    "scrolled": true
   },
   "outputs": [],
   "source": [
    "simulation2.plot_location_type_occupancy_timecourse(specific_types=['public'])"
   ]
  },
  {
   "cell_type": "code",
   "execution_count": null,
   "metadata": {},
   "outputs": [],
   "source": [
    "simulation2.plot_location_type_occupancy_timecourse(specific_types=['work'])"
   ]
  },
  {
   "cell_type": "code",
   "execution_count": null,
   "metadata": {},
   "outputs": [],
   "source": [
    "contact_df = simulation2.get_contact_distributions()"
   ]
  },
  {
   "cell_type": "markdown",
   "metadata": {},
   "source": [
    "### equal interaction frequency"
   ]
  },
  {
   "cell_type": "code",
   "execution_count": null,
   "metadata": {},
   "outputs": [],
   "source": [
    "simulation1 = Simulation(modeledWorld1,1000,run_immediately=False)\n",
    "simulation1.change_agent_attributes({'all':{'behaviour_as_infected':{'value':0.3,'type':'replacement'}}})\n",
    "simulation1.interaction_frequency=2\n",
    "simulation1.simulate()"
   ]
  },
  {
   "cell_type": "code",
   "execution_count": null,
   "metadata": {},
   "outputs": [],
   "source": [
    "print('mean IF: '+ str(sum([p.interaction_modifier for p in simulation1.people])/n_people))\n",
    "simulation1.plot_status_timecourse()"
   ]
  },
  {
   "cell_type": "code",
   "execution_count": null,
   "metadata": {},
   "outputs": [],
   "source": [
    "simulation1.plot_infections_per_location_type_delta(modeledWorld1)\n",
    "simulation1.plot_infections_per_schedule_type_delta(modeledWorld1)"
   ]
  },
  {
   "cell_type": "code",
   "execution_count": null,
   "metadata": {},
   "outputs": [],
   "source": [
    "IF = 2 \n",
    "\n",
    "#def set_IM(IM, Id_list):\n",
    "#    n_1 = [p.IF=1 for p in modeledWorld1.people if p in Id_list]\n",
    "    "
   ]
  },
  {
   "cell_type": "markdown",
   "metadata": {},
   "source": [
    "### increased  interaction frequency for young agents"
   ]
  },
  {
   "cell_type": "code",
   "execution_count": null,
   "metadata": {},
   "outputs": [],
   "source": [
    "im = 1.5 # set interaction_modifier of agents to im \n",
    "min_age = -1\n",
    "max_age = 26\n",
    "p_subset_ids = [p.ID for p in world.people if (p.age > min_age) & (p.age < max_age)]\n",
    "modeledworld1.set_im_for_subset(im, id_list=p_subset_ids, keep_average=True)\n"
   ]
  },
  {
   "cell_type": "markdown",
   "metadata": {},
   "source": [
    "test adjustment of interaction_modifier"
   ]
  },
  {
   "cell_type": "code",
   "execution_count": null,
   "metadata": {},
   "outputs": [],
   "source": [
    "agent_info_df = modeledWorld1.get_agent_info()\n",
    "agent_info_df.groupby('Interaction Modifier').count()"
   ]
  },
  {
   "cell_type": "code",
   "execution_count": null,
   "metadata": {
    "scrolled": false
   },
   "outputs": [],
   "source": [
    "age = 25\n",
    "n_people = modeledWorld1.number_of_people\n",
    "#kids = [p.ID for p in modeledWorld1.people if p.age<25]\n",
    "#n_kids = len(kids)\n",
    "rest = [p.ID for p in modeledWorld1.people if p.age>20]\n",
    "n_rest = (len(rest))\n",
    "if_rest = (1 - IF)*n_people/n_rest+IF #(1*n_people - if_kids*(n_people-n_rest))/*n_rest =\n",
    "simulation2 = Simulation(modeledWorld1, 500, run_immediately=False)\n",
    "simulation2.change_agent_attributes({'all':{'behaviour_as_infected':{'value':0.3,'type':'replacement'}}}) \n",
    "[setattr(p, 'interaction_modifier', IF ) for p in simulation2.people if p.age<age+1]\n",
    "[setattr(p, 'interaction_modifier', if_rest ) for p in simulation2.people if p.age>age]\n",
    "simulation2.interaction_frequency = 2\n",
    "simulation2.simulate()"
   ]
  },
  {
   "cell_type": "code",
   "execution_count": null,
   "metadata": {},
   "outputs": [],
   "source": [
    "str(sum([p.interaction_modifier for p in simulation2.people])/n_people)"
   ]
  },
  {
   "cell_type": "code",
   "execution_count": null,
   "metadata": {},
   "outputs": [],
   "source": [
    "print('mean IF: '+ str(sum([p.interaction_modifier for p in simulation2.people])/n_people))\n",
    "print('IF: ' + str(IF))\n",
    "print('IF_REST: ' + str(if_rest))\n",
    "print('ratio of people with increased IF:'+str(1-n_rest/n_people))\n",
    "simulation2.plot_status_timecourse()"
   ]
  },
  {
   "cell_type": "code",
   "execution_count": null,
   "metadata": {
    "scrolled": false
   },
   "outputs": [],
   "source": [
    "simulation2.plot_infections_per_location_type_delta(modeledWorld1)\n",
    "simulation2.plot_infections_per_schedule_type_delta(modeledWorld1)"
   ]
  },
  {
   "cell_type": "markdown",
   "metadata": {},
   "source": [
    "### decreased  interaction frequency for older agents "
   ]
  },
  {
   "cell_type": "code",
   "execution_count": null,
   "metadata": {
    "scrolled": false
   },
   "outputs": [],
   "source": [
    "IF=0.5\n",
    "age = 65\n",
    "n_people = modeledWorld1.number_of_people\n",
    "rest = [p.ID for p in modeledWorld1.people if p.age<age+1]\n",
    "n_rest = (len(rest))\n",
    "if_rest = (1 - IF)*n_people/n_rest+IF #(1*n_people - if_kids*(n_people-n_rest))/*n_rest =\n",
    "simulation3 = Simulation(modeledWorld1,1000,run_immediately=False)\n",
    "simulation3.change_agent_attributes({'all':{'behaviour_as_infected':{'value':0.3,'type':'replacement'}}}) \n",
    "[setattr(p, 'interaction_modifier', IF ) for p in simulation3.people if p.age>age]\n",
    "[setattr(p, 'interaction_modifier', if_rest ) for p in simulation3.people if p.age<age+1]\n",
    "simulation3.interaction_frequency = 2\n",
    "simulation3.simulate()"
   ]
  },
  {
   "cell_type": "code",
   "execution_count": null,
   "metadata": {},
   "outputs": [],
   "source": [
    "print('mean IF: '+ str(sum([p.interaction_modifier for p in simulation3.people])/n_people))\n",
    "print('IF: ' + str(IF))\n",
    "print('IF_REST: ' + str(if_rest))\n",
    "print('ratio of people with increased IF:'+str(1-n_rest/n_people))\n",
    "simulation3.plot_status_timecourse()"
   ]
  },
  {
   "cell_type": "code",
   "execution_count": null,
   "metadata": {
    "scrolled": false
   },
   "outputs": [],
   "source": [
    "#simulation3.plot_infections_per_location_type(relative_to_building_number=False)\n",
    "simulation3.plot_infections_per_location_type_delta(modeledWorld1)\n",
    "simulation3.plot_infections_per_schedule_type_delta(modeledWorld1)"
   ]
  },
  {
   "cell_type": "markdown",
   "metadata": {},
   "source": [
    "#### combined "
   ]
  },
  {
   "cell_type": "code",
   "execution_count": null,
   "metadata": {},
   "outputs": [],
   "source": [
    "fig,axes =plt.subplots(3,2, figsize=(8,10), sharex=True,)  #sharey=True)\n",
    "\n",
    "simulation1.plot_infections_per_location_type_delta(modeledWorld1, ax=axes[0][0], title='equal IF')\n",
    "simulation1.plot_infections_per_schedule_type_delta(modeledWorld1, ax=axes[0][1], title='equal IF')\n",
    "\n",
    "simulation2.plot_infections_per_location_type_delta(modeledWorld1, ax=axes[1][0], title='IF3 age <25')\n",
    "simulation2.plot_infections_per_schedule_type_delta(modeledWorld1, ax=axes[1][1], title='IF3 age <25')\n",
    "\n",
    "simulation3.plot_infections_per_location_type_delta(modeledWorld1, ax=axes[2][0], title='IF0.5 age >65')\n",
    "simulation3.plot_infections_per_schedule_type_delta(modeledWorld1, ax=axes[2][1], title='IF0.5 age >65')\n",
    "plt.tight_layout()"
   ]
  },
  {
   "cell_type": "code",
   "execution_count": null,
   "metadata": {},
   "outputs": [],
   "source": [
    "def set_im_for_subset(world, im, id_list, keep_average=True): \n",
    "    \n",
    "    [setattr(p, 'interaction_modifier', im ) for p in world.people if p.ID in id_list]\n",
    "    \n",
    "    if keep_average:\n",
    "        n_people = modeledWorld1.number_of_people\n",
    "        rest = [p.ID for p in modeledWorld1.people if p.ID not in id_list]\n",
    "        n_rest = len(rest)\n",
    "        im_rest = (1 - im)*n_people/n_rest+im\n",
    "        [setattr(p, 'interaction_modifier', im_rest ) for p in world.people if p.ID not in id_list]\n",
    "        \n",
    "def get_ids_in_agerange(world, age(()):\n",
    "                        pass\n",
    "    \n",
    "    \n",
    "\n",
    "    "
   ]
  },
  {
   "cell_type": "code",
   "execution_count": null,
   "metadata": {},
   "outputs": [],
   "source": [
    "\n",
    "\n",
    "mw = copy.deepcopy(modeledWorld1)\n",
    "l = np.arange(0,300,1)\n",
    "set_im_for_subset(mw, 2, l, keep_average=True) \n",
    "\n",
    "agent_info_list  = [{'ID':p.ID ,\n",
    "                     'Age':p.age ,\n",
    "                     'Home': p.home.ID,\n",
    "                     'Type':p.type,\n",
    "                     'Interaction Modifier': p.interaction_modifier}\n",
    "                    for p in mw.people]\n",
    "agent_info_df = pd.DataFrame(agent_info_list)\n",
    "agent_info_df.groupby('Interaction Modifier').count()\n",
    "\n"
   ]
  },
  {
   "cell_type": "markdown",
   "metadata": {},
   "source": [
    "### intercation frequence human dependent"
   ]
  },
  {
   "cell_type": "code",
   "execution_count": null,
   "metadata": {},
   "outputs": [],
   "source": [
    "time=125\n",
    "df_red= df_c[df_c['time']>time]\n",
    "df_all= df_red.groupby('infected_by_ID').count()\n",
    "df_all.sort_values(by='h_ID')/20#/len(df_list)\n"
   ]
  },
  {
   "cell_type": "code",
   "execution_count": null,
   "metadata": {},
   "outputs": [],
   "source": [
    "group_list = [x[x['time']>100].groupby('infected_by_ID').count().sort_values('h_ID') for x in df_list]"
   ]
  },
  {
   "cell_type": "code",
   "execution_count": null,
   "metadata": {},
   "outputs": [],
   "source": [
    "type_ratio_inf_dict.values()"
   ]
  },
  {
   "cell_type": "code",
   "execution_count": null,
   "metadata": {
    "scrolled": true
   },
   "outputs": [],
   "source": [
    "modeledWorld1."
   ]
  },
  {
   "cell_type": "code",
   "execution_count": null,
   "metadata": {},
   "outputs": [],
   "source": [
    "cmap = plt.get_cmap(\"Set3\")\n",
    "colors = cmap(np.arange(1,len(type_ratio_inf_dict.values())+3))\n",
    "\n",
    "plt.pie(type_ratio_inf_dict.values(),labels=type_ratio_inf_dict.keys(), radius=1, colors=colors,\n",
    "       wedgeprops=dict(width=1, edgecolor='w'))\n",
    "plt.savefig('plots/agents_types.png',bbox_inches='tight')"
   ]
  },
  {
   "cell_type": "code",
   "execution_count": null,
   "metadata": {
    "scrolled": false
   },
   "outputs": [],
   "source": [
    "fig, axes =plt.subplots(1,2,figsize=(8,4))\n",
    "ax1 = axes[0]\n",
    "ax2 = axes[1]\n",
    "ax1.set_ylim(0,0.6), ax2.set_ylim(0,0.6)\n",
    "\n",
    "##world\n",
    "types = set([p.type for p in world.people])\n",
    "n_people =  len(world.people)\n",
    "type_ratio_dict = {t: sum([1 for p in world.people if p.type==t])/n_people for t in types}\n",
    "df1 = pd.DataFrame([type_ratio_dict])\n",
    "df_m = df1.mean()\n",
    "df_m.columns=['']\n",
    "df_m.plot(kind='bar', ax=ax1)\n",
    "df_m.plot(kind='bar', ax=ax2)\n",
    "#axes[0].bar(range(len(type_ratio_dict)),type_ratio_dict.values())\n",
    "#axes[0].set_xticklabels(['']+list(type_ratio_dict.keys()), rotation=20)\n",
    "\n",
    "### most infected [1,2,3,4,]\n",
    "nr_most_inf_p = 100\n",
    "type_ratio_inf_list = []\n",
    "for df in group_list:\n",
    "    type_list_inf = [p.type for p in world.people if p.ID in df[:nr_most_inf_p].index.values]\n",
    "    type_ratio_inf_list.append({t: len([1 for x in type_list_inf if x==t])/nr_most_inf_p for t in types})\n",
    "df = pd.DataFrame(type_ratio_inf_list)    \n",
    "df.mean().plot(kind='bar', ax=ax1,color='r',alpha=0.5, title='most infectious agents')\n",
    "ax.set_ylabel('fraction')\n",
    "#axes[1].bar(range(len(type_ratio_inf_dict)),type_ratio_inf_dict.values())\n",
    "#axes[1].set_xticklabels(['']+list(type_ratio_inf_dict.keys()), rotation=20)\n",
    "plt.savefig('plots/most_infectious_agents.png',bbox_inches='tight')\n",
    "\n",
    "### most infected random\n",
    "nr_most_inf_p = 100\n",
    "type_ratio_inf_list = []\n",
    "for df in group_list:\n",
    "    type_list_inf = [p.type for p in world.people if p.ID in df[:nr_most_inf_p].index.values]\n",
    "    type_ratio_inf_list.append({t: len([1 for x in type_list_inf if x==t])/nr_most_inf_p for t in types})\n",
    "df = pd.DataFrame(type_ratio_inf_list)    \n",
    "df.mean().plot(kind='bar', ax=ax1,color='r',alpha=0.5, title='most infectious agents')\n",
    "ax.set_ylabel('fraction')\n",
    "#axes[1].bar(range(len(type_ratio_inf_dict)),type_ratio_inf_dict.values())\n",
    "#axes[1].set_xticklabels(['']+list(type_ratio_inf_dict.keys()), rotation=20)\n",
    "plt.savefig('plots/most_infectious_agents.png',bbox_inches='tight')"
   ]
  },
  {
   "cell_type": "code",
   "execution_count": null,
   "metadata": {},
   "outputs": [],
   "source": [
    "#plt.bar(range(len(type_ratio_dict)),type_ratio_dict.values())\n",
    "sns.pie(data=df)\n",
    "#plt.xticks(range(len(type_ratio_dict.keys())),list(type_ratio_dict.keys()), rotation=20)"
   ]
  },
  {
   "cell_type": "code",
   "execution_count": null,
   "metadata": {},
   "outputs": [],
   "source": [
    "#for df in group_list:\n",
    "# \n",
    "i=10\n",
    "group_list[0][-i:]\n",
    "#worldsV2Gangelt_MA_3_3_worldObj.pkl\n",
    "types = set([p.type for p in world.people])\n",
    "most_infectious_p = list(np.arange(6,120,4))\n",
    "cs=['r','b','k','g','r','b','k']\n",
    "\n",
    "for k,df in enumerate(group_list[1]):\n",
    "    l = []\n",
    "    for i in most_infectious_p:\n",
    "        l.append([p.type for p in world.people if p.ID in df[-i:].index.values])\n",
    "\n",
    "    l_dict = {}\n",
    "    for t in types:\n",
    "        l_dict[t]=[x.count(t) for x in l]\n",
    "\n",
    "    \n",
    "    for i,t in enumerate(l_dict):\n",
    "        plt.plot(most_infectious_p,np.array(l_dict[t])/most_infectious_p, label=t, c=cs[i],alpha=0.2)\n",
    "\n",
    "for t in types:\n",
    "    plt.plot(most_infectious_p,np.array(l_dict[t])/most_infectious_p, label=t, c=cs[i],alpha=0.2)"
   ]
  },
  {
   "cell_type": "code",
   "execution_count": null,
   "metadata": {
    "scrolled": true
   },
   "outputs": [],
   "source": [
    "fs= os.listdir(folder)\n",
    "df_list = [pd.read_csv(folder+f) for f in fs if 'information' in f]\n",
    "df_c =pd.concat(df_list, ignore_index=True, sort=True)\n",
    "\n",
    "df_new = df_c[df_c['time']>200].groupby('infected_by_ID').count()\n",
    "df_all = df_new.sort_values(by='h_ID')#/len(df_list)\n",
    "df_all"
   ]
  },
  {
   "cell_type": "code",
   "execution_count": null,
   "metadata": {},
   "outputs": [],
   "source": [
    "w_list = os.listdir('saved_objects/worldsV2/')\n",
    "world = load_simulation_object('worldsV2Gangelt_MA_3_3_worldObj.pkl', folder='saved_objects/worldsV2/')\n",
    "n_p = len(world.people)\n",
    "print(n_p)"
   ]
  },
  {
   "cell_type": "code",
   "execution_count": null,
   "metadata": {},
   "outputs": [],
   "source": [
    "#worldsV2Gangelt_MA_3_3_worldObj.pkl\n",
    "types = set([p.type for p in world.people])\n",
    "most_infectious_p = list(np.arange(6,120,4))\n",
    "l = []\n",
    "for i in most_infectious_p:\n",
    "    l.append([p.type for p in world.people if p.ID in df_all[-i:].index.values])\n",
    "\n",
    "    "
   ]
  },
  {
   "cell_type": "code",
   "execution_count": null,
   "metadata": {},
   "outputs": [],
   "source": [
    "l_dict = {}\n",
    "for t in types:\n",
    "    l_dict[t]=[x.count(t) for x in l]"
   ]
  },
  {
   "cell_type": "code",
   "execution_count": null,
   "metadata": {},
   "outputs": [],
   "source": [
    "cs=['r','b','k','g','r','b','k']\n",
    "for i,t in enumerate(l_dict):\n",
    "    plt.plot(most_infectious_p,np.array(l_dict[t])/most_infectious_p, label=t, c=cs[i])\n",
    "    #plt.plot(most_infectious_p, [sum([1 for p in world.people if p.type==t])/n_p]*len(most_infectious_p),'--',color=cs[i])\n",
    "    \n",
    "plt.legend(loc=(1.1,0.5))\n",
    "plt.xlabel('most infectious people')\n",
    "plt.ylabel('fraction of type')"
   ]
  },
  {
   "cell_type": "code",
   "execution_count": null,
   "metadata": {},
   "outputs": [],
   "source": [
    "import networkx as nx\n",
    "G = nx.Graph()\n",
    "for i in range(len(df_all)):\n",
    "    a=df.iloc[i]['h_ID']\n",
    "    b=df.iloc[i]['infected_by_ID']\n",
    "    G.add_edge(a, b)\n",
    "#G.add_edge('B', 'D', weight=2)\n",
    "#G.add_edge('A', 'C', weight=3)\n",
    "#G.add_edge('C', 'D', weight=4)\n",
    "#nx.shortest_path(G, 'A', 'D', weight='weight')\n",
    "#['A', 'B', 'D']"
   ]
  },
  {
   "cell_type": "code",
   "execution_count": null,
   "metadata": {},
   "outputs": [],
   "source": [
    "nx.to_edgelist(G)"
   ]
  },
  {
   "cell_type": "code",
   "execution_count": null,
   "metadata": {},
   "outputs": [],
   "source": [
    "nx.draw(G, font_weight='bold', size=1, pos=nx.spring_layout(G))"
   ]
  },
  {
   "cell_type": "markdown",
   "metadata": {},
   "source": [
    "### Rest"
   ]
  },
  {
   "cell_type": "code",
   "execution_count": null,
   "metadata": {},
   "outputs": [],
   "source": [
    "normal = [p.interaction_modifier for p in simulation1.people]\n",
    "kids = [p.interaction_modifier for p in simulation2.people]\n",
    "old = [p.interaction_modifier for p in simulation3.people]\n",
    "print('normal:'+str(sum(normal))+'  kids:'+str(sum(kids))+'  old:'+str(sum(old)))"
   ]
  },
  {
   "cell_type": "code",
   "execution_count": null,
   "metadata": {},
   "outputs": [],
   "source": [
    "simulation1.map_status_at_loc()"
   ]
  },
  {
   "cell_type": "code",
   "execution_count": null,
   "metadata": {
    "scrolled": true
   },
   "outputs": [],
   "source": [
    "simulation1.plot_status_at_location()"
   ]
  },
  {
   "cell_type": "code",
   "execution_count": null,
   "metadata": {},
   "outputs": [],
   "source": [
    "mu_list=np.arange(1,79,20)\n",
    "mu_dict={}\n",
    "mu_list"
   ]
  },
  {
   "cell_type": "code",
   "execution_count": null,
   "metadata": {},
   "outputs": [],
   "source": [
    "simulation1 = Simulation(modeledWorld1,800,run_immediately=False)\n",
    "simulation1.change_agent_attributes({'all':{'behaviour_as_infected':{'value':0.3,'type':'replacement'}}})\n",
    "simulation1.interaction_frequency=5\n",
    "simulation1.simulate()\n",
    "\n",
    "for p in list(simulation1.people):\n",
    "    p.stay_home_instead_of_going_to('work')\n",
    "    p.stay_home_instead_of_going_to('school')\n",
    "    p.stay_home_instead_of_going_to('public')\n",
    "\n",
    "simulation1.time_steps=500\n",
    "simulation1.simulate()\n",
    "\n",
    "for p in list(simulation1.people):\n",
    "    p.reset_schedule()\n",
    "\n",
    "simulation1.time_steps=1000\n",
    "simulation1.simulate()\n",
    "simulation1.plot_status_timecourse()\n",
    "df= simulation1.simulation_timecourse\n",
    "### interactions\n",
    "ips=list(df['Interaction_partner'].values)\n",
    "connections =[len(step.split(',')) for step in ips if step !='']\n",
    "plt.hist(connections,bins=20)"
   ]
  },
  {
   "cell_type": "code",
   "execution_count": null,
   "metadata": {
    "scrolled": true
   },
   "outputs": [],
   "source": [
    "###plot ratio\n",
    "secondary_infs.sort(reverse=True)\n",
    "sum_inf = [sum(secondary_infs[0:x]) for x in range(len(secondary_infs))]\n",
    "plt.plot(np.array(list(range(len(secondary_infs))))/max(sum_inf),np.array(sum_inf)/max(sum_inf))\n",
    "plt.plot(np.array(list(range(len(secondary_infs))))/max(sum_inf),[0.7]*len(sum_inf), label='70%')\n",
    "plt.ylabel('fraction of secondary infections')\n",
    "plt.xlabel('')\n",
    "plt.legend()\n"
   ]
  },
  {
   "cell_type": "code",
   "execution_count": null,
   "metadata": {
    "scrolled": true
   },
   "outputs": [],
   "source": [
    "for dict_,k in enumerate([mu_dict, mu_dict_05]):\n",
    "    for mu in dict_:\n",
    "        df_1=mu_dict[mu]\n",
    "        df=df_1#df_1[df_1['time']<700]\n",
    "        infections = df[df['Infection_event']>0]\n",
    "        spreader = list(infections['Infection_event'].values)\n",
    "        spreader_ids=list(set(spreader))\n",
    "        secondary_infs=[spreader.count(x) for x in spreader_ids]\n",
    "        print(np.array(secondary_infs).mean())\n",
    "        print(np.array(secondary_infs).max())\n",
    "        #plt.figure(mu)\n",
    "        #plt.hist(secondary_infs, color='r')\n",
    "\n",
    "        ips=list(df['Interaction_partner'].values)\n",
    "        connections =[len(step.split(',')) for step in ips if step !='']\n",
    "        #plt.figure(mu+1)\n",
    "        #plt.hist(connections,bins=20)\n",
    "        #plt.title('mu: '+str(mu))\n",
    "\n",
    "        ###plot ratio\n",
    "        plt.figure(k)\n",
    "        secondary_infs.sort(reverse=True)\n",
    "        sum_inf = [sum(secondary_infs[0:x]) for x in range(len(secondary_infs))]\n",
    "        plt.plot(np.array(list(range(len(secondary_infs))))/max(sum_inf),np.array(sum_inf)/max(sum_inf), label=mu)\n",
    "\n",
    "        plt.ylabel('fraction of secondary infections')\n",
    "        plt.xlabel('')\n",
    "        plt.legend()\n",
    "    plt.figure(3)    \n",
    "    plt.plot(np.array(list(range(len(secondary_infs))))/max(sum_inf),[0.7]*len(sum_inf), label='70%')    \n",
    "    plt.plot(np.array(list(range(len(secondary_infs))))/max(sum_inf),[0.5]*len(sum_inf), label='50%') \n",
    "\n",
    "mu_dict_05"
   ]
  },
  {
   "cell_type": "code",
   "execution_count": null,
   "metadata": {},
   "outputs": [],
   "source": [
    "simulation1 = Simulation(modeledWorld1,800,run_immediately=False)\n",
    "simulation1.change_agent_attributes({'all':{'behaviour_as_infected':{'value':0.3,'type':'replacement'}}})\n",
    "simulation1.interaction_matrix=False\n",
    "simulation1.simulate()\n",
    "\n",
    "for p in list(simulation1.people):\n",
    "    p.stay_home_instead_of_going_to('work')\n",
    "    p.stay_home_instead_of_going_to('school')\n",
    "    p.stay_home_instead_of_going_to('public')\n",
    "\n",
    "simulation1.time_steps=500\n",
    "simulation1.simulate()\n",
    "\n",
    "for p in list(simulation1.people):\n",
    "    p.reset_schedule()\n",
    "\n",
    "simulation1.time_steps=1000\n",
    "simulation1.simulate()\n",
    "simulation1.plot_status_timecourse()\n",
    "\n",
    "### interactions\n",
    "df= simulation1.simulation_timecourse\n",
    "ips=list(df['Interaction_partner'].values)\n",
    "connections =[len(step.split(',')) for step in ips if step !='']\n",
    "plt.hist(connections, bins=20)"
   ]
  },
  {
   "cell_type": "code",
   "execution_count": null,
   "metadata": {},
   "outputs": [],
   "source": [
    "simulation1 = Simulation(modeledWorld1,200,run_immediately=False)\n",
    "simulation1.simulate()\n",
    "simulation1.plot_status_timecourse()"
   ]
  },
  {
   "cell_type": "code",
   "execution_count": null,
   "metadata": {},
   "outputs": [],
   "source": [
    "simulation2 = Simulation(modeledWorld1,1500,run_immediately=False)\n",
    "simulation2.change_agent_attributes({'all':{'behaviour_as_infected':{'value':0.3,'type':'replacement'}}})\n",
    "simulation2.interaction_matrix=False"
   ]
  },
  {
   "cell_type": "code",
   "execution_count": null,
   "metadata": {},
   "outputs": [],
   "source": [
    "simulation2.simulate()\n",
    "simulation2.plot_status_timecourse()"
   ]
  },
  {
   "cell_type": "code",
   "execution_count": null,
   "metadata": {},
   "outputs": [],
   "source": [
    "simulation1.save('Bad_Feilnbach_SIM', date_suffix=False )"
   ]
  },
  {
   "cell_type": "code",
   "execution_count": null,
   "metadata": {
    "scrolled": true
   },
   "outputs": [],
   "source": [
    "simulation1.plot_interaction_timecourse(save_figure=False, log=True, diagnosed_contact=False)\n",
    "simulation1.plot_interaction_timecourse(save_figure=False, log=True, diagnosed_contact=True)"
   ]
  },
  {
   "cell_type": "code",
   "execution_count": null,
   "metadata": {},
   "outputs": [],
   "source": [
    "simulation1.plot_status_timecourse(specific_people='medical_professional')"
   ]
  },
  {
   "cell_type": "code",
   "execution_count": null,
   "metadata": {
    "scrolled": true
   },
   "outputs": [],
   "source": [
    "simulation1.plot_flags_timecourse()"
   ]
  },
  {
   "cell_type": "code",
   "execution_count": null,
   "metadata": {},
   "outputs": [],
   "source": [
    "simulation2.plot_status_at_location()"
   ]
  },
  {
   "cell_type": "code",
   "execution_count": null,
   "metadata": {},
   "outputs": [],
   "source": [
    "simulation1.map_status_at_loc(save_figure=False,time_steps=1)"
   ]
  },
  {
   "cell_type": "code",
   "execution_count": null,
   "metadata": {},
   "outputs": [],
   "source": [
    "simulation1.plot_status_timecourse(specific_people='teacher')"
   ]
  },
  {
   "cell_type": "code",
   "execution_count": null,
   "metadata": {},
   "outputs": [],
   "source": [
    "simulation1.plot_age_groups_status_timecourse()"
   ]
  }
 ],
 "metadata": {
  "kernelspec": {
   "display_name": "Python 3",
   "language": "python",
   "name": "python3"
  },
  "language_info": {
   "codemirror_mode": {
    "name": "ipython",
    "version": 3
   },
   "file_extension": ".py",
   "mimetype": "text/x-python",
   "name": "python",
   "nbconvert_exporter": "python",
   "pygments_lexer": "ipython3",
   "version": "3.6.9"
  },
  "pycharm": {
   "stem_cell": {
    "cell_type": "raw",
    "metadata": {
     "collapsed": false
    },
    "source": []
   }
  }
 },
 "nbformat": 4,
 "nbformat_minor": 1
}
