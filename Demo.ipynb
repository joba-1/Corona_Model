{
 "cells": [
  {
   "cell_type": "code",
   "execution_count": null,
   "metadata": {},
   "outputs": [],
   "source": [
    "from virusPropagationModel import *\n",
    "import VPM_plotting as vpm_plot\n",
    "%matplotlib inline\n",
    "%load_ext autoreload\n",
    "import glob\n",
    "import os\n",
    "import matplotlib.pyplot as plt\n",
    "import pandas as pd\n",
    "import seaborn as sns\n",
    "import matplotlib.cm as cm\n",
    "#%load_ext memory_profiler"
   ]
  },
  {
   "cell_type": "code",
   "execution_count": null,
   "metadata": {},
   "outputs": [],
   "source": [
    "geopath = 'datafiles/'\n",
    "geofiles = {0:'Buildings_Gangelt_MA_1.csv',\n",
    "            1:'Buildings_Gangelt_MA_3.csv',\n",
    "           }         "
   ]
  },
  {
   "cell_type": "markdown",
   "metadata": {},
   "source": [
    "# Initiate world"
   ]
  },
  {
   "cell_type": "code",
   "execution_count": null,
   "metadata": {},
   "outputs": [],
   "source": [
    "world_to_pick = 1\n",
    "modeledWorld_small = ModeledPopulatedWorld(1000,4, world_from_file=True, geofile_name=geopath+geofiles[world_to_pick], agent_agent_infection=True, input_schedules='schedules_v2')\n",
    "n_people = modeledWorld_small.number_of_people\n",
    "print('Number of agents: '+ str(n_people))"
   ]
  },
  {
   "cell_type": "code",
   "execution_count": null,
   "metadata": {},
   "outputs": [],
   "source": [
    "world_to_pick = 0\n",
    "modeledWorld_large = ModeledPopulatedWorld(1000,4, world_from_file=True, geofile_name=geopath+geofiles[world_to_pick], agent_agent_infection=True, input_schedules='schedules_v2')\n",
    "n_people = modeledWorld_large.number_of_people\n",
    "print('Number of agents: '+ str(n_people))"
   ]
  },
  {
   "cell_type": "markdown",
   "metadata": {},
   "source": [
    "# Info on world"
   ]
  },
  {
   "cell_type": "code",
   "execution_count": null,
   "metadata": {},
   "outputs": [],
   "source": [
    "modeledWorld_small.plot_initial_distribution_of_ages_and_infected(age_groups_step=10)"
   ]
  },
  {
   "cell_type": "code",
   "execution_count": null,
   "metadata": {},
   "outputs": [],
   "source": [
    "df_loc = modeledWorld_small.get_agent_info()\n",
    "df_loc.head(4)"
   ]
  },
  {
   "cell_type": "code",
   "execution_count": null,
   "metadata": {},
   "outputs": [],
   "source": [
    "df_ag = modeledWorld_small.get_location_info()\n",
    "df_ag.head(4)"
   ]
  },
  {
   "cell_type": "code",
   "execution_count": null,
   "metadata": {},
   "outputs": [],
   "source": [
    "modeledWorld_small.get_distribution_of_location_types()"
   ]
  },
  {
   "cell_type": "code",
   "execution_count": null,
   "metadata": {},
   "outputs": [],
   "source": [
    "modeledWorld_small.plot_locations_and_schedules(locs_to_hide=['home','mixing_loc'])"
   ]
  },
  {
   "cell_type": "markdown",
   "metadata": {},
   "source": [
    "# Sample simulation"
   ]
  },
  {
   "cell_type": "code",
   "execution_count": null,
   "metadata": {},
   "outputs": [],
   "source": [
    "timesteps=400\n",
    "general_infectivity=0.3\n",
    "simulation_default_infectivity = Simulation(modeledWorld_small,timesteps,run_immediately=False)\n",
    "simulation_default_infectivity.change_agent_attributes({'all':{'behaviour_as_infected':{'value':general_infectivity,'type':'replacement'}}})\n",
    "simulation_default_infectivity.interaction_frequency=2\n",
    "simulation_default_infectivity.simulate()\n",
    "\n"
   ]
  },
  {
   "cell_type": "code",
   "execution_count": null,
   "metadata": {},
   "outputs": [],
   "source": [
    "simulation_default_infectivity.plot_status_timecourse()\n",
    "simulation_default_infectivity.plot_flags_timecourse()"
   ]
  },
  {
   "cell_type": "code",
   "execution_count": null,
   "metadata": {},
   "outputs": [],
   "source": [
    "simulation_default_infectivity.plot_age_groups_status_timecourse()"
   ]
  },
  {
   "cell_type": "code",
   "execution_count": null,
   "metadata": {},
   "outputs": [],
   "source": [
    "simulation_default_infectivity.plot_interaction_patterns()\n",
    "simulation_default_infectivity.plot_infection_patterns()"
   ]
  },
  {
   "cell_type": "code",
   "execution_count": null,
   "metadata": {},
   "outputs": [],
   "source": [
    "simulation_default_infectivity.plot_infections_per_schedule_type_delta(modeledWorld_small,relative=False, label_offset=0.04, title='all infections',save_figure=False)\n",
    "simulation_default_infectivity.plot_infections_per_schedule_type_delta(modeledWorld_small,relative=False, fraction_most_infectious=0.1, title='10% most infectious', label_offset=0.02,save_figure=False)\n",
    "simulation_default_infectivity.plot_infections_per_location_type_delta(modeledWorld_small,relative=False, label_offset=0.04,title='Infections per location-type',save_figure=False)"
   ]
  }
 ],
 "metadata": {
  "kernelspec": {
   "display_name": "Python 3",
   "language": "python",
   "name": "python3"
  },
  "language_info": {
   "codemirror_mode": {
    "name": "ipython",
    "version": 3
   },
   "file_extension": ".py",
   "mimetype": "text/x-python",
   "name": "python",
   "nbconvert_exporter": "python",
   "pygments_lexer": "ipython3",
   "version": "3.6.5"
  }
 },
 "nbformat": 4,
 "nbformat_minor": 2
}
