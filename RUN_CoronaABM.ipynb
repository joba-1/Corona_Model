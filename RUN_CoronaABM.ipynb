{
 "cells": [
  {
   "cell_type": "code",
   "execution_count": 3,
   "metadata": {
    "pycharm": {
     "is_executing": false
    }
   },
   "outputs": [],
   "source": [
    "from virusPropagationModel import *\n",
    "import pandas as pd\n",
    "import matplotlib.pyplot as plt\n",
    "%matplotlib inline "
   ]
  },
  {
   "cell_type": "code",
   "execution_count": 4,
   "metadata": {
    "pycharm": {
     "is_executing": false
    }
   },
   "outputs": [],
   "source": [
    "model = ModeledPopulatedWorld(100,400,5)"
   ]
  },
  {
   "cell_type": "code",
   "execution_count": 5,
   "metadata": {
    "pycharm": {
     "is_executing": false
    },
    "scrolled": true
   },
   "outputs": [
    {
     "ename": "AttributeError",
     "evalue": "'Simulation' object has no attribute 'head'",
     "output_type": "error",
     "traceback": [
      "\u001b[0;31m---------------------------------------------------------------------------\u001b[0m",
      "\u001b[0;31mAttributeError\u001b[0m                            Traceback (most recent call last)",
      "\u001b[0;32m<ipython-input-5-8026b5b3cc09>\u001b[0m in \u001b[0;36m<module>\u001b[0;34m()\u001b[0m\n\u001b[1;32m      1\u001b[0m \u001b[0msimulation1\u001b[0m \u001b[0;34m=\u001b[0m \u001b[0mSimulation\u001b[0m\u001b[0;34m(\u001b[0m\u001b[0mmodel\u001b[0m\u001b[0;34m,\u001b[0m\u001b[0;36m100\u001b[0m\u001b[0;34m)\u001b[0m\u001b[0;34m\u001b[0m\u001b[0;34m\u001b[0m\u001b[0m\n\u001b[0;32m----> 2\u001b[0;31m \u001b[0msimulation1\u001b[0m\u001b[0;34m.\u001b[0m\u001b[0mhead\u001b[0m\u001b[0;34m(\u001b[0m\u001b[0;34m)\u001b[0m\u001b[0;34m\u001b[0m\u001b[0;34m\u001b[0m\u001b[0m\n\u001b[0m",
      "\u001b[0;31mAttributeError\u001b[0m: 'Simulation' object has no attribute 'head'"
     ]
    }
   ],
   "source": [
    "simulation1 = Simulation(model,100)\n",
    "simulation1.head()\n"
   ]
  },
  {
   "cell_type": "code",
   "execution_count": null,
   "metadata": {
    "pycharm": {
     "is_executing": false
    }
   },
   "outputs": [],
   "source": [
    "#for x in ['S','I']:\n",
    "S =[(t,len(res[(res['time']==t) & (res['status']=='S')])) for t in res['time'].unique() ]\n",
    "I =[(t,len(res[(res['time']==t) & (res['status']=='I')])) for t in res['time'].unique() ]\n",
    "R =[(t,len(res[(res['time']==t) & (res['status']=='R')])) for t in res['time'].unique() ]\n",
    "D =[(t,len(res[(res['time']==t) & (res['status']=='D')])) for t in res['time'].unique() ]\n",
    "    "
   ]
  },
  {
   "cell_type": "code",
   "execution_count": null,
   "metadata": {
    "pycharm": {
     "is_executing": false
    }
   },
   "outputs": [],
   "source": [
    "dfS = pd.DataFrame(S, columns=['time', 'S'])\n",
    "plt.plot(dfS['time'].values, dfS['S'].values, label = 'Susceptible')\n",
    "dfI = pd.DataFrame(I, columns=['time', 'I'])\n",
    "plt.plot(dfI['time'].values, dfI['I'].values, label = 'Infected')\n",
    "dfR = pd.DataFrame(R, columns=['time', 'R'])\n",
    "plt.plot(dfI['time'].values, dfR['R'].values, label = 'Recovered')\n",
    "dfD = pd.DataFrame(D, columns=['time', 'D'])\n",
    "plt.plot(dfD['time'].values, dfD['D'].values, label = 'Dead')\n",
    "\n",
    "plt.plot(dfI['time'].values, dfR['R'].values+dfI['I'].values+dfS['S'].values + dfD['D'].values, label = 'Sum')\n",
    "plt.title('SecondPlot CoronaABM')\n",
    "plt.legend()\n",
    "plt.show()\n",
    "# plt.savefig('CoronaPlot.png')\n"
   ]
  },
  {
   "cell_type": "code",
   "execution_count": null,
   "metadata": {
    "pycharm": {
     "is_executing": false
    }
   },
   "outputs": [],
   "source": [
    "res[res['h_ID']==1].plot('time','loc')\n",
    "plt.title('schedule')"
   ]
  },
  {
   "cell_type": "code",
   "execution_count": null,
   "metadata": {
    "pycharm": {
     "is_executing": false
    },
    "scrolled": true
   },
   "outputs": [],
   "source": [
    "model.timecourse"
   ]
  },
  {
   "cell_type": "code",
   "execution_count": null,
   "metadata": {
    "pycharm": {
     "is_executing": false
    }
   },
   "outputs": [],
   "source": [
    "res = model.simulate(100)\n",
    "res"
   ]
  },
  {
   "cell_type": "code",
   "execution_count": null,
   "metadata": {
    "pycharm": {
     "is_executing": false
    }
   },
   "outputs": [],
   "source": []
  }
 ],
 "metadata": {
  "kernelspec": {
   "display_name": "Python 3",
   "language": "python",
   "name": "python3"
  },
  "language_info": {
   "codemirror_mode": {
    "name": "ipython",
    "version": 3
   },
   "file_extension": ".py",
   "mimetype": "text/x-python",
   "name": "python",
   "nbconvert_exporter": "python",
   "pygments_lexer": "ipython3",
   "version": "3.6.8"
  },
  "pycharm": {
   "stem_cell": {
    "cell_type": "raw",
    "metadata": {
     "collapsed": false
    },
    "source": []
   }
  }
 },
 "nbformat": 4,
 "nbformat_minor": 1
}
